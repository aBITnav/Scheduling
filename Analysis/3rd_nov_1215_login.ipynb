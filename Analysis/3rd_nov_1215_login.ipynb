{
 "cells": [
  {
   "cell_type": "markdown",
   "metadata": {},
   "source": [
    "## Result Analysis "
   ]
  },
  {
   "cell_type": "code",
   "execution_count": 29,
   "metadata": {},
   "outputs": [],
   "source": [
    "# imports \n",
    "from matplotlib import pyplot as plt\n",
    "%matplotlib inline\n",
    "import json"
   ]
  },
  {
   "cell_type": "code",
   "execution_count": 30,
   "metadata": {},
   "outputs": [],
   "source": [
    "with open('2ndnovember_shift_1215.json') as f:\n",
    "    employees = json.loads(f.read())\n",
    "\n",
    "with open('dist_matrix.json') as f:\n",
    "    distance_matrix = json.loads(f.read())\n",
    "\n",
    "    \n",
    "cab_types = ['INDICA', 'SUMO', 'TRAVELLER']\n",
    "price = [15, 15, 20]\n",
    "home_to_office_dist = [32396, 30741, 34848, 33956, 33956, 25656, 33593, 32478, 31763, 32349, 31908, 31539, 27389, 25691, 25974, 22072, 28146, 24379, 26005, 27953, 28205, 26611, 26834, 25776, 24799, 22712, 24400, 23946, 19095, 26269, 24329, 22565, 32495, 26405, 24789, 26341, 27352, 27530, 24633, 25104, 24096, 24135, 25363, 20546, 23082, 23894, 22587, 23289, 19271, 23261, 23261, 23261, 23456, 23799, 23928, 24060, 19224, 27080, 25894, 27383, 24611, 28565, 24938, 24168, 25758, 25424, 23010, 23109, 21605, 24427, 22205, 25063, 22565, 18718, 18082, 18995, 17173, 13403, 18519, 12571, 10361, 14312, 25150, 25592, 25588, 25771, 17563, 26345, 25414, 25190, 21541, 25782, 25227, 25152, 23256, 26559, 20198, 24193, 22143, 21248, 20600, 21389, 20099, 20583, 29724, 16662, 15306, 20180, 21031, 19898, 16224, 15226, 17070, 17997, 25064, 23195, 23765, 22172, 20607, 20998, 16949, 20366, 20739, 18685, 15446, 17299, 17632, 16630, 15571, 17395, 15754, 16249, 14229, 15707, 14645, 14329, 14552, 14598, 14544, 14121, 14720, 20774, 15831, 14397, 16404, 14715, 15018, 15332, 14375, 14375, 20443, 20963, 20415, 19677, 19390, 24039, 21148, 21108, 25468, 23524, 22419, 24094, 23237, 22222, 21279, 19767, 18480, 18498, 17356, 17819, 12256, 18246, 18246, 17633, 15638, 16340, 16378, 15456, 18865, 16953, 13330, 13506, 13531, 14522, 14543, 24840, 18567, 18528, 18528, 17969, 14484, 13621, 18467, 18474, 18622, 13566, 12299, 18891, 18365, 14973, 14404, 15775, 12299, 12267, 12267, 20029, 20158, 20391, 17923, 17927, 16969, 16725, 13101, 21143, 17620, 17758, 21921, 17858, 16987, 18173, 8866, 11092, 11940, 11380, 12588, 12969, 10888, 10934, 10433, 10423, 9351, 8783, 12198, 12258, 11511, 12135, 12098, 11167, 12395, 11533, 11983, 11544, 11584, 11836, 13068, 11735, 12067, 12067, 11118, 11118, 11118, 10922, 11130, 13204, 13337, 12577, 11781, 11609, 11592, 12614, 12067, 10522, 17888, 11839, 35769, 11738, 10762, 12597, 10268, 9958, 10377, 10386, 10386, 10278, 9446, 9446, 9434, 9615, 13410, 24542, 22517, 19263, 22602, 21802, 23054, 14160, 3173, 16492, 15436, 14939, 15419, 17039, 15089, 12200, 8269, 5718, 6746, 7719, 6528, 3201, 5090, 8660, 6139, 6020, 6154, 5968, 25459, 23698, 27167, 27961, 27392, 24634, 19395, 13265, 22073, 23888, 21832, 11983, 11983, 11983, 9589, 9589]"
   ]
  },
  {
   "cell_type": "markdown",
   "metadata": {},
   "source": [
    "### employee count"
   ]
  },
  {
   "cell_type": "code",
   "execution_count": 31,
   "metadata": {},
   "outputs": [
    {
     "data": {
      "text/plain": [
       "322"
      ]
     },
     "execution_count": 31,
     "metadata": {},
     "output_type": "execute_result"
    }
   ],
   "source": [
    "employee_count = len(employees)\n",
    "employee_count"
   ]
  },
  {
   "cell_type": "code",
   "execution_count": 32,
   "metadata": {},
   "outputs": [],
   "source": [
    "def get_seat(cab):\n",
    "    if cab is 'INDICA':\n",
    "        return 4\n",
    "    elif cab is 'SUMO':\n",
    "        return 6\n",
    "    else:\n",
    "        return 12"
   ]
  },
  {
   "cell_type": "code",
   "execution_count": 33,
   "metadata": {},
   "outputs": [],
   "source": [
    "def get_cab(n):\n",
    "    if n <=4:\n",
    "        return 'INDICA'\n",
    "    elif n <=6:\n",
    "        return 'SUMO'\n",
    "    else:\n",
    "        return 'TRAVELLER'"
   ]
  },
  {
   "cell_type": "code",
   "execution_count": 34,
   "metadata": {},
   "outputs": [],
   "source": [
    "def cab_occupancy(poools):\n",
    "    # pool_count_with_types\n",
    "    empcnt = 0 \n",
    "    pool_cnts = {}\n",
    "    for pool in poools:\n",
    "        if len(pool) not in pool_cnts:\n",
    "            pool_cnts[len(pool)] = 0\n",
    "        pool_cnts[len(pool)] += 1\n",
    "    ret = [0, 0, 0]\n",
    "    for k,val in pool_cnts.items():\n",
    "        print(\"{}           => {}\".format(str(k), str(val)))\n",
    "        if k <=4:\n",
    "            ret[0] += k * val\n",
    "        elif k<=6:\n",
    "            ret[1] += k*val\n",
    "        else:\n",
    "            ret[2] += k*val\n",
    "    return ret\n",
    "        "
   ]
  },
  {
   "cell_type": "code",
   "execution_count": 35,
   "metadata": {},
   "outputs": [],
   "source": [
    "def droute_dist(pool, employee_dists, employee_droute, employee_cabs):\n",
    "    rev = pool[::-1]\n",
    "    cur = rev[0]\n",
    "    idd = employees.index(cur)\n",
    "    total_dist = home_to_office_dist[idd]\n",
    "    employee_dists[idd] = total_dist\n",
    "    employee_droute[idd] = 1\n",
    "    droutes = [1]\n",
    "    cab = get_cab(len(pool))\n",
    "    employee_cabs[idd] = cab\n",
    "    for pick in rev[1:]:\n",
    "        idx = employees.index(cur)\n",
    "        p = employees.index(pick)\n",
    "        dis = distance_matrix[p][idx]\n",
    "        total_dist += dis\n",
    "        x = home_to_office_dist[p]\n",
    "        droute = (total_dist * 1.0) / x  \n",
    "        cur = pick\n",
    "        employee_dists[p] = total_dist\n",
    "        employee_droute[p] = droute\n",
    "        employee_cabs[p] = cab\n",
    "        droutes.append(droute)\n",
    "    return max(droutes), total_dist"
   ]
  },
  {
   "cell_type": "markdown",
   "metadata": {},
   "source": [
    "### Our Pools"
   ]
  },
  {
   "cell_type": "code",
   "execution_count": 36,
   "metadata": {},
   "outputs": [],
   "source": [
    "our_result = [[279, 284, 283, 280, 282, 281, 285, 286],\n",
    " [264, 59, 58, 315, 314, 312, 313, 266, 261, 321, 320],\n",
    " [293],\n",
    " [32, 37, 39, 34, 38, 47, 46, 262, 201, 200, 251],\n",
    " [2, 3, 4, 12, 5, 25, 141, 287, 288, 289, 290],\n",
    " [6, 7, 9, 10, 11, 8, 311, 81, 77, 79],\n",
    " [291, 292],\n",
    " [93, 69, 94, 214, 86, 210, 217, 219, 277, 299],\n",
    " [296],\n",
    " [35, 158, 165, 174, 181, 224, 226, 302, 305, 303],\n",
    " [295],\n",
    " [0, 1, 104, 26, 30, 27, 44, 175, 202, 196, 237],\n",
    " [61, 62, 63, 66, 222, 223, 221, 80, 272, 271, 273],\n",
    " [114, 115, 116, 118, 119, 117, 122, 121, 123, 113],\n",
    " [97, 98, 100, 107, 109, 112, 267, 268, 269, 270, 294],\n",
    " [75, 73, 78, 74, 76, 212, 254, 253, 259, 255],\n",
    " [209, 208, 211, 218, 215],\n",
    " [126, 129, 125, 120, 127, 131, 142, 133],\n",
    " [130, 128, 124, 134, 137, 138, 136, 135, 139, 132, 140],\n",
    " [105, 144, 110, 147, 106, 111, 145, 143, 148, 149, 146],\n",
    " [95, 42, 89, 92, 88, 91, 87, 85, 84, 83, 82],\n",
    " [90, 101, 108, 103, 96, 102, 99, 206, 205, 207],\n",
    " [64, 65, 71, 60, 307, 72, 70, 67, 316, 68],\n",
    " [20, 16, 19, 57, 18, 15, 216, 31],\n",
    " [161, 159, 162, 160, 163, 164, 172, 171, 173, 300],\n",
    " [309, 310, 308, 14, 13, 306],\n",
    " [29, 17, 48, 198, 28, 56, 199, 190, 191, 195, 278],\n",
    " [22, 21, 23, 24, 185],\n",
    " [41, 40, 54, 55, 155, 53, 52, 51, 49, 50, 45],\n",
    " [178, 166, 167, 227, 228, 229, 230, 301, 297, 298, 304],\n",
    " [36, 33, 244, 180, 225, 275, 274, 276, 220, 231],\n",
    " [238, 170, 232, 233, 235],\n",
    " [156, 157, 43, 243, 258, 234, 257, 256, 263, 260, 265],\n",
    " [242, 241, 239, 252, 250, 248, 249],\n",
    " [203, 204, 246, 247, 245, 319, 318, 240, 317, 236],\n",
    " [197, 187, 188, 189, 169, 168],\n",
    " [213, 151, 150, 152, 153, 154, 194, 193, 192, 186],\n",
    " [179, 176, 177, 183, 184, 182]]\n",
    "\n",
    "our_pools = [list(map(lambda i: employees[i], pool)) for pool in our_result]"
   ]
  },
  {
   "cell_type": "code",
   "execution_count": 37,
   "metadata": {},
   "outputs": [],
   "source": [
    "## our pool Count\n",
    "our_count = len(our_pools)\n",
    "our_cabs = list(map(lambda pool: get_cab(len(pool)), our_pools))\n",
    "our_cab_count = [our_cabs.count('INDICA'), our_cabs.count('SUMO'), our_cabs.count('TRAVELLER')]\n",
    "\n",
    "our_cab_wise_droutes = [[], [], []]\n",
    "our_cab_wise_dists = [0, 0, 0]\n",
    "our_employee_wise_droute = [0]*employee_count\n",
    "our_employee_wise_dists = [0]*employee_count\n",
    "our_employee_wise_cabs = ['']*employee_count\n",
    "for pool in our_pools:\n",
    "    droute, total_dist = droute_dist(pool, our_employee_wise_dists, our_employee_wise_droute, our_employee_wise_cabs)\n",
    "    if len(pool) <= 4:\n",
    "        i = 0\n",
    "    elif len(pool) <= 6:\n",
    "        i = 1\n",
    "    else:\n",
    "        i = 2\n",
    "    our_cab_wise_droutes[i].append(droute)\n",
    "    our_cab_wise_dists[i] += total_dist\n"
   ]
  },
  {
   "cell_type": "code",
   "execution_count": null,
   "metadata": {},
   "outputs": [],
   "source": []
  },
  {
   "cell_type": "markdown",
   "metadata": {},
   "source": [
    "### Their Pools"
   ]
  },
  {
   "cell_type": "code",
   "execution_count": null,
   "metadata": {},
   "outputs": [],
   "source": []
  },
  {
   "cell_type": "code",
   "execution_count": 38,
   "metadata": {},
   "outputs": [],
   "source": [
    "their_pools = []\n",
    "prev = employees[0]\n",
    "cur = [prev]\n",
    "for emp in employees[1:]:\n",
    "    if prev['serial_no'] >= emp['serial_no']:\n",
    "        their_pools.append(cur)\n",
    "        prev = emp \n",
    "        cur = [emp]\n",
    "    else:\n",
    "        cur.append(emp)\n",
    "\n",
    "if cur:\n",
    "    their_pools.append(cur)"
   ]
  },
  {
   "cell_type": "code",
   "execution_count": 39,
   "metadata": {},
   "outputs": [],
   "source": [
    "their_count = len(their_pools)\n",
    "their_cabs = list(map(lambda pool: get_cab(len(pool)), their_pools))\n",
    "their_cab_count = [their_cabs.count('INDICA'), their_cabs.count('SUMO'), their_cabs.count('TRAVELLER')]\n",
    "\n",
    "\n",
    "their_cab_wise_droutes = [[], [], []]\n",
    "their_cab_wise_dists = [0, 0, 0]\n",
    "their_employee_wise_droute = [0]*employee_count\n",
    "their_employee_wise_dists = [0]*employee_count\n",
    "their_employee_wise_cabs = ['']*employee_count\n",
    "for pool in their_pools:\n",
    "    droute, total_dist = droute_dist(pool, their_employee_wise_dists, their_employee_wise_droute, their_employee_wise_cabs)\n",
    "    if len(pool) <= 4:\n",
    "        i = 0\n",
    "    elif len(pool) <= 6:\n",
    "        i = 1\n",
    "    else:\n",
    "        i = 2\n",
    "    their_cab_wise_droutes[i].append(droute)\n",
    "    their_cab_wise_dists[i] += total_dist\n"
   ]
  },
  {
   "cell_type": "markdown",
   "metadata": {},
   "source": [
    "# COMPARISON STARTS HERE"
   ]
  },
  {
   "cell_type": "code",
   "execution_count": 40,
   "metadata": {},
   "outputs": [],
   "source": [
    "their_stats = {}\n",
    "our_stats = {}"
   ]
  },
  {
   "cell_type": "markdown",
   "metadata": {},
   "source": [
    "## Cab Count"
   ]
  },
  {
   "cell_type": "markdown",
   "metadata": {},
   "source": [
    "#### Their Cab Count"
   ]
  },
  {
   "cell_type": "code",
   "execution_count": 41,
   "metadata": {},
   "outputs": [
    {
     "name": "stdout",
     "output_type": "stream",
     "text": [
      "INDICA :34\n",
      "SUMO :14\n",
      "TRAVELLER :18\n"
     ]
    }
   ],
   "source": [
    "their_stats['cab_count'] = {}\n",
    "for tp, cnt in zip(cab_types, their_cab_count):\n",
    "    their_stats['cab_count'][tp] = cnt\n",
    "    print('{} :{}'.format(tp, cnt))"
   ]
  },
  {
   "cell_type": "markdown",
   "metadata": {},
   "source": [
    "#### Our Cab Count"
   ]
  },
  {
   "cell_type": "code",
   "execution_count": 42,
   "metadata": {},
   "outputs": [
    {
     "name": "stdout",
     "output_type": "stream",
     "text": [
      "INDICA :4\n",
      "SUMO :6\n",
      "TRAVELLER :28\n"
     ]
    }
   ],
   "source": [
    "our_stats['cab_count'] = {}\n",
    "for tp, cnt in zip(cab_types, our_cab_count):\n",
    "    our_stats['cab_count'][tp] = cnt\n",
    "    print('{} :{}'.format(tp, cnt))"
   ]
  },
  {
   "cell_type": "markdown",
   "metadata": {},
   "source": [
    "## Cab Wise TOTAL Distance Covered "
   ]
  },
  {
   "cell_type": "markdown",
   "metadata": {},
   "source": [
    "#### Theirs"
   ]
  },
  {
   "cell_type": "code",
   "execution_count": 43,
   "metadata": {},
   "outputs": [
    {
     "name": "stdout",
     "output_type": "stream",
     "text": [
      "~~~~~~~~~~~~~~~~~~TOTAL DISTANCE COVERED BY DIFFERENT CAB TYPES~~~~~~~~~~~~~~~~~\n",
      "INDICA :872.29868\n",
      "SUMO :455.906\n",
      "TRAVELLER :643.1962000000001\n"
     ]
    }
   ],
   "source": [
    "print(\"~~~~~~~~~~~~~~~~~~TOTAL DISTANCE COVERED BY DIFFERENT CAB TYPES~~~~~~~~~~~~~~~~~\")\n",
    "their_stats['cab_wise_distance'] = {}\n",
    "for tp, dist in zip(cab_types, their_cab_wise_dists):\n",
    "    print('{} :{}'.format(tp, dist/1000.0))\n",
    "    their_stats['cab_wise_distance'][tp] = dist/1000.0"
   ]
  },
  {
   "cell_type": "markdown",
   "metadata": {},
   "source": [
    "#### Ours"
   ]
  },
  {
   "cell_type": "code",
   "execution_count": 44,
   "metadata": {},
   "outputs": [
    {
     "name": "stdout",
     "output_type": "stream",
     "text": [
      "~~~~~~~~~~~~~~~~~~TOTAL DISTANCE COVERED BY DIFFERENT CAB TYPES~~~~~~~~~~~~~~~~~\n",
      "INDICA :42.129\n",
      "SUMO :136.302\n",
      "TRAVELLER :840.1518400000001\n"
     ]
    }
   ],
   "source": [
    "print(\"~~~~~~~~~~~~~~~~~~TOTAL DISTANCE COVERED BY DIFFERENT CAB TYPES~~~~~~~~~~~~~~~~~\")\n",
    "our_stats['cab_wise_distance'] = {}\n",
    "for tp, dist in zip(cab_types, our_cab_wise_dists):\n",
    "    print('{} :{}'.format(tp, dist/1000.0))\n",
    "    our_stats['cab_wise_distance'][tp] = dist/1000.0"
   ]
  },
  {
   "cell_type": "markdown",
   "metadata": {},
   "source": [
    "## Cab wise AVERAGE Distance Covered"
   ]
  },
  {
   "cell_type": "markdown",
   "metadata": {},
   "source": [
    "#### Theirs"
   ]
  },
  {
   "cell_type": "code",
   "execution_count": 45,
   "metadata": {
    "scrolled": true
   },
   "outputs": [
    {
     "name": "stdout",
     "output_type": "stream",
     "text": [
      "~~~~~~~~~~~~~~~~~~AVERAGE DISTANCE COVERED BY A SINGLE CAB OF DIFFERENT TYPES~~~~~~~~~~~~~~~~~\n",
      "INDICA :25.65584352941176\n",
      "SUMO :32.56471428571429\n",
      "TRAVELLER :35.73312222222223\n"
     ]
    }
   ],
   "source": [
    "print(\"~~~~~~~~~~~~~~~~~~AVERAGE DISTANCE COVERED BY A SINGLE CAB OF DIFFERENT TYPES~~~~~~~~~~~~~~~~~\")\n",
    "their_stats['cab_wise_avg_distance'] = {}\n",
    "for i in range(3):\n",
    "    print('{} :{}'.format(cab_types[i], their_cab_wise_dists[i]/(1000.0*their_cab_count[i])))  \n",
    "    their_stats['cab_wise_avg_distance'][cab_types[i]] = their_cab_wise_dists[i]/(1000.0*their_cab_count[i])"
   ]
  },
  {
   "cell_type": "code",
   "execution_count": 46,
   "metadata": {},
   "outputs": [
    {
     "name": "stdout",
     "output_type": "stream",
     "text": [
      "~~~~~~~~~~~~~~~~~~AVERAGE DISTANCE COVERED BY A SINGLE CAB OF DIFFERENT TYPES~~~~~~~~~~~~~~~~~\n",
      "INDICA :10.53225\n",
      "SUMO :22.717\n",
      "TRAVELLER :30.00542285714286\n"
     ]
    }
   ],
   "source": [
    "print(\"~~~~~~~~~~~~~~~~~~AVERAGE DISTANCE COVERED BY A SINGLE CAB OF DIFFERENT TYPES~~~~~~~~~~~~~~~~~\")\n",
    "our_stats['cab_wise_avg_distance'] = {}\n",
    "for i in range(3):\n",
    "    print('{} :{}'.format(cab_types[i], our_cab_wise_dists[i]/(1000.0*our_cab_count[i])))  \n",
    "    our_stats['cab_wise_avg_distance'][cab_types[i]] = our_cab_wise_dists[i]/(1000.0*our_cab_count[i])"
   ]
  },
  {
   "cell_type": "markdown",
   "metadata": {},
   "source": [
    "## Cab wise Price "
   ]
  },
  {
   "cell_type": "markdown",
   "metadata": {},
   "source": [
    "#### Theirs"
   ]
  },
  {
   "cell_type": "code",
   "execution_count": 47,
   "metadata": {},
   "outputs": [
    {
     "name": "stdout",
     "output_type": "stream",
     "text": [
      "~~~~~~~~~~~~~~~~~~TOTAL Price Paid For DIFFERENT CAB TYPES~~~~~~~~~~~~~~~~~\n",
      "INDICA :13084.4802\n",
      "SUMO :6838.59\n",
      "TRAVELLER :12863.924000000003\n",
      "Their Total Price: :32786.9942\n"
     ]
    }
   ],
   "source": [
    "print(\"~~~~~~~~~~~~~~~~~~TOTAL Price Paid For DIFFERENT CAB TYPES~~~~~~~~~~~~~~~~~\")\n",
    "their_stats['cab_type_price'] = {}\n",
    "their_total_price = 0\n",
    "for i in range(3):\n",
    "    prc = price[i]*(their_cab_wise_dists[i]/1000.0)\n",
    "    print('{} :{}'.format(cab_types[i],  prc))\n",
    "    their_stats['cab_type_price'][cab_types[i]] = prc\n",
    "    their_total_price += prc\n",
    "their_stats['total_price'] = their_total_price\n",
    "print('Their Total Price: :{}'.format(their_total_price))"
   ]
  },
  {
   "cell_type": "markdown",
   "metadata": {},
   "source": [
    "#### Ours"
   ]
  },
  {
   "cell_type": "code",
   "execution_count": 48,
   "metadata": {},
   "outputs": [
    {
     "name": "stdout",
     "output_type": "stream",
     "text": [
      "~~~~~~~~~~~~~~~~~~TOTAL Price Paid For DIFFERENT CAB TYPES~~~~~~~~~~~~~~~~~\n",
      "INDICA :631.935\n",
      "SUMO :2044.53\n",
      "TRAVELLER :16803.0368\n",
      "Our Total Price: :19479.501800000002\n"
     ]
    }
   ],
   "source": [
    "print(\"~~~~~~~~~~~~~~~~~~TOTAL Price Paid For DIFFERENT CAB TYPES~~~~~~~~~~~~~~~~~\")\n",
    "our_total_price = 0\n",
    "our_stats['cab_type_price'] = {}\n",
    "for i in range(3):\n",
    "    prc = price[i]*(our_cab_wise_dists[i]/1000.0)\n",
    "    our_stats['cab_type_price'][cab_types[i]] = prc\n",
    "    print('{} :{}'.format(cab_types[i],  prc))\n",
    "    our_total_price += prc\n",
    "our_stats['total_price'] = our_total_price\n",
    "print('Our Total Price: :{}'.format(our_total_price))"
   ]
  },
  {
   "cell_type": "markdown",
   "metadata": {},
   "source": [
    "#### Efficeincy Difference"
   ]
  },
  {
   "cell_type": "code",
   "execution_count": 49,
   "metadata": {},
   "outputs": [
    {
     "name": "stdout",
     "output_type": "stream",
     "text": [
      "Price Efficiency: 0.6831536317833342\n"
     ]
    }
   ],
   "source": [
    "price_efficiency = their_total_price / our_total_price - 1\n",
    "print(\"Price Efficiency: {}\".format(price_efficiency))"
   ]
  },
  {
   "cell_type": "markdown",
   "metadata": {},
   "source": [
    "## Cab Wise MEAN droute\n",
    "Maximum Droute(**dissatisfaction ratio**) in a cab"
   ]
  },
  {
   "cell_type": "markdown",
   "metadata": {},
   "source": [
    "#### Theirs"
   ]
  },
  {
   "cell_type": "code",
   "execution_count": 51,
   "metadata": {},
   "outputs": [
    {
     "name": "stdout",
     "output_type": "stream",
     "text": [
      "~~~~~~~~~~~~~~~~~~Cab wise average droutes: ~~~~~~~~~~~~~~~~~\n",
      "INDICA:     1.3754080727344047\n",
      "SUMO:     1.7617034285420645\n",
      "TRAVELLER:     2.0550577412250264\n"
     ]
    }
   ],
   "source": [
    "print(\"~~~~~~~~~~~~~~~~~~Cab wise average droutes: ~~~~~~~~~~~~~~~~~\")\n",
    "their_stats['cab_wise_avg_droutes'] = {}\n",
    "for typ, droutes in zip(cab_types, their_cab_wise_droutes):\n",
    "    print(\"{}:     {}\".format(typ, sum(droutes)/len(droutes)))\n",
    "    their_stats['cab_wise_avg_droutes'][typ] = sum(droutes)/len(droutes)"
   ]
  },
  {
   "cell_type": "markdown",
   "metadata": {},
   "source": [
    "#### Ours"
   ]
  },
  {
   "cell_type": "code",
   "execution_count": 52,
   "metadata": {},
   "outputs": [
    {
     "ename": "SyntaxError",
     "evalue": "invalid syntax (<ipython-input-52-b31a2fac5ce7>, line 5)",
     "output_type": "error",
     "traceback": [
      "\u001b[0;36m  File \u001b[0;32m\"<ipython-input-52-b31a2fac5ce7>\"\u001b[0;36m, line \u001b[0;32m5\u001b[0m\n\u001b[0;31m    our_stats['cab_wise_avg_droutes'][typ] = sum(droutes)/len(droutes))\u001b[0m\n\u001b[0m                                                                      ^\u001b[0m\n\u001b[0;31mSyntaxError\u001b[0m\u001b[0;31m:\u001b[0m invalid syntax\n"
     ]
    }
   ],
   "source": [
    "print(\"~~~~~~~~~~~~~~~~~~Cab wise average droutes: ~~~~~~~~~~~~~~~~~\")\n",
    "our_stats['cab_wise_avg_droutes'] = {}\n",
    "for typ, droutes in zip(cab_types, our_cab_wise_droutes):\n",
    "    print(\"{}:     {}\".format(typ, sum(droutes)/len(droutes)))\n",
    "    our_stats['cab_wise_avg_droutes'][typ] = sum(droutes)/len(droutes)"
   ]
  },
  {
   "cell_type": "markdown",
   "metadata": {},
   "source": [
    "### INDICA"
   ]
  },
  {
   "cell_type": "code",
   "execution_count": 53,
   "metadata": {},
   "outputs": [
    {
     "name": "stdout",
     "output_type": "stream",
     "text": [
      "Cab Type: INDICA\n"
     ]
    },
    {
     "data": {
      "text/plain": [
       "<BarContainer object of 34 artists>"
      ]
     },
     "execution_count": 53,
     "metadata": {},
     "output_type": "execute_result"
    },
    {
     "data": {
      "image/png": "[encoded data removed]",
      "text/plain": [
       "<Figure size 432x288 with 1 Axes>"
      ]
     },
     "metadata": {},
     "output_type": "display_data"
    }
   ],
   "source": [
    "print(\"Cab Type: INDICA\")\n",
    "plt.bar(range(len(their_cab_wise_droutes[0])), their_cab_wise_droutes[0])"
   ]
  },
  {
   "cell_type": "code",
   "execution_count": null,
   "metadata": {},
   "outputs": [],
   "source": []
  },
  {
   "cell_type": "code",
   "execution_count": null,
   "metadata": {},
   "outputs": [],
   "source": []
  },
  {
   "cell_type": "code",
   "execution_count": null,
   "metadata": {},
   "outputs": [],
   "source": []
  },
  {
   "cell_type": "code",
   "execution_count": null,
   "metadata": {},
   "outputs": [],
   "source": []
  },
  {
   "cell_type": "code",
   "execution_count": null,
   "metadata": {},
   "outputs": [],
   "source": []
  },
  {
   "cell_type": "code",
   "execution_count": 54,
   "metadata": {},
   "outputs": [
    {
     "name": "stdout",
     "output_type": "stream",
     "text": [
      "Cab Type: SUMO\n"
     ]
    },
    {
     "data": {
      "text/plain": [
       "<BarContainer object of 14 artists>"
      ]
     },
     "execution_count": 54,
     "metadata": {},
     "output_type": "execute_result"
    },
    {
     "data": {
      "image/png": "[encoded data removed]",
      "text/plain": [
       "<Figure size 432x288 with 1 Axes>"
      ]
     },
     "metadata": {},
     "output_type": "display_data"
    }
   ],
   "source": [
    "print(\"Cab Type: SUMO\")\n",
    "plt.bar(range(len(their_cab_wise_droutes[1])), their_cab_wise_droutes[1])"
   ]
  },
  {
   "cell_type": "markdown",
   "metadata": {},
   "source": [
    "## OCCUPANCY "
   ]
  },
  {
   "cell_type": "markdown",
   "metadata": {},
   "source": [
    "#### theirs"
   ]
  },
  {
   "cell_type": "code",
   "execution_count": 55,
   "metadata": {},
   "outputs": [
    {
     "name": "stdout",
     "output_type": "stream",
     "text": [
      "pool size:     people count\n",
      "2           => 5\n",
      "4           => 17\n",
      "7           => 9\n",
      "3           => 9\n",
      "5           => 9\n",
      "6           => 5\n",
      "8           => 6\n",
      "9           => 2\n",
      "1           => 3\n",
      "10           => 1\n"
     ]
    }
   ],
   "source": [
    "\n",
    "print(\"pool size:     people count\")\n",
    "their_occupancy = cab_occupancy(their_pools)"
   ]
  },
  {
   "cell_type": "code",
   "execution_count": 56,
   "metadata": {},
   "outputs": [
    {
     "data": {
      "text/plain": [
       "[108, 75, 139]"
      ]
     },
     "execution_count": 56,
     "metadata": {},
     "output_type": "execute_result"
    }
   ],
   "source": [
    "their_occupancy"
   ]
  },
  {
   "cell_type": "code",
   "execution_count": 57,
   "metadata": {},
   "outputs": [
    {
     "name": "stdout",
     "output_type": "stream",
     "text": [
      "CAB TYPE: INDICA       => 0.7941176470588235\n",
      "CAB TYPE: SUMO       => 0.8928571428571429\n",
      "CAB TYPE: TRAVELLER       => 0.6435185185185185\n"
     ]
    }
   ],
   "source": [
    "their_stats['occupancy'] = {}\n",
    "their_stats['people_by_cab'] = {}\n",
    "for i in range(3):\n",
    "    their_stats['people_by_cab'][cab_types[i]] = their_occupancy[i]\n",
    "    their_stats['occupancy'][cab_types[i]] = their_occupancy[i] / (get_seat(cab_types[i])*their_cab_count[i])\n",
    "    print(\"CAB TYPE: {}       => {}\".format(cab_types[i], their_occupancy[i] / (get_seat(cab_types[i])*their_cab_count[i])))\n",
    "    "
   ]
  },
  {
   "cell_type": "code",
   "execution_count": null,
   "metadata": {},
   "outputs": [],
   "source": []
  },
  {
   "cell_type": "markdown",
   "metadata": {},
   "source": [
    "#### ours"
   ]
  },
  {
   "cell_type": "code",
   "execution_count": 58,
   "metadata": {},
   "outputs": [
    {
     "name": "stdout",
     "output_type": "stream",
     "text": [
      "pool size:     people count\n",
      "8           => 3\n",
      "11           => 13\n",
      "1           => 3\n",
      "10           => 11\n",
      "2           => 1\n",
      "5           => 3\n",
      "6           => 3\n",
      "7           => 1\n",
      "CAB TYPE: INDICA       => 0.3125\n",
      "CAB TYPE: SUMO       => 0.9166666666666666\n",
      "CAB TYPE: TRAVELLER       => 0.8452380952380952\n"
     ]
    }
   ],
   "source": [
    "print(\"pool size:     people count\")\n",
    "our_occupancy = cab_occupancy(our_pools)\n",
    "our_stats['occupancy'] = {}\n",
    "our_stats['people_by_cab'] = {}\n",
    "for i in range(3):\n",
    "    our_stats['people_by_cab'][cab_types[i]] = our_occupancy[i]\n",
    "    our_stats['occupancy'][cab_types[i]] = our_occupancy[i] / (get_seat(cab_types[i])*our_cab_count[i])\n",
    "    print(\"CAB TYPE: {}       => {}\".format(cab_types[i], our_occupancy[i] / (get_seat(cab_types[i])*our_cab_count[i])))\n"
   ]
  },
  {
   "cell_type": "code",
   "execution_count": 59,
   "metadata": {},
   "outputs": [
    {
     "data": {
      "text/plain": [
       "[5, 33, 284]"
      ]
     },
     "execution_count": 59,
     "metadata": {},
     "output_type": "execute_result"
    }
   ],
   "source": [
    "our_occupancy"
   ]
  },
  {
   "cell_type": "markdown",
   "metadata": {},
   "source": [
    "## EMPLOYEE WISE DROUTE"
   ]
  },
  {
   "cell_type": "code",
   "execution_count": 60,
   "metadata": {
    "scrolled": true
   },
   "outputs": [
    {
     "data": {
      "text/plain": [
       "<BarContainer object of 322 artists>"
      ]
     },
     "execution_count": 60,
     "metadata": {},
     "output_type": "execute_result"
    },
    {
     "data": {
      "image/png": "[encoded data removed]",
      "text/plain": [
       "<Figure size 432x288 with 1 Axes>"
      ]
     },
     "metadata": {},
     "output_type": "display_data"
    }
   ],
   "source": [
    "plt.bar(range(len(their_employee_wise_droute)), their_employee_wise_droute)\n",
    "plt.bar(range(len(our_employee_wise_droute)), our_employee_wise_droute, color='red')"
   ]
  },
  {
   "cell_type": "markdown",
   "metadata": {},
   "source": [
    "#### Number of Cases Our Droute is good"
   ]
  },
  {
   "cell_type": "code",
   "execution_count": 61,
   "metadata": {},
   "outputs": [],
   "source": [
    "good = 0\n",
    "for i in range(len(employees)):\n",
    "    if their_employee_wise_droute[i] >= our_employee_wise_droute[i]:\n",
    "        good +=1"
   ]
  },
  {
   "cell_type": "code",
   "execution_count": 62,
   "metadata": {},
   "outputs": [
    {
     "data": {
      "text/plain": [
       "189"
      ]
     },
     "execution_count": 62,
     "metadata": {},
     "output_type": "execute_result"
    }
   ],
   "source": [
    "good"
   ]
  },
  {
   "cell_type": "markdown",
   "metadata": {},
   "source": [
    "## EMPLOYEE WISE DISTANCE"
   ]
  },
  {
   "cell_type": "code",
   "execution_count": 63,
   "metadata": {},
   "outputs": [
    {
     "data": {
      "text/plain": [
       "<BarContainer object of 322 artists>"
      ]
     },
     "execution_count": 63,
     "metadata": {},
     "output_type": "execute_result"
    },
    {
     "data": {
      "image/png": "[encoded data removed]",
      "text/plain": [
       "<Figure size 432x288 with 1 Axes>"
      ]
     },
     "metadata": {},
     "output_type": "display_data"
    }
   ],
   "source": [
    "plt.bar(range(len(their_employee_wise_dists)), their_employee_wise_dists)\n",
    "plt.bar(range(len(our_employee_wise_dists)), our_employee_wise_dists, color='red')"
   ]
  },
  {
   "cell_type": "code",
   "execution_count": 64,
   "metadata": {},
   "outputs": [
    {
     "data": {
      "text/plain": [
       "[39630.96,\n",
       " 37077.96,\n",
       " 41666.84,\n",
       " 40292.84,\n",
       " 40292.84,\n",
       " 28871,\n",
       " 41140.72,\n",
       " 40029.72,\n",
       " 37203.72,\n",
       " 38482.72,\n",
       " 38041.72,\n",
       " 37672.72,\n",
       " 32175,\n",
       " 25855,\n",
       " 26804,\n",
       " 25137,\n",
       " 36204,\n",
       " 29559,\n",
       " 29732,\n",
       " 35795,\n",
       " 36693,\n",
       " 28427,\n",
       " 29256,\n",
       " 27069,\n",
       " 25961,\n",
       " 24458,\n",
       " 28897.96,\n",
       " 27688.96,\n",
       " 21841,\n",
       " 32352,\n",
       " 28827.96,\n",
       " 22565,\n",
       " 36268,\n",
       " 32986.12,\n",
       " 27951,\n",
       " 34022,\n",
       " 35197.12,\n",
       " 30930,\n",
       " 26601,\n",
       " 28265,\n",
       " 27373,\n",
       " 27835,\n",
       " 30529,\n",
       " 24142.760000000002,\n",
       " 26596.96,\n",
       " 23894,\n",
       " 23470,\n",
       " 24304,\n",
       " 24118,\n",
       " 25110,\n",
       " 25110,\n",
       " 25110,\n",
       " 25367,\n",
       " 25776,\n",
       " 26759,\n",
       " 26412,\n",
       " 21215,\n",
       " 33944,\n",
       " 28466.32,\n",
       " 29958.32,\n",
       " 28394,\n",
       " 34215.04,\n",
       " 30516.04,\n",
       " 28856.04,\n",
       " 31340,\n",
       " 30355,\n",
       " 26697.04,\n",
       " 24905,\n",
       " 21605,\n",
       " 31495.68,\n",
       " 25998,\n",
       " 29442,\n",
       " 26348,\n",
       " 24378,\n",
       " 22078,\n",
       " 24998,\n",
       " 19818,\n",
       " 13395,\n",
       " 23322,\n",
       " 12571,\n",
       " 12313,\n",
       " 14523,\n",
       " 25150,\n",
       " 25627,\n",
       " 25631,\n",
       " 26727,\n",
       " 23753.68,\n",
       " 27802,\n",
       " 29810,\n",
       " 30151,\n",
       " 29401,\n",
       " 29173,\n",
       " 30092,\n",
       " 33834.68,\n",
       " 29611.68,\n",
       " 32120,\n",
       " 25792,\n",
       " 32326,\n",
       " 30239,\n",
       " 23167,\n",
       " 27556,\n",
       " 27917,\n",
       " 25693,\n",
       " 26543,\n",
       " 34643.96,\n",
       " 19458,\n",
       " 18065,\n",
       " 24460,\n",
       " 27054,\n",
       " 23400,\n",
       " 19023,\n",
       " 17350,\n",
       " 19762,\n",
       " 17997,\n",
       " 32634,\n",
       " 30730,\n",
       " 29985,\n",
       " 24758,\n",
       " 26822,\n",
       " 26381,\n",
       " 17876,\n",
       " 22429,\n",
       " 23129,\n",
       " 20748,\n",
       " 17076,\n",
       " 19421,\n",
       " 20565,\n",
       " 17188,\n",
       " 17573,\n",
       " 19776,\n",
       " 17893,\n",
       " 16548,\n",
       " 15211,\n",
       " 15707,\n",
       " 16407,\n",
       " 15877,\n",
       " 16099,\n",
       " 16302,\n",
       " 16249,\n",
       " 15671,\n",
       " 14720,\n",
       " 22258,\n",
       " 16027,\n",
       " 16106,\n",
       " 19200,\n",
       " 16424,\n",
       " 15018,\n",
       " 18091,\n",
       " 15900,\n",
       " 15900,\n",
       " 21602,\n",
       " 22536,\n",
       " 21528,\n",
       " 20741,\n",
       " 20454,\n",
       " 26169,\n",
       " 25596.760000000002,\n",
       " 24704.760000000002,\n",
       " 29721,\n",
       " 30857.52,\n",
       " 27502.52,\n",
       " 31600.52,\n",
       " 28826.52,\n",
       " 26584.52,\n",
       " 25032.52,\n",
       " 23829,\n",
       " 23773.92,\n",
       " 22993.92,\n",
       " 17356,\n",
       " 18296,\n",
       " 13485,\n",
       " 21333.52,\n",
       " 21333.52,\n",
       " 19753.52,\n",
       " 18546,\n",
       " 17028,\n",
       " 19304,\n",
       " 17861,\n",
       " 24795.92,\n",
       " 20114,\n",
       " 16693,\n",
       " 15553,\n",
       " 13531,\n",
       " 16377,\n",
       " 15616,\n",
       " 24840,\n",
       " 18567,\n",
       " 19309,\n",
       " 19309,\n",
       " 18750,\n",
       " 15154,\n",
       " 14239,\n",
       " 18668,\n",
       " 18675,\n",
       " 19389,\n",
       " 13947,\n",
       " 12988,\n",
       " 19820,\n",
       " 22630,\n",
       " 16057,\n",
       " 14798,\n",
       " 16179,\n",
       " 12988,\n",
       " 13082,\n",
       " 13082,\n",
       " 21603,\n",
       " 22081,\n",
       " 20391,\n",
       " 23297,\n",
       " 23409,\n",
       " 20762.68,\n",
       " 22071,\n",
       " 14779,\n",
       " 23218,\n",
       " 23980.68,\n",
       " 17758,\n",
       " 24238,\n",
       " 19785.68,\n",
       " 21622,\n",
       " 19470.68,\n",
       " 9796,\n",
       " 13044,\n",
       " 14064,\n",
       " 13501,\n",
       " 13447,\n",
       " 16332,\n",
       " 11747,\n",
       " 14464,\n",
       " 13442,\n",
       " 12990,\n",
       " 11151,\n",
       " 8783,\n",
       " 13427,\n",
       " 12566,\n",
       " 13666,\n",
       " 12135,\n",
       " 12098,\n",
       " 11167,\n",
       " 13930,\n",
       " 11584,\n",
       " 12213,\n",
       " 11800,\n",
       " 11839,\n",
       " 14125,\n",
       " 17085,\n",
       " 12461,\n",
       " 12881,\n",
       " 12881,\n",
       " 11118,\n",
       " 11118,\n",
       " 11118,\n",
       " 10922,\n",
       " 11181,\n",
       " 14198,\n",
       " 14315,\n",
       " 12577,\n",
       " 12896,\n",
       " 13065,\n",
       " 13883,\n",
       " 13575,\n",
       " 12132,\n",
       " 10519,\n",
       " 18340,\n",
       " 12495,\n",
       " 40660.16,\n",
       " 11738,\n",
       " 11091,\n",
       " 15289,\n",
       " 12571,\n",
       " 10923,\n",
       " 10377,\n",
       " 10541,\n",
       " 10541,\n",
       " 10278,\n",
       " 10685,\n",
       " 10685,\n",
       " 10364,\n",
       " 11388.2,\n",
       " 13410,\n",
       " 35769.12,\n",
       " 28530.120000000003,\n",
       " 22362.120000000003,\n",
       " 28194.120000000003,\n",
       " 30511.120000000003,\n",
       " 32481.120000000003,\n",
       " 17068.120000000003,\n",
       " 3173,\n",
       " 17886,\n",
       " 16830,\n",
       " 16261,\n",
       " 15419,\n",
       " 17465,\n",
       " 15089,\n",
       " 12200,\n",
       " 8269,\n",
       " 5718,\n",
       " 6746,\n",
       " 7967,\n",
       " 6578,\n",
       " 3201,\n",
       " 5090,\n",
       " 9426,\n",
       " 7002,\n",
       " 6020,\n",
       " 6154,\n",
       " 6831,\n",
       " 25459,\n",
       " 27481,\n",
       " 28311,\n",
       " 29773,\n",
       " 29021,\n",
       " 26962.92,\n",
       " 21394.32,\n",
       " 13626,\n",
       " 24534.32,\n",
       " 26349.32,\n",
       " 22723,\n",
       " 12213,\n",
       " 12213,\n",
       " 12213,\n",
       " 9589,\n",
       " 9589]"
      ]
     },
     "execution_count": 64,
     "metadata": {},
     "output_type": "execute_result"
    }
   ],
   "source": [
    "our_employee_wise_dists"
   ]
  },
  {
   "cell_type": "code",
   "execution_count": 65,
   "metadata": {},
   "outputs": [
    {
     "data": {
      "text/plain": [
       "'[[{\"ID\": 271056, \"Gender\": \"F\", \"Contact_Number\": 9731525252, \"Login_Logout\": \"Login\", \"Shift_Date\": \"11/2/2017\", \"Shift_Time\": \"12:15\", \"pickup_time\": \"10:30\", \"pickup_area\": \"\", \"Pickup_point\": \"8th Mail Nagasandra Sobha Apartement Deepak Stop\", \"serial_no\": 1, \"Escort\": \"N\", \"lat\": \"13.0470904\", \"lon\": \"77.5007467\"}, {\"ID\": 300111, \"Gender\": \"M\", \"Contact_Number\": 9611550033, \"Login_Logout\": \"Login\", \"Shift_Date\": \"11/2/2017\", \"Shift_Time\": \"12:15\", \"pickup_time\": \"10:40\", \"pickup_area\": \"\", \"Pickup_point\": \"Jalahalli Cross SM Road Ayyappa temple road Indian oil petrol pump\", \"serial_no\": 2, \"Escort\": \"N\", \"lat\": \"13.0436527\", \"lon\": \"77.520588\"}], [{\"ID\": 345656, \"Gender\": \"M\", \"Contact_Number\": 9379955352, \"Login_Logout\": \"Login\", \"Shift_Date\": \"11/2/2017\", \"Shift_Time\": \"12:15\", \"pickup_time\": \"10:30\", \"pickup_area\": \"\", \"Pickup_point\": \"Abbigere Somashettihalli Pipeline Road Janapriya Green Woods Apartements\", \"serial_no\": 1, \"Escort\": \"N\", \"lon\": \"77.513442\", \"lat\": \"13.084971\"}, {\"ID\": 333720, \"Gender\": \"F\", \"Contact_Number\": 8197331490, \"Login_Logout\": \"Login\", \"Shift_Date\": \"11/2/2017\", \"Shift_Time\": \"12:15\", \"pickup_time\": \"10:40\", \"pickup_area\": \"\", \"Pickup_point\": \"Abbigere Near Rainbow School\", \"serial_no\": 2, \"Escort\": \"N\", \"lat\": \"13.074765\", \"lon\": \"77.51668280000001\"}, {\"ID\": 470416, \"Gender\": \"M\", \"Contact_Number\": 9611855882, \"Login_Logout\": \"Login\", \"Shift_Date\": \"11/2/2017\", \"Shift_Time\": \"12:15\", \"pickup_time\": \"10:40\", \"pickup_area\": \"\", \"Pickup_point\": \"Abbigere Near Rainbow School\", \"serial_no\": 3, \"Escort\": \"N\", \"lat\": \"13.074765\", \"lon\": \"77.51668280000001\"}, {\"ID\": \"C67915\", \"Gender\": \"M\", \"Contact_Number\": 7899871449, \"Login_Logout\": \"Login\", \"Shift_Date\": \"11/2/2017\", \"Shift_Time\": \"12:15\", \"pickup_time\": \"11:00\", \"pickup_area\": \"\", \"Pickup_point\": \"Yeswantpur Opp RTO Office\", \"serial_no\": 4, \"Escort\": \"N\", \"lat\": \"13.0200391\", \"lon\": \"77.5564428\"}], [{\"ID\": 372757, \"Gender\": \"M\", \"Contact_Number\": 9886867370, \"Login_Logout\": \"Login\", \"Shift_Date\": \"11/2/2017\", \"Shift_Time\": \"12:15\", \"pickup_time\": \"10:45\", \"pickup_area\": \"\", \"Pickup_point\": \"Vidyaranyapura MS Palya Sambram College\", \"serial_no\": 1, \"Escort\": \"N\", \"lat\": \"13.0892467\", \"lon\": \"77.54609889999999\"}, {\"ID\": 488758, \"Gender\": \"F\", \"Contact_Number\": 9620221114, \"Login_Logout\": \"Login\", \"Shift_Date\": \"11/2/2017\", \"Shift_Time\": \"12:15\", \"pickup_time\": \"10:45\", \"pickup_area\": \"\", \"Pickup_point\": \"Vidyaranyapura Ms Palaya Circle\", \"serial_no\": 2, \"Escort\": \"N\", \"lat\": \"13.0802495\", \"lon\": \"77.54795969999999\"}, {\"ID\": 487452, \"Gender\": \"M\", \"Contact_Number\": 8197958576, \"Login_Logout\": \"Login\", \"Shift_Date\": \"11/2/2017\", \"Shift_Time\": \"12:15\", \"pickup_time\": \"10:45\", \"pickup_area\": \"\", \"Pickup_point\": \"Vidyaranyapura 3rd Block BEL layout 11th B Cross\", \"serial_no\": 3, \"Escort\": \"N\", \"lat\": \"13.0736571\", \"lon\": \"77.55397169999999\"}, {\"ID\": 312664, \"Gender\": \"M\", \"Contact_Number\": 9538481463, \"Login_Logout\": \"Login\", \"Shift_Date\": \"11/2/2017\", \"Shift_Time\": \"12:15\", \"pickup_time\": \"10:45\", \"pickup_area\": \"\", \"Pickup_point\": \"Vidyaranyapura Post Office HMT layout 5th block 6th Main\", \"serial_no\": 4, \"Escort\": \"N\", \"lat\": \"13.0794492\", \"lon\": \"77.5596005\"}, {\"ID\": 271155, \"Gender\": \"M\", \"Contact_Number\": 7406993985, \"Login_Logout\": \"Login\", \"Shift_Date\": \"11/2/2017\", \"Shift_Time\": \"12:15\", \"pickup_time\": \"10:45\", \"pickup_area\": \"\", \"Pickup_point\": \"Vidyaranyapura Post Office Stop\", \"serial_no\": 5, \"Escort\": \"N\", \"lat\": \"13.076233\", \"lon\": \"77.5582663\"}, {\"ID\": 327968, \"Gender\": \"F\", \"Contact_Number\": 9900170353, \"Login_Logout\": \"Login\", \"Shift_Date\": \"11/2/2017\", \"Shift_Time\": \"12:15\", \"pickup_time\": \"10:45\", \"pickup_area\": \"\", \"Pickup_point\": \"Vidyaranyapura\\\\u00c2 BEL layout Near Benaka Arcade\", \"serial_no\": 6, \"Escort\": \"N\", \"lon\": \"77.556761\", \"lat\": \"13.073249\"}, {\"ID\": 340070, \"Gender\": \"F\", \"Contact_Number\": 9886756566, \"Login_Logout\": \"Login\", \"Shift_Date\": \"11/2/2017\", \"Shift_Time\": \"12:15\", \"pickup_time\": \"11:00\", \"pickup_area\": \"\", \"Pickup_point\": \"NEW BEL Road KUVEMPU CIRCLE\", \"serial_no\": 7, \"Escort\": \"N\", \"lat\": \"13.0431944\", \"lon\": \"77.5612324\"}], [{\"ID\": 359171, \"Gender\": \"M\", \"Contact_Number\": 9900477074, \"Login_Logout\": \"Login\", \"Shift_Date\": \"11/2/2017\", \"Shift_Time\": \"12:15\", \"pickup_time\": \"10:45\", \"pickup_area\": \"\", \"Pickup_point\": \"Sanjaynagar NGEF layout 2nd Main Police Station\", \"serial_no\": 1, \"Escort\": \"N\", \"lat\": \"13.0333672\", \"lon\": \"77.5757074\"}, {\"ID\": 505980, \"Gender\": \"F\", \"Contact_Number\": 9740006702, \"Login_Logout\": \"Login\", \"Shift_Date\": \"11/2/2017\", \"Shift_Time\": \"12:15\", \"pickup_time\": \"10:45\", \"pickup_area\": \"\", \"Pickup_point\": \"Sanjaynagar RMV 2nd Stage Judicial officers layout 1st Cross\", \"serial_no\": 2, \"Escort\": \"N\", \"lat\": \"13.0331179\", \"lon\": \"77.56979600000001\"}, {\"ID\": 373723, \"Gender\": \"F\", \"Contact_Number\": 9986199881, \"Login_Logout\": \"Login\", \"Shift_Date\": \"11/2/2017\", \"Shift_Time\": \"12:15\", \"pickup_time\": \"11:00\", \"pickup_area\": \"\", \"Pickup_point\": \"Palace Guttahalli Vinayaka Circle 3rd Main\", \"serial_no\": 3, \"Escort\": \"N\", \"lat\": \"13.001474\", \"lon\": \"77.5819044\"}], [{\"ID\": 434799, \"Gender\": \"F\", \"Contact_Number\": 9036170215, \"Login_Logout\": \"Login\", \"Shift_Date\": \"11/2/2017\", \"Shift_Time\": \"12:15\", \"pickup_time\": \"10:30\", \"pickup_area\": \"\", \"Pickup_point\": \"Yelahanka Amruthahalli 2nd Cross Park View layout\", \"serial_no\": 1, \"Escort\": \"N\", \"lat\": \"13.052717\", \"lon\": \"77.5977873\"}, {\"ID\": 291604, \"Gender\": \"M\", \"Contact_Number\": 9972444007, \"Login_Logout\": \"Login\", \"Shift_Date\": \"11/2/2017\", \"Shift_Time\": \"12:15\", \"pickup_time\": \"10:45\", \"pickup_area\": \"\", \"Pickup_point\": \"Ganganagar Near Vani School\", \"serial_no\": 2, \"Escort\": \"N\", \"lat\": \"13.0039709\", \"lon\": \"77.554846\"}], [{\"ID\": 454291, \"Gender\": \"M\", \"Contact_Number\": 9632499699, \"Login_Logout\": \"Login\", \"Shift_Date\": \"11/2/2017\", \"Shift_Time\": \"12:15\", \"pickup_time\": \"10:30\", \"pickup_area\": \"\", \"Pickup_point\": \"HEBBAL V NAGENAHALLI 1st CROSS\", \"serial_no\": 1, \"Escort\": \"N\", \"lat\": \"13.0365231\", \"lon\": \"77.5911665\"}, {\"ID\": 34898, \"Gender\": \"M\", \"Contact_Number\": 9886213179, \"Login_Logout\": \"Login\", \"Shift_Date\": \"11/2/2017\", \"Shift_Time\": \"12:15\", \"pickup_time\": \"10:45\", \"pickup_area\": \"\", \"Pickup_point\": \"Hebbal Kempapura Sindhi College\", \"serial_no\": 2, \"Escort\": \"N\", \"lat\": \"13.0503765\", \"lon\": \"77.5985221\"}, {\"ID\": 461505, \"Gender\": \"M\", \"Contact_Number\": 8792756669, \"Login_Logout\": \"Login\", \"Shift_Date\": \"11/2/2017\", \"Shift_Time\": \"12:15\", \"pickup_time\": \"10:45\", \"pickup_area\": \"\", \"Pickup_point\": \"Hebbal Kempapura\", \"serial_no\": 3, \"Escort\": \"N\", \"lat\": \"13.0529125\", \"lon\": \"77.60148590000001\"}], [{\"ID\": 92378, \"Gender\": \"F\", \"Contact_Number\": 9481202191, \"Login_Logout\": \"Login\", \"Shift_Date\": \"11/2/2017\", \"Shift_Time\": \"12:15\", \"pickup_time\": \"10:45\", \"pickup_area\": \"\", \"Pickup_point\": \"Mahalakshmi Layout, Shankarnagar bus stop\", \"serial_no\": 1, \"Escort\": \"N\", \"lat\": \"13.016222\", \"lon\": \"77.5435732\"}, {\"ID\": 335098, \"Gender\": \"M\", \"Contact_Number\": 9663739174, \"Login_Logout\": \"Login\", \"Shift_Date\": \"11/2/2017\", \"Shift_Time\": \"12:15\", \"pickup_time\": \"10:50\", \"pickup_area\": \"\", \"Pickup_point\": \"Nandinilayout Main road Saraswathipuram\", \"serial_no\": 3, \"Escort\": \"N\", \"lat\": \"13.0144481\", \"lon\": \"77.5387421\"}, {\"ID\": 373121, \"Gender\": \"M\", \"Contact_Number\": 9900232497, \"Login_Logout\": \"Login\", \"Shift_Date\": \"11/2/2017\", \"Shift_Time\": \"12:15\", \"pickup_time\": \"10:50\", \"pickup_area\": \"\", \"Pickup_point\": \"Mahalakshmi Layout Geleyara Balaga Bus Stop\", \"serial_no\": 2, \"Escort\": \"N\", \"lat\": \"13.005911\", \"lon\": \"77.541147\"}, {\"ID\": 471979, \"Gender\": \"M\", \"Contact_Number\": 7276070651, \"Login_Logout\": \"Login\", \"Shift_Date\": \"11/2/2017\", \"Shift_Time\": \"12:15\", \"pickup_time\": \"10:55\", \"pickup_area\": \"\", \"Pickup_point\": \"Mahalaxmipuram 2nd stage 8th Main Modi Hospital Junction\", \"serial_no\": 4, \"Escort\": \"N\", \"lon\": \"77.544128\", \"lat\": \"12.998525\"}, {\"ID\": 290743, \"Gender\": \"M\", \"Contact_Number\": 9900087548, \"Login_Logout\": \"Login\", \"Shift_Date\": \"11/2/2017\", \"Shift_Time\": \"12:15\", \"pickup_time\": \"11:00\", \"pickup_area\": \"\", \"Pickup_point\": \"Rajajinagara Navrang Theatre DCB Bank\", \"serial_no\": 5, \"Escort\": \"N\", \"lat\": \"12.9849815\", \"lon\": \"77.553344\"}], [{\"ID\": 476918, \"Gender\": \"M\", \"Contact_Number\": 9980533373, \"Login_Logout\": \"Login\", \"Shift_Date\": \"11/2/2017\", \"Shift_Time\": \"12:15\", \"pickup_time\": \"10:30\", \"pickup_area\": \"\", \"Pickup_point\": \"Basaveswaranagar Pavithra Paradise\", \"serial_no\": 1, \"Escort\": \"N\", \"lat\": \"12.9880456\", \"lon\": \"77.5376335\"}, {\"ID\": 54838, \"Gender\": \"M\", \"Contact_Number\": 9986007586, \"Login_Logout\": \"Login\", \"Shift_Date\": \"11/2/2017\", \"Shift_Time\": \"12:15\", \"pickup_time\": \"10:35\", \"pickup_area\": \"\", \"Pickup_point\": \"Basaweswaranagar Sharada Colony Bus stop\", \"serial_no\": 2, \"Escort\": \"N\", \"lat\": \"12.9813875\", \"lon\": \"77.53483419999999\"}, {\"ID\": 373581, \"Gender\": \"M\", \"Contact_Number\": 9449831674, \"Login_Logout\": \"Login\", \"Shift_Date\": \"11/2/2017\", \"Shift_Time\": \"12:15\", \"pickup_time\": \"10:40\", \"pickup_area\": \"\", \"Pickup_point\": \"Basaweshwarnagar Kamalanagar\", \"serial_no\": 3, \"Escort\": \"N\", \"lat\": \"12.9595747\", \"lon\": \"77.5683899\"}, {\"ID\": 309376, \"Gender\": \"M\", \"Contact_Number\": 9945599191, \"Login_Logout\": \"Login\", \"Shift_Date\": \"11/2/2017\", \"Shift_Time\": \"12:15\", \"pickup_time\": \"10:40\", \"pickup_area\": \"\", \"Pickup_point\": \"Basaweswaranagar Kurubarahalli JC NAGAR\", \"serial_no\": 4, \"Escort\": \"N\", \"lat\": \"13.004436\", \"lon\": \"77.5333694\"}, {\"ID\": 489185, \"Gender\": \"F\", \"Contact_Number\": 9513394490, \"Login_Logout\": \"Login\", \"Shift_Date\": \"11/2/2017\", \"Shift_Time\": \"12:15\", \"pickup_time\": \"10:45\", \"pickup_area\": \"\", \"Pickup_point\": \"Basaveshwara Nagar Kurubarahalli 1st Main 7th Cross\", \"serial_no\": 5, \"Escort\": \"N\", \"lat\": \"12.9877913\", \"lon\": \"77.53824709999999\"}, {\"ID\": 286767, \"Gender\": \"M\", \"Contact_Number\": 9980140057, \"Login_Logout\": \"Login\", \"Shift_Date\": \"11/2/2017\", \"Shift_Time\": \"12:15\", \"pickup_time\": \"10:50\", \"pickup_area\": \"\", \"Pickup_point\": \"GAYATHRI NAGAR 7TH MAIN\", \"serial_no\": 6, \"Escort\": \"N\", \"lat\": \"12.9948552\", \"lon\": \"77.56638629999999\"}], [{\"ID\": 355732, \"Gender\": \"M\", \"Contact_Number\": 9789834801, \"Login_Logout\": \"Login\", \"Shift_Date\": \"11/2/2017\", \"Shift_Time\": \"12:15\", \"pickup_time\": \"10:45\", \"pickup_area\": \"\", \"Pickup_point\": \"Kachohalli Main Road Cauvery farm house Circle\", \"serial_no\": 1, \"Escort\": \"N\", \"lon\": \"77.470286\", \"lat\": \"13.000671\"}, {\"ID\": 353377, \"Gender\": \"F\", \"Contact_Number\": 9739947297, \"Login_Logout\": \"Login\", \"Shift_Date\": \"11/2/2017\", \"Shift_Time\": \"12:15\", \"pickup_time\": \"11:00\", \"pickup_area\": \"\", \"Pickup_point\": \"Nagarbhavi 2nd Stage Sumanahalli Bridge\", \"serial_no\": 2, \"Escort\": \"N\", \"lat\": \"12.980567\", \"lon\": \"77.51652279999999\"}, {\"ID\": 473542, \"Gender\": \"M\", \"Contact_Number\": 9742126262, \"Login_Logout\": \"Login\", \"Shift_Date\": \"11/2/2017\", \"Shift_Time\": \"12:15\", \"pickup_time\": \"11:05\", \"pickup_area\": \"\", \"Pickup_point\": \"Nagarabhavi Nammura Thindi Hotel\", \"serial_no\": 3, \"Escort\": \"N\", \"lat\": \"12.960611\", \"lon\": \"77.5124376\"}], [{\"ID\": 472497, \"Gender\": \"M\", \"Contact_Number\": 9538012233, \"Login_Logout\": \"Login\", \"Shift_Date\": \"11/2/2017\", \"Shift_Time\": \"12:15\", \"pickup_time\": \"10:45\", \"pickup_area\": \"\", \"Pickup_point\": \"Nagadevanahalli Upadhyaya Layout Near SBI Bank\", \"serial_no\": 1, \"Escort\": \"N\", \"lat\": \"12.938574\", \"lon\": \"77.494923\"}, {\"ID\": 284619, \"Gender\": \"M\", \"Contact_Number\": 9591514505, \"Login_Logout\": \"Login\", \"Shift_Date\": \"11/2/2017\", \"Shift_Time\": \"12:15\", \"pickup_time\": \"10:50\", \"pickup_area\": \"\", \"Pickup_point\": \"Nagarbhavi BDA Complex Annapoornashwari Nagar ICICI Bank Building\", \"serial_no\": 2, \"Escort\": \"N\", \"lat\": \"12.9792334\", \"lon\": \"77.5063368\"}, {\"ID\": 490322, \"Gender\": \"F\", \"Contact_Number\": 9036207828, \"Login_Logout\": \"Login\", \"Shift_Date\": \"11/2/2017\", \"Shift_Time\": \"12:15\", \"pickup_time\": \"11:00\", \"pickup_area\": \"\", \"Pickup_point\": \"Nagarbhavi Village\", \"serial_no\": 3, \"Escort\": \"N\", \"lat\": \"12.9700223\", \"lon\": \"77.4930407\"}, {\"ID\": 434772, \"Gender\": \"F\", \"Contact_Number\": 9620647888, \"Login_Logout\": \"Login\", \"Shift_Date\": \"11/2/2017\", \"Shift_Time\": \"12:15\", \"pickup_time\": \"11:05\", \"pickup_area\": \"\", \"Pickup_point\": \"NAGARBHAVI MARUTHI NAGAR\", \"serial_no\": 4, \"Escort\": \"N\", \"lat\": \"12.961814\", \"lon\": \"77.521688\"}, {\"ID\": 271413, \"Gender\": \"M\", \"Contact_Number\": 9535055400, \"Login_Logout\": \"Login\", \"Shift_Date\": \"11/2/2017\", \"Shift_Time\": \"12:15\", \"pickup_time\": \"11:10\", \"pickup_area\": \"\", \"Pickup_point\": \"Nagharabhavi 2nd Stage NGEF Bus stop\", \"serial_no\": 5, \"Escort\": \"N\", \"lat\": \"12.9611007\", \"lon\": \"77.5097278\"}], [{\"ID\": 497659, \"Gender\": \"M\", \"Contact_Number\": 9738661859, \"Login_Logout\": \"Login\", \"Shift_Date\": \"11/2/2017\", \"Shift_Time\": \"12:15\", \"pickup_time\": \"10:45\", \"pickup_area\": \"\", \"Pickup_point\": \"Vijayanagar Sarswathi Nagr Bus Stop\", \"serial_no\": 1, \"Escort\": \"N\", \"lat\": \"12.9720153\", \"lon\": \"77.5292408\"}, {\"ID\": 478779, \"Gender\": \"F\", \"Contact_Number\": 9035800105, \"Login_Logout\": \"Login\", \"Shift_Date\": \"11/2/2017\", \"Shift_Time\": \"12:15\", \"pickup_time\": \"10:50\", \"pickup_area\": \"\", \"Pickup_point\": \"Prashanth Nagar Shhobha Hospital\", \"serial_no\": 2, \"Escort\": \"N\", \"lat\": \"12.9755518\", \"lon\": \"77.5313312\"}, {\"ID\": 244491, \"Gender\": \"M\", \"Contact_Number\": 9972437174, \"Login_Logout\": \"Login\", \"Shift_Date\": \"11/2/2017\", \"Shift_Time\": \"12:15\", \"pickup_time\": \"11:00\", \"pickup_area\": \"\", \"Pickup_point\": \"Vijayanagar Pipeline Road\", \"serial_no\": 3, \"Escort\": \"N\", \"lat\": \"13.0208012\", \"lon\": \"77.6719833\"}, {\"ID\": 327119, \"Gender\": \"M\", \"Contact_Number\": 7406751777, \"Login_Logout\": \"Login\", \"Shift_Date\": \"11/2/2017\", \"Shift_Time\": \"12:15\", \"pickup_time\": \"11:00\", \"pickup_area\": \"\", \"Pickup_point\": \"Vijayanagar Pipelane\", \"serial_no\": 4, \"Escort\": \"N\", \"lat\": \"12.9523747\", \"lon\": \"77.55140329999999\"}, {\"ID\": 529365, \"Gender\": \"F\", \"Contact_Number\": 8971933114, \"Login_Logout\": \"Login\", \"Shift_Date\": \"11/2/2017\", \"Shift_Time\": \"12:15\", \"pickup_time\": \"11:05\", \"pickup_area\": \"\", \"Pickup_point\": \"Vijaynagar MC Layout 3rd Cross 3rd Main\", \"serial_no\": 5, \"Escort\": \"N\", \"lat\": \"12.976984\", \"lon\": \"77.542332\"}, {\"ID\": 498548, \"Gender\": \"M\", \"Contact_Number\": 9686566298, \"Login_Logout\": \"Login\", \"Shift_Date\": \"11/2/2017\", \"Shift_Time\": \"12:15\", \"pickup_time\": \"11:10\", \"pickup_area\": \"\", \"Pickup_point\": \"Vijaynagar RPC Layout Near Central Library\", \"serial_no\": 6, \"Escort\": \"N\", \"lat\": \"12.960507\", \"lon\": \"77.530108\"}, {\"ID\": 217852, \"Gender\": \"M\", \"Contact_Number\": 9845807150, \"Login_Logout\": \"Login\", \"Shift_Date\": \"11/2/2017\", \"Shift_Time\": \"12:15\", \"pickup_time\": \"11:10\", \"pickup_area\": \"\", \"Pickup_point\": \"Vijayanagar RPC layout, New Cambridge school\", \"serial_no\": 7, \"Escort\": \"N\", \"lat\": \"12.9658144\", \"lon\": \"77.5417665\"}, {\"ID\": 236505, \"Gender\": \"M\", \"Contact_Number\": 9986237274, \"Login_Logout\": \"Login\", \"Shift_Date\": \"11/2/2017\", \"Shift_Time\": \"12:15\", \"pickup_time\": \"11:10\", \"pickup_area\": \"\", \"Pickup_point\": \"Vijayanagar RPC Layout\", \"serial_no\": 8, \"Escort\": \"N\", \"lat\": \"12.9628174\", \"lon\": \"77.5378937\"}], [{\"ID\": 462137, \"Gender\": \"M\", \"Contact_Number\": 9886497950, \"Login_Logout\": \"Login\", \"Shift_Date\": \"11/2/2017\", \"Shift_Time\": \"12:15\", \"pickup_time\": \"10:45\", \"pickup_area\": \"\", \"Pickup_point\": \"Vijayanagar Chandra Layout Near Adiga\\'s Hotel\", \"serial_no\": 1, \"Escort\": \"N\", \"lat\": \"12.9712313\", \"lon\": \"77.5801607\"}, {\"ID\": 474952, \"Gender\": \"M\", \"Contact_Number\": 8095753993, \"Login_Logout\": \"Login\", \"Shift_Date\": \"11/2/2017\", \"Shift_Time\": \"12:15\", \"pickup_time\": \"10:50\", \"pickup_area\": \"\", \"Pickup_point\": \"VIJAYANAGAR MARUTHI MANDIR\", \"serial_no\": 2, \"Escort\": \"N\", \"lat\": \"12.9674699\", \"lon\": \"77.5359608\"}, {\"ID\": 372621, \"Gender\": \"F\", \"Contact_Number\": 7259949958, \"Login_Logout\": \"Login\", \"Shift_Date\": \"11/2/2017\", \"Shift_Time\": \"12:15\", \"pickup_time\": \"10:50\", \"pickup_area\": \"\", \"Pickup_point\": \"Vijaya Nagar Maruthi Mandir\", \"serial_no\": 3, \"Escort\": \"N\", \"lat\": \"12.9674699\", \"lon\": \"77.5359608\"}, {\"ID\": 372124, \"Gender\": \"F\", \"Contact_Number\": 8970361636, \"Login_Logout\": \"Login\", \"Shift_Date\": \"11/2/2017\", \"Shift_Time\": \"12:15\", \"pickup_time\": \"10:50\", \"pickup_area\": \"\", \"Pickup_point\": \"Vijaya Nagar Maruthi Mandir\", \"serial_no\": 4, \"Escort\": \"N\", \"lat\": \"12.9674699\", \"lon\": \"77.5359608\"}, {\"ID\": 267763, \"Gender\": \"M\", \"Contact_Number\": 9986013803, \"Login_Logout\": \"Login\", \"Shift_Date\": \"11/2/2017\", \"Shift_Time\": \"12:15\", \"pickup_time\": \"10:50\", \"pickup_area\": \"\", \"Pickup_point\": \"Vijayanagar Main bus\", \"serial_no\": 5, \"Escort\": \"N\", \"lat\": \"12.9655175\", \"lon\": \"77.53462789999999\"}, {\"ID\": 456198, \"Gender\": \"M\", \"Contact_Number\": 9741248249, \"Login_Logout\": \"Login\", \"Shift_Date\": \"11/2/2017\", \"Shift_Time\": \"12:15\", \"pickup_time\": \"10:50\", \"pickup_area\": \"\", \"Pickup_point\": \"Vijaynagar Attiguppe metro station\", \"serial_no\": 6, \"Escort\": \"N\", \"lat\": \"12.9619568\", \"lon\": \"77.53358209999999\"}], [{\"ID\": 490917, \"Gender\": \"M\", \"Contact_Number\": 9986394007, \"Login_Logout\": \"Login\", \"Shift_Date\": \"11/2/2017\", \"Shift_Time\": \"12:15\", \"pickup_time\": \"11:00\", \"pickup_area\": \"\", \"Pickup_point\": \"Vijayanagar BTS Garrage Subanna Garden\", \"serial_no\": 1, \"Escort\": \"N\", \"lat\": \"12.968032\", \"lon\": \"77.530473\"}, {\"ID\": 110796, \"Gender\": \"M\", \"Contact_Number\": 9742814422, \"Login_Logout\": \"Login\", \"Shift_Date\": \"11/2/2017\", \"Shift_Time\": \"12:15\", \"pickup_time\": \"11:00\", \"pickup_area\": \"\", \"Pickup_point\": \"Vijayanagar BTS Garage\", \"serial_no\": 2, \"Escort\": \"N\", \"lat\": \"12.9649179\", \"lon\": \"77.530253\"}, {\"ID\": 502676, \"Gender\": \"F\", \"Contact_Number\": 9886514953, \"Login_Logout\": \"Login\", \"Shift_Date\": \"11/2/2017\", \"Shift_Time\": \"12:15\", \"pickup_time\": \"11:30\", \"pickup_area\": \"\", \"Pickup_point\": \"Chamrajpet Raghavendra Colony,\\\\n 5th Main\", \"serial_no\": 3, \"Escort\": \"N\", \"lat\": \"12.9570471\", \"lon\": \"77.56529119999999\"}], [{\"ID\": 470226, \"Gender\": \"M\", \"Contact_Number\": 9916189898, \"Login_Logout\": \"Login\", \"Shift_Date\": \"11/2/2017\", \"Shift_Time\": \"12:15\", \"pickup_time\": \"10:30\", \"pickup_area\": \"\", \"Pickup_point\": \"Nagawara Mariyannapalya Near Kensri School\", \"serial_no\": 1, \"Escort\": \"N\", \"lat\": \"13.0495867\", \"lon\": \"77.6144257\"}, {\"ID\": 478973, \"Gender\": \"M\", \"Contact_Number\": 9164933802, \"Login_Logout\": \"Login\", \"Shift_Date\": \"11/2/2017\", \"Shift_Time\": \"12:15\", \"pickup_time\": \"10:35\", \"pickup_area\": \"\", \"Pickup_point\": \"Thannisandra Main Road MS Ramaiah North City\", \"serial_no\": 2, \"Escort\": \"N\", \"lat\": \"13.042904\", \"lon\": \"77.62537619999999\"}, {\"ID\": 352194, \"Gender\": \"M\", \"Contact_Number\": 9743569784, \"Login_Logout\": \"Login\", \"Shift_Date\": \"11/2/2017\", \"Shift_Time\": \"12:15\", \"pickup_time\": \"10:40\", \"pickup_area\": \"\", \"Pickup_point\": \"THANNISANDRA 3RD MAIN ASHWAT NAGAR ANAM ENCLAVE\", \"serial_no\": 3, \"Escort\": \"N\", \"lat\": \"13.0499845\", \"lon\": \"77.63484\"}, {\"ID\": 222322, \"Gender\": \"M\", \"Contact_Number\": 9880283022, \"Login_Logout\": \"Login\", \"Shift_Date\": \"11/2/2017\", \"Shift_Time\": \"12:15\", \"pickup_time\": \"10:45\", \"pickup_area\": \"\", \"Pickup_point\": \"Babusapalya Karnataka Bank ATM\", \"serial_no\": 4, \"Escort\": \"N\", \"lat\": \"13.021788\", \"lon\": \"77.65016109999999\"}], [{\"ID\": 467766, \"Gender\": \"M\", \"Contact_Number\": 7829114455, \"Login_Logout\": \"Login\", \"Shift_Date\": \"11/2/2017\", \"Shift_Time\": \"12:15\", \"pickup_time\": \"10:45\", \"pickup_area\": \"\", \"Pickup_point\": \"Hennur Kothanur 2nd Cross Anjannappa Layout\", \"serial_no\": 1, \"Escort\": \"N\", \"lat\": \"13.058264\", \"lon\": \"77.6508295\"}, {\"ID\": 485430, \"Gender\": \"F\", \"Contact_Number\": 8197616289, \"Login_Logout\": \"Login\", \"Shift_Date\": \"11/2/2017\", \"Shift_Time\": \"12:15\", \"pickup_time\": \"10:45\", \"pickup_area\": \"\", \"Pickup_point\": \"Hennur Main road Kalyan nagar, Near Reliance fresh\", \"serial_no\": 2, \"Escort\": \"N\", \"lat\": \"13.0319125\", \"lon\": \"77.6356867\"}, {\"ID\": 365990, \"Gender\": \"M\", \"Contact_Number\": 9880324768, \"Login_Logout\": \"Login\", \"Shift_Date\": \"11/2/2017\", \"Shift_Time\": \"12:15\", \"pickup_time\": \"10:50\", \"pickup_area\": \"\", \"Pickup_point\": \"Kalyan Nagar HRBR Layout 2nd block 5th C Main\", \"serial_no\": 3, \"Escort\": \"N\", \"lat\": \"13.0232007\", \"lon\": \"77.64077979999999\"}, {\"ID\": 368208, \"Gender\": \"F\", \"Contact_Number\": 9980478705, \"Login_Logout\": \"Login\", \"Shift_Date\": \"11/2/2017\", \"Shift_Time\": \"12:15\", \"pickup_time\": \"10:50\", \"pickup_area\": \"\", \"Pickup_point\": \"Babusapalya Divya Unnathi Layout Near St Vincent Pallotti School\", \"serial_no\": 4, \"Escort\": \"N\", \"lat\": \"13.0334162\", \"lon\": \"77.64900639999999\"}, {\"ID\": 491868, \"Gender\": \"F\", \"Contact_Number\": 8892531331, \"Login_Logout\": \"Login\", \"Shift_Date\": \"11/2/2017\", \"Shift_Time\": \"12:15\", \"pickup_time\": \"10:50\", \"pickup_area\": \"\", \"Pickup_point\": \"BABUSAPALYA PRAKRUTHI TOWNSHIP 5 STREET\", \"serial_no\": 5, \"Escort\": \"N\", \"lat\": \"13.028548\", \"lon\": \"77.65246789999999\"}, {\"ID\": 461203, \"Gender\": \"F\", \"Contact_Number\": 9845201963, \"Login_Logout\": \"Login\", \"Shift_Date\": \"11/2/2017\", \"Shift_Time\": \"12:15\", \"pickup_time\": \"11:00\", \"pickup_area\": \"\", \"Pickup_point\": \"Kammanahalli Oil Mill Road\", \"serial_no\": 6, \"Escort\": \"N\", \"lat\": \"13.0129691\", \"lon\": \"77.63076509999999\"}, {\"ID\": 474856, \"Gender\": \"M\", \"Contact_Number\": 9482684879, \"Login_Logout\": \"Login\", \"Shift_Date\": \"11/2/2017\", \"Shift_Time\": \"12:15\", \"pickup_time\": \"11:05\", \"pickup_area\": \"\", \"Pickup_point\": \"Banasavadi Kullappa Circle Near Mother Marry Statue\\\\u00c2\", \"serial_no\": 7, \"Escort\": \"N\", \"lat\": \"13.0053182\", \"lon\": \"77.6488486\"}, {\"ID\": 535878, \"Gender\": \"M\", \"Contact_Number\": 9886485678, \"Login_Logout\": \"Login\", \"Shift_Date\": \"11/2/2017\", \"Shift_Time\": \"12:15\", \"pickup_time\": \"11:05\", \"pickup_area\": \"\", \"Pickup_point\": \"Lingaraja Pura, St. Thomas Post office\", \"serial_no\": 8, \"Escort\": \"N\", \"lat\": \"13.0058915\", \"lon\": \"77.6230853\"}], [{\"ID\": 525518, \"Gender\": \"F\", \"Contact_Number\": 8884744562, \"Login_Logout\": \"Login\", \"Shift_Date\": \"11/2/2017\", \"Shift_Time\": \"12:15\", \"pickup_time\": \"10:45\", \"pickup_area\": \"\", \"Pickup_point\": \"Horamavu Shradha Spring Field Vijaya Bank Extension Colony\", \"serial_no\": 1, \"Escort\": \"N\", \"lat\": \"13.017953\", \"lon\": \"77.662027\"}, {\"ID\": 497155, \"Gender\": \"M\", \"Contact_Number\": 9741316730, \"Login_Logout\": \"Login\", \"Shift_Date\": \"11/2/2017\", \"Shift_Time\": \"12:15\", \"pickup_time\": \"10:55\", \"pickup_area\": \"\", \"Pickup_point\": \"Banasawadi Ayyappa Temple\", \"serial_no\": 2, \"Escort\": \"N\", \"lat\": \"13.0073842\", \"lon\": \"77.64095530000002\"}, {\"ID\": 474877, \"Gender\": \"M\", \"Contact_Number\": 7022614672, \"Login_Logout\": \"Login\", \"Shift_Date\": \"11/2/2017\", \"Shift_Time\": \"12:15\", \"pickup_time\": \"10:55\", \"pickup_area\": \"\", \"Pickup_point\": \"Banaswadi Horamauv Ashirwad Colony\", \"serial_no\": 3, \"Escort\": \"N\", \"lat\": \"13.0242359\", \"lon\": \"77.6566812\"}, {\"ID\": 478353, \"Gender\": \"F\", \"Contact_Number\": 7676143274, \"Login_Logout\": \"Login\", \"Shift_Date\": \"11/2/2017\", \"Shift_Time\": \"12:15\", \"pickup_time\": \"10:55\", \"pickup_area\": \"\", \"Pickup_point\": \"Banaswadi Uttam Sagar\", \"serial_no\": 4, \"Escort\": \"N\", \"lat\": \"13.0094996\", \"lon\": \"77.64345999999999\"}], [{\"ID\": 472988, \"Gender\": \"M\", \"Contact_Number\": 9880410005, \"Login_Logout\": \"Login\", \"Shift_Date\": \"11/2/2017\", \"Shift_Time\": \"12:15\", \"pickup_time\": \"10:45\", \"pickup_area\": \"\", \"Pickup_point\": \"Ulsoor Metro Station Purushotham Road\", \"serial_no\": 1, \"Escort\": \"N\", \"lat\": \"12.9764162\", \"lon\": \"77.6266741\"}, {\"ID\": 466631, \"Gender\": \"F\", \"Contact_Number\": 9043283623, \"Login_Logout\": \"Login\", \"Shift_Date\": \"11/2/2017\", \"Shift_Time\": \"12:15\", \"pickup_time\": \"10:45\", \"pickup_area\": \"\", \"Pickup_point\": \"Ulsoor Cambridge Road ESI Saibaba Temple\", \"serial_no\": 2, \"Escort\": \"N\", \"lat\": \"12.9698201\", \"lon\": \"77.6303569\"}, {\"ID\": 487104, \"Gender\": \"M\", \"Contact_Number\": 9686274793, \"Login_Logout\": \"Login\", \"Shift_Date\": \"11/2/2017\", \"Shift_Time\": \"12:15\", \"pickup_time\": \"10:45\", \"pickup_area\": \"\", \"Pickup_point\": \"Ulsoor Cambridge Layout 1st A Cross\", \"serial_no\": 3, \"Escort\": \"N\", \"lat\": \"12.9793338\", \"lon\": \"77.6244771\"}, {\"ID\": 474875, \"Gender\": \"M\", \"Contact_Number\": 7204139176, \"Login_Logout\": \"Login\", \"Shift_Date\": \"11/2/2017\", \"Shift_Time\": \"12:15\", \"pickup_time\": \"10:50\", \"pickup_area\": \"\", \"Pickup_point\": \"Ulsoor Metro Station Jogupalya 10th Street\", \"serial_no\": 4, \"Escort\": \"N\", \"lat\": \"12.9675384\", \"lon\": \"77.6149435\"}, {\"ID\": 304520, \"Gender\": \"F\", \"Contact_Number\": 9535503207, \"Login_Logout\": \"Login\", \"Shift_Date\": \"11/2/2017\", \"Shift_Time\": \"12:15\", \"pickup_time\": \"11:10\", \"pickup_area\": \"\", \"Pickup_point\": \"Koramangala 8th Block Bajaj Showroom\", \"serial_no\": 5, \"Escort\": \"N\", \"lat\": \"12.9389778\", \"lon\": \"77.61905519999999\"}], [{\"ID\": 336571, \"Gender\": \"F\", \"Contact_Number\": 9740124491, \"Login_Logout\": \"Login\", \"Shift_Date\": \"11/2/2017\", \"Shift_Time\": \"12:15\", \"pickup_time\": \"10:45\", \"pickup_area\": \"\", \"Pickup_point\": \"Indiranagar 2nd Stage Eswara Layout 17th Cross\", \"serial_no\": 1, \"Escort\": \"N\", \"lat\": \"12.9763584\", \"lon\": \"77.634031\"}, {\"ID\": 334649, \"Gender\": \"F\", \"Contact_Number\": 9972421810, \"Login_Logout\": \"Login\", \"Shift_Date\": \"11/2/2017\", \"Shift_Time\": \"12:15\", \"pickup_time\": \"11:00\", \"pickup_area\": \"\", \"Pickup_point\": \"Kormangala Canara Bank Singnal\", \"serial_no\": 2, \"Escort\": \"N\", \"lat\": \"12.9343954\", \"lon\": \"77.6240335\"}, {\"ID\": 444410, \"Gender\": \"F\", \"Contact_Number\": 9831635508, \"Login_Logout\": \"Login\", \"Shift_Date\": \"11/2/2017\", \"Shift_Time\": \"12:15\", \"pickup_time\": \"11:05\", \"pickup_area\": \"\", \"Pickup_point\": \"Koramangala 1st Block Near Greenview Medical Center\", \"serial_no\": 3, \"Escort\": \"N\", \"lat\": \"12.9191291\", \"lon\": \"77.6381231\"}, {\"ID\": 431729, \"Gender\": \"M\", \"Contact_Number\": 9176888737, \"Login_Logout\": \"Login\", \"Shift_Date\": \"11/2/2017\", \"Shift_Time\": \"12:15\", \"pickup_time\": \"11:10\", \"pickup_area\": \"\", \"Pickup_point\": \"Koramangala National Games Village\", \"serial_no\": 4, \"Escort\": \"N\", \"lat\": \"12.9462606\", \"lon\": \"77.6218629\"}], [{\"ID\": 500797, \"Gender\": \"M\", \"Contact_Number\": 9980298765, \"Login_Logout\": \"Login\", \"Shift_Date\": \"11/2/2017\", \"Shift_Time\": \"12:15\", \"pickup_time\": \"10:45\", \"pickup_area\": \"\", \"Pickup_point\": \"TC Palya Hirthika Garden Layout Near to Reliance Fresh\", \"serial_no\": 1, \"Escort\": \"N\", \"lon\": \"77.69628\", \"lat\": \"13.022519\"}, {\"ID\": 509034, \"Gender\": \"M\", \"Contact_Number\": 9986061454, \"Login_Logout\": \"Login\", \"Shift_Date\": \"11/2/2017\", \"Shift_Time\": \"12:15\", \"pickup_time\": \"10:45\", \"pickup_area\": \"\", \"Pickup_point\": \"TC PALYA ANANDHAPURA CIRCLE\", \"serial_no\": 2, \"Escort\": \"N\", \"lat\": \"13.0242349\", \"lon\": \"77.69282679999999\"}, {\"ID\": 374910, \"Gender\": \"M\", \"Contact_Number\": 8050146610, \"Login_Logout\": \"Login\", \"Shift_Date\": \"11/2/2017\", \"Shift_Time\": \"12:15\", \"pickup_time\": \"10:45\", \"pickup_area\": \"\", \"Pickup_point\": \"TC Palya Main Road Anandapura Circle\", \"serial_no\": 3, \"Escort\": \"N\", \"lat\": \"13.0241344\", \"lon\": \"77.69281409999999\"}, {\"ID\": 490933, \"Gender\": \"M\", \"Contact_Number\": 7676220038, \"Login_Logout\": \"Login\", \"Shift_Date\": \"11/2/2017\", \"Shift_Time\": \"12:15\", \"pickup_time\": \"10:45\", \"pickup_area\": \"\", \"Pickup_point\": \"TC Palya Main Road Akshya Nagar Aneppa Cicle\", \"serial_no\": 4, \"Escort\": \"N\", \"lat\": \"13.0206341\", \"lon\": \"77.68422989999999\"}, {\"ID\": 368192, \"Gender\": \"M\", \"Contact_Number\": 9900077456, \"Login_Logout\": \"Login\", \"Shift_Date\": \"11/2/2017\", \"Shift_Time\": \"12:15\", \"pickup_time\": \"10:50\", \"pickup_area\": \"\", \"Pickup_point\": \"TC Palya Akshya Nagar Rajeswari layout Star Bazar\", \"serial_no\": 5, \"Escort\": \"N\", \"lat\": \"12.9726258\", \"lon\": \"77.6792387\"}, {\"ID\": 348961, \"Gender\": \"M\", \"Contact_Number\": 9742358007, \"Login_Logout\": \"Login\", \"Shift_Date\": \"11/2/2017\", \"Shift_Time\": \"12:15\", \"pickup_time\": \"10:50\", \"pickup_area\": \"\", \"Pickup_point\": \"TC Paly NRI Layout 4th Main Near Quality Mart\", \"serial_no\": 6, \"Escort\": \"N\", \"lon\": \"77.678996\", \"lat\": \"13.025373\"}, {\"ID\": 335012, \"Gender\": \"M\", \"Contact_Number\": 9980839725, \"Login_Logout\": \"Login\", \"Shift_Date\": \"11/2/2017\", \"Shift_Time\": \"12:15\", \"pickup_time\": \"10:50\", \"pickup_area\": \"\", \"Pickup_point\": \"TC Palya Main Road NRI Layout Hotel Krishna Bhavan\", \"serial_no\": 7, \"Escort\": \"N\", \"lon\": \"77.676472\", \"lat\": \"13.020597\"}, {\"ID\": 340069, \"Gender\": \"M\", \"Contact_Number\": 9590867395, \"Login_Logout\": \"Login\", \"Shift_Date\": \"11/2/2017\", \"Shift_Time\": \"12:15\", \"pickup_time\": \"11:00\", \"pickup_area\": \"\", \"Pickup_point\": \"TC Palya Main Road Raghavendra Circle\", \"serial_no\": 8, \"Escort\": \"N\", \"lat\": \"13.0200582\", \"lon\": \"77.6745267\"}, {\"ID\": 484099, \"Gender\": \"M\", \"Contact_Number\": 8050066494, \"Login_Logout\": \"Login\", \"Shift_Date\": \"11/2/2017\", \"Shift_Time\": \"12:15\", \"pickup_time\": \"11:10\", \"pickup_area\": \"\", \"Pickup_point\": \"Byapanahalli Sadananda Nagar Near Sri Sai Driving School\", \"serial_no\": 9, \"Escort\": \"N\", \"lat\": \"12.9952715\", \"lon\": \"77.6594561\"}], [{\"ID\": 426829, \"Gender\": \"F\", \"Contact_Number\": 9663073023, \"Login_Logout\": \"Login\", \"Shift_Date\": \"11/2/2017\", \"Shift_Time\": \"12:15\", \"pickup_time\": \"10:50\", \"pickup_area\": \"\", \"Pickup_point\": \"Ramamurthynagar Raghavendranagar 5th Cross\", \"serial_no\": 1, \"Escort\": \"N\", \"lat\": \"13.0244029\", \"lon\": \"77.6747316\"}, {\"ID\": 481528, \"Gender\": \"F\", \"Contact_Number\": 7259262072, \"Login_Logout\": \"Login\", \"Shift_Date\": \"11/2/2017\", \"Shift_Time\": \"12:15\", \"pickup_time\": \"10:50\", \"pickup_area\": \"\", \"Pickup_point\": \"Rammurthy Nagar Raghavendra Circle or Tamrind Restaurant\", \"serial_no\": 2, \"Escort\": \"N\", \"lon\": \"77.674878\", \"lat\": \"13.019848\"}, {\"ID\": 372839, \"Gender\": \"M\", \"Contact_Number\": 9886495736, \"Login_Logout\": \"Login\", \"Shift_Date\": \"11/2/2017\", \"Shift_Time\": \"12:15\", \"pickup_time\": \"11:00\", \"pickup_area\": \"\", \"Pickup_point\": \"RAMMURTHYNAGAR NEW POLICE STATION\", \"serial_no\": 3, \"Escort\": \"N\", \"lat\": \"13.0042145\", \"lon\": \"77.6638097\"}], [{\"ID\": 518366, \"Gender\": \"M\", \"Contact_Number\": 9916521822, \"Login_Logout\": \"Login\", \"Shift_Date\": \"11/2/2017\", \"Shift_Time\": \"12:15\", \"pickup_time\": \"11:10\", \"pickup_area\": \"\", \"Pickup_point\": \"Kasturinagar Doctors layout 1st Main 1st Cross\", \"serial_no\": 1, \"Escort\": \"N\", \"lat\": \"13.0073165\", \"lon\": \"77.65759829999999\"}, {\"ID\": 505430, \"Gender\": \"F\", \"Contact_Number\": 9741029319, \"Login_Logout\": \"Login\", \"Shift_Date\": \"11/2/2017\", \"Shift_Time\": \"12:15\", \"pickup_time\": \"11:10\", \"pickup_area\": \"\", \"Pickup_point\": \"Kasturi Nagargar BPCL Petrol Bunk\", \"serial_no\": 2, \"Escort\": \"N\", \"lat\": \"13.0312599\", \"lon\": \"77.669674\"}], [{\"ID\": 473344, \"Gender\": \"F\", \"Contact_Number\": 9620898899, \"Login_Logout\": \"Login\", \"Shift_Date\": \"11/2/2017\", \"Shift_Time\": \"12:15\", \"pickup_time\": \"10:45\", \"pickup_area\": \"\", \"Pickup_point\": \"KR Puram Battarhalli Narayanapa Layout Near SBI BANK\", \"serial_no\": 1, \"Escort\": \"N\", \"lat\": \"12.9930176\", \"lon\": \"77.6797014\"}, {\"ID\": 444630, \"Gender\": \"M\", \"Contact_Number\": 8197276777, \"Login_Logout\": \"Login\", \"Shift_Date\": \"11/2/2017\", \"Shift_Time\": \"12:15\", \"pickup_time\": \"10:50\", \"pickup_area\": \"\", \"Pickup_point\": \"KR Puram Bus Stop Ganesh Temple\", \"serial_no\": 2, \"Escort\": \"N\", \"lat\": \"13.0084537\", \"lon\": \"77.69512809999999\"}, {\"ID\": 464693, \"Gender\": \"M\", \"Contact_Number\": 9886088237, \"Login_Logout\": \"Login\", \"Shift_Date\": \"11/2/2017\", \"Shift_Time\": \"12:15\", \"pickup_time\": \"10:55\", \"pickup_area\": \"\", \"Pickup_point\": \"KR Puram Devasandra Main Road JC Layout 2nd Cross\", \"serial_no\": 3, \"Escort\": \"N\", \"lat\": \"13.004461\", \"lon\": \"77.708843\"}, {\"ID\": 470217, \"Gender\": \"M\", \"Contact_Number\": 8095291231, \"Login_Logout\": \"Login\", \"Shift_Date\": \"11/2/2017\", \"Shift_Time\": \"12:15\", \"pickup_time\": \"11:00\", \"pickup_area\": \"\", \"Pickup_point\": \"KR Puram Ayyappa Nagar Muneeshwara layout 5th Cross\", \"serial_no\": 4, \"Escort\": \"N\", \"lat\": \"12.9920947\", \"lon\": \"77.6629932\"}, {\"ID\": 312233, \"Gender\": \"M\", \"Contact_Number\": 9916991497, \"Login_Logout\": \"Login\", \"Shift_Date\": \"11/2/2017\", \"Shift_Time\": \"12:15\", \"pickup_time\": \"11:05\", \"pickup_area\": \"\", \"Pickup_point\": \"Hoodi Circle ITPL Main Road Ittina Akkala Apartment\", \"serial_no\": 5, \"Escort\": \"N\", \"lat\": \"12.9902727\", \"lon\": \"77.71959249999999\"}], [{\"ID\": 423983, \"Gender\": \"M\", \"Contact_Number\": 8951366937, \"Login_Logout\": \"Login\", \"Shift_Date\": \"11/2/2017\", \"Shift_Time\": \"12:15\", \"pickup_time\": \"10:45\", \"pickup_area\": \"\", \"Pickup_point\": \"Tin Factory Bus stop Uday Nagar Pai Layout\", \"serial_no\": 1, \"Escort\": \"N\", \"lat\": \"12.9965599\", \"lon\": \"77.66895769999999\"}, {\"ID\": 358895, \"Gender\": \"M\", \"Contact_Number\": 9966442648, \"Login_Logout\": \"Login\", \"Shift_Date\": \"11/2/2017\", \"Shift_Time\": \"12:15\", \"pickup_time\": \"10:45\", \"pickup_area\": \"\", \"Pickup_point\": \"A Narayanapura Akash Nagar 4th Cross Near Reliance Fresh\", \"serial_no\": 2, \"Escort\": \"N\", \"lon\": \"77.680481\", \"lat\": \"12.992835\"}, {\"ID\": 314510, \"Gender\": \"M\", \"Contact_Number\": 8867630396, \"Login_Logout\": \"Login\", \"Shift_Date\": \"11/2/2017\", \"Shift_Time\": \"12:15\", \"pickup_time\": \"10:45\", \"pickup_area\": \"\", \"Pickup_point\": \"KR Puram A Narayanpura\", \"serial_no\": 3, \"Escort\": \"N\", \"lat\": \"12.9933751\", \"lon\": \"77.67347380000001\"}, {\"ID\": 463222, \"Gender\": \"F\", \"Contact_Number\": 9066621698, \"Login_Logout\": \"Login\", \"Shift_Date\": \"11/2/2017\", \"Shift_Time\": \"12:15\", \"pickup_time\": \"10:45\", \"pickup_area\": \"\", \"Pickup_point\": \"KR Puram A Narayanapura NSR Road 2nd Cross\", \"serial_no\": 4, \"Escort\": \"N\", \"lat\": \"13.0248651\", \"lon\": \"77.517873\"}], [{\"ID\": 288884, \"Gender\": \"M\", \"Contact_Number\": 8904627909, \"Login_Logout\": \"Login\", \"Shift_Date\": \"11/2/2017\", \"Shift_Time\": \"12:15\", \"pickup_time\": \"11:00\", \"pickup_area\": \"\", \"Pickup_point\": \"Karthik Nagar Near Krishna \\\\u00e2\\\\u20ac\\\\u2039Temple\", \"serial_no\": 1, \"Escort\": \"N\", \"lon\": \"77.699211\", \"lat\": \"12.971538\"}], [{\"ID\": 449324, \"Gender\": \"M\", \"Contact_Number\": 9843063624, \"Login_Logout\": \"Login\", \"Shift_Date\": \"11/2/2017\", \"Shift_Time\": \"12:15\", \"pickup_time\": \"11:00\", \"pickup_area\": \"\", \"Pickup_point\": \"CHINNAPPPANAHALLI Kalamandir Bus Stop\", \"serial_no\": 1, \"Escort\": \"N\", \"lon\": \"77.701206\", \"lat\": \"12.96018\"}], [{\"ID\": 303193, \"Gender\": \"M\", \"Contact_Number\": 9986568646, \"Login_Logout\": \"Login\", \"Shift_Date\": \"11/2/2017\", \"Shift_Time\": \"12:15\", \"pickup_time\": \"10:45\", \"pickup_area\": \"\", \"Pickup_point\": \"Mahadevapura Phoenix Market city\", \"serial_no\": 1, \"Escort\": \"N\", \"lat\": \"12.9969211\", \"lon\": \"77.6967062\"}, {\"ID\": 373731, \"Gender\": \"M\", \"Contact_Number\": 9620828390, \"Login_Logout\": \"Login\", \"Shift_Date\": \"11/2/2017\", \"Shift_Time\": \"12:15\", \"pickup_time\": \"10:45\", \"pickup_area\": \"\", \"Pickup_point\": \"Mahadevapura, 4th B cross, Venkateswara Layout\", \"serial_no\": 2, \"Escort\": \"N\", \"lat\": \"12.9931911\", \"lon\": \"77.6712344\"}, {\"ID\": 83048, \"Gender\": \"M\", \"Contact_Number\": 7022633555, \"Login_Logout\": \"Login\", \"Shift_Date\": \"11/2/2017\", \"Shift_Time\": \"12:15\", \"pickup_time\": \"10:45\", \"pickup_area\": \"\", \"Pickup_point\": \"B Narayanapura Beside HP Software Company\", \"serial_no\": 3, \"Escort\": \"N\", \"lon\": \"77.689299\", \"lat\": \"12.99663\"}, {\"ID\": 335426, \"Gender\": \"M\", \"Contact_Number\": 8698148513, \"Login_Logout\": \"Login\", \"Shift_Date\": \"11/2/2017\", \"Shift_Time\": \"12:15\", \"pickup_time\": \"10:50\", \"pickup_area\": \"\", \"Pickup_point\": \"Marathalli Karthik Nagar Bus Stop\", \"serial_no\": 4, \"Escort\": \"N\", \"lat\": \"12.968389\", \"lon\": \"77.7013568\"}, {\"ID\": 469481, \"Gender\": \"M\", \"Contact_Number\": 9738900541, \"Login_Logout\": \"Login\", \"Shift_Date\": \"11/2/2017\", \"Shift_Time\": \"12:15\", \"pickup_time\": \"10:55\", \"pickup_area\": \"\", \"Pickup_point\": \"Kalamandira, Marathalli\", \"serial_no\": 5, \"Escort\": \"N\", \"lat\": \"12.9598424\", \"lon\": \"77.70160489999999\"}, {\"ID\": 375076, \"Gender\": \"M\", \"Contact_Number\": 8495067880, \"Login_Logout\": \"Login\", \"Shift_Date\": \"11/2/2017\", \"Shift_Time\": \"12:15\", \"pickup_time\": \"10:55\", \"pickup_area\": \"\", \"Pickup_point\": \"Marathahalli Infront of Kalamandir\", \"serial_no\": 6, \"Escort\": \"N\", \"lat\": \"12.9717026\", \"lon\": \"77.6891163\"}], [{\"ID\": 449609, \"Gender\": \"M\", \"Contact_Number\": 9986927442, \"Login_Logout\": \"Login\", \"Shift_Date\": \"11/2/2017\", \"Shift_Time\": \"12:15\", \"pickup_time\": \"10:30\", \"pickup_area\": \"\", \"Pickup_point\": \"White Field Kadugodi Shell Petrol Bunk\", \"serial_no\": 1, \"Escort\": \"N\", \"lat\": \"12.9564178\", \"lon\": \"77.73140169999999\"}, {\"ID\": 449749, \"Gender\": \"F\", \"Contact_Number\": 9443980263, \"Login_Logout\": \"Login\", \"Shift_Date\": \"11/2/2017\", \"Shift_Time\": \"12:15\", \"pickup_time\": \"10:30\", \"pickup_area\": \"\", \"Pickup_point\": \"White Field Kadugodi HP Petrol Pump\", \"serial_no\": 2, \"Escort\": \"N\", \"lat\": \"13.0068389\", \"lon\": \"77.7674602\"}, {\"ID\": 431470, \"Gender\": \"F\", \"Contact_Number\": 7835944366, \"Login_Logout\": \"Login\", \"Shift_Date\": \"11/2/2017\", \"Shift_Time\": \"12:15\", \"pickup_time\": \"10:35\", \"pickup_area\": \"\", \"Pickup_point\": \"Kadugodi Belathur Hosakote Main Road Near Blue Dots\", \"serial_no\": 3, \"Escort\": \"N\", \"lat\": \"13.0056286\", \"lon\": \"77.7567753\"}, {\"ID\": 341145, \"Gender\": \"F\", \"Contact_Number\": 8105798825, \"Login_Logout\": \"Login\", \"Shift_Date\": \"11/2/2017\", \"Shift_Time\": \"12:15\", \"pickup_time\": \"10:35\", \"pickup_area\": \"\", \"Pickup_point\": \"Whitefield Belathur Main Road Near Ayappa Temple\", \"serial_no\": 4, \"Escort\": \"N\", \"lat\": \"13.0060844\", \"lon\": \"77.75122759999999\"}, {\"ID\": 339629, \"Gender\": \"M\", \"Contact_Number\": 8951512983, \"Login_Logout\": \"Login\", \"Shift_Date\": \"11/2/2017\", \"Shift_Time\": \"12:15\", \"pickup_time\": \"10:45\", \"pickup_area\": \"\", \"Pickup_point\": \"Kadugodi Channsandra Bus Stop\", \"serial_no\": 5, \"Escort\": \"N\", \"lat\": \"12.9834927\", \"lon\": \"77.7684033\"}, {\"ID\": 287755, \"Gender\": \"F\", \"Contact_Number\": 9591422994, \"Login_Logout\": \"Login\", \"Shift_Date\": \"11/2/2017\", \"Shift_Time\": \"12:15\", \"pickup_time\": \"10:48\", \"pickup_area\": \"\", \"Pickup_point\": \"White Field Channasandra Main Road Nagondanahalli bus stop\", \"serial_no\": 6, \"Escort\": \"N\", \"lat\": \"12.9839764\", \"lon\": \"77.75264489999999\"}, {\"ID\": 498491, \"Gender\": \"M\", \"Contact_Number\": 9491135008, \"Login_Logout\": \"Login\", \"Shift_Date\": \"11/2/2017\", \"Shift_Time\": \"12:15\", \"pickup_time\": \"10:50\", \"pickup_area\": \"\", \"Pickup_point\": \"Whitefield Hope Farm Junction Maithri Layout\", \"serial_no\": 7, \"Escort\": \"N\", \"lat\": \"12.9843477\", \"lon\": \"77.7554407\"}, {\"ID\": 345542, \"Gender\": \"F\", \"Contact_Number\": 8861099111, \"Login_Logout\": \"Login\", \"Shift_Date\": \"11/2/2017\", \"Shift_Time\": \"12:15\", \"pickup_time\": \"10:55\", \"pickup_area\": \"\", \"Pickup_point\": \"THUBARHALLI BUS STOP SONESTAA MEADOWS\", \"serial_no\": 8, \"Escort\": \"N\", \"lon\": \"77.721836\", \"lat\": \"12.955903\"}], [{\"ID\": 455578, \"Gender\": \"M\", \"Contact_Number\": 9008022001, \"Login_Logout\": \"Login\", \"Shift_Date\": \"11/2/2017\", \"Shift_Time\": \"12:15\", \"pickup_time\": \"10:45\", \"pickup_area\": \"\", \"Pickup_point\": \"White Field Immidahalli Main Road Satya Narayana Swamy Temple\", \"serial_no\": 1, \"Escort\": \"N\", \"lat\": \"12.9692172\", \"lon\": \"77.7638102\"}, {\"ID\": 461271, \"Gender\": \"M\", \"Contact_Number\": 9632278250, \"Login_Logout\": \"Login\", \"Shift_Date\": \"11/2/2017\", \"Shift_Time\": \"12:15\", \"pickup_time\": \"10:45\", \"pickup_area\": \"\", \"Pickup_point\": \"WHITEFIELD IMMADIHALLI DSR GREENFIELD NAGONDANAHALLI ROAD\", \"serial_no\": 2, \"Escort\": \"N\", \"lat\": \"12.9710033\", \"lon\": \"77.7679899\"}, {\"ID\": 485819, \"Gender\": \"F\", \"Contact_Number\": 9008100745, \"Login_Logout\": \"Login\", \"Shift_Date\": \"11/2/2017\", \"Shift_Time\": \"12:15\", \"pickup_time\": \"10:50\", \"pickup_area\": \"\", \"Pickup_point\": \"Whitefield Hagadur Main Road Near Kavery Bakery\", \"serial_no\": 3, \"Escort\": \"N\", \"lat\": \"12.9640947\", \"lon\": \"77.7529692\"}, {\"ID\": 492660, \"Gender\": \"M\", \"Contact_Number\": 8553447342, \"Login_Logout\": \"Login\", \"Shift_Date\": \"11/2/2017\", \"Shift_Time\": \"12:15\", \"pickup_time\": \"11:00\", \"pickup_area\": \"\", \"Pickup_point\": \"Varthur Balegere Road Gandhi Circle\", \"serial_no\": 4, \"Escort\": \"N\", \"lat\": \"12.9539973\", \"lon\": \"77.7076333\"}], [{\"ID\": 473713, \"Gender\": \"M\", \"Contact_Number\": 8105804163, \"Login_Logout\": \"Login\", \"Shift_Date\": \"11/2/2017\", \"Shift_Time\": \"12:15\", \"pickup_time\": \"10:45\", \"pickup_area\": \"\", \"Pickup_point\": \"Brookfield AECS Layout ITPL Road 1st Cross B Block\", \"serial_no\": 1, \"Escort\": \"N\", \"lat\": \"12.9648754\", \"lon\": \"77.7175917\"}, {\"ID\": 336572, \"Gender\": \"F\", \"Contact_Number\": 8861678796, \"Login_Logout\": \"Login\", \"Shift_Date\": \"11/2/2017\", \"Shift_Time\": \"12:15\", \"pickup_time\": \"10:50\", \"pickup_area\": \"\", \"Pickup_point\": \"Kundalahalli AECS layout Ragam mega Store\", \"serial_no\": 2, \"Escort\": \"N\", \"lat\": \"12.963393\", \"lon\": \"77.7083749\"}, {\"ID\": 512655, \"Gender\": \"M\", \"Contact_Number\": 8411085005, \"Login_Logout\": \"Login\", \"Shift_Date\": \"11/2/2017\", \"Shift_Time\": \"12:15\", \"pickup_time\": \"10:50\", \"pickup_area\": \"\", \"Pickup_point\": \"KUNDALAHALLI GATE SHRIRAM SAMRUDDHI APTT\", \"serial_no\": 3, \"Escort\": \"N\", \"lon\": \"77.717449\", \"lat\": \"12.954067\"}, {\"ID\": 473823, \"Gender\": \"M\", \"Contact_Number\": 9500014983, \"Login_Logout\": \"Login\", \"Shift_Date\": \"11/2/2017\", \"Shift_Time\": \"12:15\", \"pickup_time\": \"11:00\", \"pickup_area\": \"\", \"Pickup_point\": \"Marathalli Spice Garden Bus Stop\", \"serial_no\": 4, \"Escort\": \"N\", \"lat\": \"12.9565121\", \"lon\": \"77.7089931\"}, {\"ID\": 485295, \"Gender\": \"F\", \"Contact_Number\": 9739024852, \"Login_Logout\": \"Login\", \"Shift_Date\": \"11/2/2017\", \"Shift_Time\": \"12:15\", \"pickup_time\": \"11:00\", \"pickup_area\": \"\", \"Pickup_point\": \"Kundalahalli Spice Garden Behind Aayug Hospital\", \"serial_no\": 5, \"Escort\": \"N\", \"lat\": \"12.9651348\", \"lon\": \"77.714848\"}], [{\"ID\": 485087, \"Gender\": \"M\", \"Contact_Number\": 9836619787, \"Login_Logout\": \"Login\", \"Shift_Date\": \"11/2/2017\", \"Shift_Time\": \"12:15\", \"pickup_time\": \"11:00\", \"pickup_area\": \"\", \"Pickup_point\": \"Munnekolla Spice Garden Near YESHUMATHI HOSPETAL\", \"serial_no\": 1, \"Escort\": \"N\", \"lon\": \"77.710941\", \"lat\": \"12.956081\"}, {\"ID\": 288019, \"Gender\": \"F\", \"Contact_Number\": 9535554075, \"Login_Logout\": \"Login\", \"Shift_Date\": \"11/2/2017\", \"Shift_Time\": \"12:15\", \"pickup_time\": \"11:05\", \"pickup_area\": \"\", \"Pickup_point\": \"Munekolala Laxmi Layout 6th Cross Spice Garedn\", \"serial_no\": 2, \"Escort\": \"N\", \"lat\": \"12.9525877\", \"lon\": \"77.7156375\"}, {\"ID\": 332322, \"Gender\": \"M\", \"Contact_Number\": 8147903244, \"Login_Logout\": \"Login\", \"Shift_Date\": \"11/2/2017\", \"Shift_Time\": \"12:15\", \"pickup_time\": \"11:10\", \"pickup_area\": \"\", \"Pickup_point\": \"Marathahalli Opposite to Biryani Zone\", \"serial_no\": 3, \"Escort\": \"N\", \"lat\": \"12.9523761\", \"lon\": \"77.7003376\"}], [{\"ID\": 344060, \"Gender\": \"M\", \"Contact_Number\": 9900385588, \"Login_Logout\": \"Login\", \"Shift_Date\": \"11/2/2017\", \"Shift_Time\": \"12:15\", \"pickup_time\": \"10:45\", \"pickup_area\": \"\", \"Pickup_point\": \"Munnekolala Manjunatha Layout 10th Cross\", \"serial_no\": 1, \"Escort\": \"N\", \"lat\": \"12.9504277\", \"lon\": \"77.7131137\"}, {\"ID\": 350451, \"Gender\": \"F\", \"Contact_Number\": 9035311952, \"Login_Logout\": \"Login\", \"Shift_Date\": \"11/2/2017\", \"Shift_Time\": \"12:15\", \"pickup_time\": \"10:45\", \"pickup_area\": \"\", \"Pickup_point\": \"Munekolala Near SGR Dental College Veerappa Reddy Layout\", \"serial_no\": 2, \"Escort\": \"N\", \"lat\": \"12.9492551\", \"lon\": \"77.7055285\"}, {\"ID\": 512939, \"Gender\": \"M\", \"Contact_Number\": 8123259028, \"Login_Logout\": \"Login\", \"Shift_Date\": \"11/2/2017\", \"Shift_Time\": \"12:15\", \"pickup_time\": \"10:45\", \"pickup_area\": \"\", \"Pickup_point\": \"Munekolalla Near SGR Dental college\", \"serial_no\": 3, \"Escort\": \"N\", \"lat\": \"12.9490694\", \"lon\": \"77.70305069999999\"}, {\"ID\": 509198, \"Gender\": \"F\", \"Contact_Number\": 9513256232, \"Login_Logout\": \"Login\", \"Shift_Date\": \"11/2/2017\", \"Shift_Time\": \"12:15\", \"pickup_time\": \"10:45\", \"pickup_area\": \"\", \"Pickup_point\": \"Munekolalla SGR Dental College Road 5th Cross\", \"serial_no\": 4, \"Escort\": \"N\", \"lat\": \"12.947888\", \"lon\": \"77.703952\"}, {\"ID\": 461506, \"Gender\": \"M\", \"Contact_Number\": 9611648223, \"Login_Logout\": \"Login\", \"Shift_Date\": \"11/2/2017\", \"Shift_Time\": \"12:15\", \"pickup_time\": \"10:45\", \"pickup_area\": \"\", \"Pickup_point\": \"Marathahalli SGR Dental College Near Railway track\", \"serial_no\": 5, \"Escort\": \"N\", \"lon\": \"77.705371\", \"lat\": \"12.948288\"}, {\"ID\": 477957, \"Gender\": \"F\", \"Contact_Number\": 9538250603, \"Login_Logout\": \"Login\", \"Shift_Date\": \"11/2/2017\", \"Shift_Time\": \"12:15\", \"pickup_time\": \"10:45\", \"pickup_area\": \"\", \"Pickup_point\": \"Munnekolala SGR Dental College Road Railway Track\", \"serial_no\": 6, \"Escort\": \"N\", \"lon\": \"77.704889\", \"lat\": \"12.948365\"}, {\"ID\": 494234, \"Gender\": \"F\", \"Contact_Number\": 8008123306, \"Login_Logout\": \"Login\", \"Shift_Date\": \"11/2/2017\", \"Shift_Time\": \"12:15\", \"pickup_time\": \"10:45\", \"pickup_area\": \"\", \"Pickup_point\": \"Marathahalli Near SGR Dental College OPP To Park Plaza\", \"serial_no\": 7, \"Escort\": \"N\", \"lat\": \"12.9496676\", \"lon\": \"77.7012903\"}, {\"ID\": 251335, \"Gender\": \"F\", \"Contact_Number\": 7337789404, \"Login_Logout\": \"Login\", \"Shift_Date\": \"11/2/2017\", \"Shift_Time\": \"12:15\", \"pickup_time\": \"10:50\", \"pickup_area\": \"\", \"Pickup_point\": \"Munnekolala PR layout SRJ Residency\", \"serial_no\": 8, \"Escort\": \"N\", \"lat\": \"12.9522235\", \"lon\": \"77.70384680000001\"}, {\"ID\": 530305, \"Gender\": \"F\", \"Contact_Number\": 9535043717, \"Login_Logout\": \"Login\", \"Shift_Date\": \"11/2/2017\", \"Shift_Time\": \"12:15\", \"pickup_time\": \"10:50\", \"pickup_area\": \"\", \"Pickup_point\": \"Munnekolla11th Cross Gandhi Nagar Governament School Opp Supermarket\", \"serial_no\": 9, \"Escort\": \"N\", \"lat\": \"12.9804258\", \"lon\": \"77.5703082\"}, {\"ID\": 364883, \"Gender\": \"F\", \"Contact_Number\": 9703321166, \"Login_Logout\": \"Login\", \"Shift_Date\": \"11/2/2017\", \"Shift_Time\": \"12:15\", \"pickup_time\": \"10:55\", \"pickup_area\": \"\", \"Pickup_point\": \"Kundanahalli Shirdi Sai Temple Road Latha Residency\", \"serial_no\": 10, \"Escort\": \"N\", \"lon\": \"77.715029\", \"lat\": \"12.949184\"}], [{\"ID\": \"C69243\", \"Gender\": \"M\", \"Contact_Number\": 9741529716, \"Login_Logout\": \"Login\", \"Shift_Date\": \"11/2/2017\", \"Shift_Time\": \"12:15\", \"pickup_time\": \"10:45\", \"pickup_area\": \"\", \"Pickup_point\": \"Marthahalli Tulasi Theater Road 7th Main\", \"serial_no\": 1, \"Escort\": \"N\", \"lat\": \"12.953587\", \"lon\": \"77.69801009999999\"}, {\"ID\": 496141, \"Gender\": \"M\", \"Contact_Number\": 9966668151, \"Login_Logout\": \"Login\", \"Shift_Date\": \"11/2/2017\", \"Shift_Time\": \"12:15\", \"pickup_time\": \"10:45\", \"pickup_area\": \"\", \"Pickup_point\": \"Marathahalli Tulasi Theatre Road 6th MainRoad Near HDFC ATM\", \"serial_no\": 2, \"Escort\": \"N\", \"lat\": \"12.9696\", \"lon\": \"77.70044\"}, {\"ID\": 498498, \"Gender\": \"M\", \"Contact_Number\": 9494285937, \"Login_Logout\": \"Login\", \"Shift_Date\": \"11/2/2017\", \"Shift_Time\": \"12:15\", \"pickup_time\": \"10:45\", \"pickup_area\": \"\", \"Pickup_point\": \"MARATHAHALLI THULASI THEATRE ROAD 4th Cross\", \"serial_no\": 4, \"Escort\": \"N\", \"lat\": \"12.956319\", \"lon\": \"77.6981967\"}, {\"ID\": 284724, \"Gender\": \"M\", \"Contact_Number\": 9535300846, \"Login_Logout\": \"Login\", \"Shift_Date\": \"11/2/2017\", \"Shift_Time\": \"12:15\", \"pickup_time\": \"10:45\", \"pickup_area\": \"\", \"Pickup_point\": \"Marathahalli Market Shiv temple\", \"serial_no\": 5, \"Escort\": \"N\", \"lat\": \"12.9561084\", \"lon\": \"77.6939254\"}, {\"ID\": 460720, \"Gender\": \"F\", \"Contact_Number\": 9066349374, \"Login_Logout\": \"Login\", \"Shift_Date\": \"11/2/2017\", \"Shift_Time\": \"12:15\", \"pickup_time\": \"10:50\", \"pickup_area\": \"\", \"Pickup_point\": \"Marathahalli Bridge bus stop\", \"serial_no\": 6, \"Escort\": \"N\", \"lat\": \"12.9604054\", \"lon\": \"77.70128489999999\"}, {\"ID\": 487526, \"Gender\": \"M\", \"Contact_Number\": 8008831691, \"Login_Logout\": \"Login\", \"Shift_Date\": \"11/2/2017\", \"Shift_Time\": \"12:15\", \"pickup_time\": \"10:55\", \"pickup_area\": \"\", \"Pickup_point\": \"Marathahalli Innovative Multiplex\", \"serial_no\": 8, \"Escort\": \"N\", \"lat\": \"12.9519018\", \"lon\": \"77.6989609\"}, {\"ID\": 528299, \"Gender\": \"M\", \"Contact_Number\": 8546959629, \"Login_Logout\": \"Login\", \"Shift_Date\": \"11/2/2017\", \"Shift_Time\": \"12:15\", \"pickup_time\": \"10:55\", \"pickup_area\": \"\", \"Pickup_point\": \"Marathahalli Inovative Multiplex\", \"serial_no\": 9, \"Escort\": \"N\", \"lat\": \"12.9519018\", \"lon\": \"77.6989609\"}], [{\"ID\": 314840, \"Gender\": \"M\", \"Contact_Number\": 9738869588, \"Login_Logout\": \"Login\", \"Shift_Date\": \"11/2/2017\", \"Shift_Time\": \"12:15\", \"pickup_time\": \"10:45\", \"pickup_area\": \"\", \"Pickup_point\": \"Girinagar Circle\", \"serial_no\": 1, \"Escort\": \"N\", \"lat\": \"12.9407458\", \"lon\": \"77.545326\"}, {\"ID\": 228616, \"Gender\": \"M\", \"Contact_Number\": 8722011110, \"Login_Logout\": \"Login\", \"Shift_Date\": \"11/2/2017\", \"Shift_Time\": \"12:15\", \"pickup_time\": \"10:45\", \"pickup_area\": \"\", \"Pickup_point\": \"Girinagar 2nd Phase Sundar Mahal\", \"serial_no\": 2, \"Escort\": \"N\", \"lat\": \"12.9387677\", \"lon\": \"77.5393675\"}, {\"ID\": 362076, \"Gender\": \"F\", \"Contact_Number\": 9844737539, \"Login_Logout\": \"Login\", \"Shift_Date\": \"11/2/2017\", \"Shift_Time\": \"12:15\", \"pickup_time\": \"10:45\", \"pickup_area\": \"\", \"Pickup_point\": \"Girinagar Circle Near Radha Krishna Horpital\", \"serial_no\": 3, \"Escort\": \"N\", \"lat\": \"12.9409158\", \"lon\": \"77.54559189999999\"}, {\"ID\": 485130, \"Gender\": \"M\", \"Contact_Number\": 9731724774, \"Login_Logout\": \"Login\", \"Shift_Date\": \"11/2/2017\", \"Shift_Time\": \"12:15\", \"pickup_time\": \"10:50\", \"pickup_area\": \"\", \"Pickup_point\": \"BSK 3rd Stage Nagendra Block Sita Circle\", \"serial_no\": 4, \"Escort\": \"N\", \"lat\": \"12.9391008\", \"lon\": \"77.5513576\"}, {\"ID\": 286890, \"Gender\": \"F\", \"Contact_Number\": 9964381562, \"Login_Logout\": \"Login\", \"Shift_Date\": \"11/2/2017\", \"Shift_Time\": \"12:15\", \"pickup_time\": \"10:52\", \"pickup_area\": \"\", \"Pickup_point\": \"Srinivasnagar Bank Colony Bus Stop\", \"serial_no\": 5, \"Escort\": \"N\", \"lat\": \"12.9385815\", \"lon\": \"77.55395639999999\"}, {\"ID\": 434593, \"Gender\": \"F\", \"Contact_Number\": 9480638839, \"Login_Logout\": \"Login\", \"Shift_Date\": \"11/2/2017\", \"Shift_Time\": \"12:15\", \"pickup_time\": \"10:55\", \"pickup_area\": \"\", \"Pickup_point\": \"Srinivasa Nagar 3rd Main 2nd Cross\", \"serial_no\": 6, \"Escort\": \"N\", \"lat\": \"12.9635817\", \"lon\": \"77.5313535\"}, {\"ID\": 505070, \"Gender\": \"F\", \"Contact_Number\": 9686235615, \"Login_Logout\": \"Login\", \"Shift_Date\": \"11/2/2017\", \"Shift_Time\": \"12:15\", \"pickup_time\": \"10:55\", \"pickup_area\": \"\", \"Pickup_point\": \"Srinagar bus stop bangalore\", \"serial_no\": 7, \"Escort\": \"N\", \"lat\": \"12.9479408\", \"lon\": \"77.5470765\"}, {\"ID\": 304138, \"Gender\": \"M\", \"Contact_Number\": 9972917886, \"Login_Logout\": \"Login\", \"Shift_Date\": \"11/2/2017\", \"Shift_Time\": \"12:15\", \"pickup_time\": \"11:00\", \"pickup_area\": \"\", \"Pickup_point\": \"BSK 1stage Srinagar\", \"serial_no\": 8, \"Escort\": \"N\", \"lat\": \"12.953248\", \"lon\": \"77.547827\"}], [{\"ID\": 478707, \"Gender\": \"M\", \"Contact_Number\": 9844370077, \"Login_Logout\": \"Login\", \"Shift_Date\": \"11/2/2017\", \"Shift_Time\": \"12:15\", \"pickup_time\": \"10:30\", \"pickup_area\": \"\", \"Pickup_point\": \"Kengeri, Near Global Tech Park Back Gate\", \"serial_no\": 1, \"Escort\": \"N\", \"lat\": \"12.9187647\", \"lon\": \"77.5014042\"}, {\"ID\": 527372, \"Gender\": \"F\", \"Contact_Number\": 8884034111, \"Login_Logout\": \"Login\", \"Shift_Date\": \"11/2/2017\", \"Shift_Time\": \"12:15\", \"pickup_time\": \"10:40\", \"pickup_area\": \"\", \"Pickup_point\": \"RR Nagar Homes Township\", \"serial_no\": 2, \"Escort\": \"N\", \"lat\": \"12.9225244\", \"lon\": \"77.51751229999999\"}, {\"ID\": 41149, \"Gender\": \"F\", \"Contact_Number\": 7349101333, \"Login_Logout\": \"Login\", \"Shift_Date\": \"11/2/2017\", \"Shift_Time\": \"12:15\", \"pickup_time\": \"10:45\", \"pickup_area\": \"\", \"Pickup_point\": \"RR Nagar BEML layout 5th Stage 7th Main Near Essar petrol bunk\", \"serial_no\": 3, \"Escort\": \"N\", \"lon\": \"77.519573\", \"lat\": \"12.906672\"}, {\"ID\": 426682, \"Gender\": \"M\", \"Contact_Number\": 9972479721, \"Login_Logout\": \"Login\", \"Shift_Date\": \"11/2/2017\", \"Shift_Time\": \"12:15\", \"pickup_time\": \"10:45\", \"pickup_area\": \"\", \"Pickup_point\": \"RR Nagar Halagevaderahalli Shivanna Layout 3rd Cross\", \"serial_no\": 4, \"Escort\": \"N\", \"lon\": \"77.51591\", \"lat\": \"12.918987\"}, {\"ID\": 432249, \"Gender\": \"F\", \"Contact_Number\": 7829587434, \"Login_Logout\": \"Login\", \"Shift_Date\": \"11/2/2017\", \"Shift_Time\": \"12:15\", \"pickup_time\": \"10:50\", \"pickup_area\": \"\", \"Pickup_point\": \"RR Nagar Century Indus Apartment Near Jnanakshi Vidyanikethan school\", \"serial_no\": 5, \"Escort\": \"N\", \"lat\": \"12.9114276\", \"lon\": \"77.5114427\"}, {\"ID\": 485279, \"Gender\": \"M\", \"Contact_Number\": 9008696429, \"Login_Logout\": \"Login\", \"Shift_Date\": \"11/2/2017\", \"Shift_Time\": \"12:15\", \"pickup_time\": \"10:55\", \"pickup_area\": \"\", \"Pickup_point\": \"RR Nagar Channasandra RNSIT college\", \"serial_no\": 6, \"Escort\": \"N\", \"lat\": \"12.9021902\", \"lon\": \"77.518582\"}], [{\"ID\": 304131, \"Gender\": \"M\", \"Contact_Number\": 9986007516, \"Login_Logout\": \"Login\", \"Shift_Date\": \"11/2/2017\", \"Shift_Time\": \"12:15\", \"pickup_time\": \"11:00\", \"pickup_area\": \"\", \"Pickup_point\": \"Channasandra Utharahalli Kengeri Main Road Mantri Allpyne\", \"serial_no\": 1, \"Escort\": \"N\", \"lat\": \"12.9024279\", \"lon\": \"77.528778\"}, {\"ID\": 294028, \"Gender\": \"M\", \"Contact_Number\": 9945411403, \"Login_Logout\": \"Login\", \"Shift_Date\": \"11/2/2017\", \"Shift_Time\": \"12:15\", \"pickup_time\": \"11:10\", \"pickup_area\": \"\", \"Pickup_point\": \"Uttarahalli Main Road Near Arehalli Arch Near Kambalamma Temple\", \"serial_no\": 2, \"Escort\": \"N\", \"lat\": \"12.9092454\", \"lon\": \"77.53850659999999\"}, {\"ID\": 469229, \"Gender\": \"M\", \"Contact_Number\": 9731737879, \"Login_Logout\": \"Login\", \"Shift_Date\": \"11/2/2017\", \"Shift_Time\": \"12:15\", \"pickup_time\": \"11:12\", \"pickup_area\": \"\", \"Pickup_point\": \"Uttarahalli BHCS Layout 2nd Main\", \"serial_no\": 3, \"Escort\": \"N\", \"lat\": \"12.90621\", \"lon\": \"77.5491006\"}, {\"ID\": 309154, \"Gender\": \"M\", \"Contact_Number\": 8884001717, \"Login_Logout\": \"Login\", \"Shift_Date\": \"11/2/2017\", \"Shift_Time\": \"12:15\", \"pickup_time\": \"11:15\", \"pickup_area\": \"\", \"Pickup_point\": \"Chickkalasandra Shani Mahathma Temple\", \"serial_no\": 4, \"Escort\": \"N\", \"lat\": \"12.9117176\", \"lon\": \"77.55206369999999\"}, {\"ID\": 248590, \"Gender\": \"M\", \"Contact_Number\": 9880305770, \"Login_Logout\": \"Login\", \"Shift_Date\": \"11/2/2017\", \"Shift_Time\": \"12:15\", \"pickup_time\": \"11:20\", \"pickup_area\": \"\", \"Pickup_point\": \"Padmanabhanagar Kadreinhalli Petrol Bunk\", \"serial_no\": 5, \"Escort\": \"N\", \"lat\": \"12.9145787\", \"lon\": \"77.5604232\"}, {\"ID\": 466695, \"Gender\": \"M\", \"Contact_Number\": 9902033393, \"Login_Logout\": \"Login\", \"Shift_Date\": \"11/2/2017\", \"Shift_Time\": \"12:15\", \"pickup_time\": \"11:25\", \"pickup_area\": \"\", \"Pickup_point\": \"Padmanabhanagar DG Hospital\", \"serial_no\": 6, \"Escort\": \"N\", \"lat\": \"12.920684\", \"lon\": \"77.5598116\"}, {\"ID\": 485332, \"Gender\": \"M\", \"Contact_Number\": 8762132854, \"Login_Logout\": \"Login\", \"Shift_Date\": \"11/2/2017\", \"Shift_Time\": \"12:15\", \"pickup_time\": \"11:45\", \"pickup_area\": \"\", \"Pickup_point\": \"BTM lake road Caf\\\\u00c3\\\\u00a9 Coffe Day\", \"serial_no\": 7, \"Escort\": \"N\", \"lat\": \"12.9055248\", \"lon\": \"77.6059126\"}], [{\"ID\": 478778, \"Gender\": \"M\", \"Contact_Number\": 9901228909, \"Login_Logout\": \"Login\", \"Shift_Date\": \"11/2/2017\", \"Shift_Time\": \"12:15\", \"pickup_time\": \"10:45\", \"pickup_area\": \"\", \"Pickup_point\": \"Kanakapura Road KSIT College Raghuvanahalli\", \"serial_no\": 1, \"Escort\": \"N\", \"lat\": \"12.8790045\", \"lon\": \"77.5452878\"}, {\"ID\": 485226, \"Gender\": \"M\", \"Contact_Number\": 8197950962, \"Login_Logout\": \"Login\", \"Shift_Date\": \"11/2/2017\", \"Shift_Time\": \"12:15\", \"pickup_time\": \"10:45\", \"pickup_area\": \"\", \"Pickup_point\": \"Kanakapura Road KSIT College Raghuvanahalli\", \"serial_no\": 2, \"Escort\": \"N\", \"lat\": \"12.8790045\", \"lon\": \"77.5452878\"}, {\"ID\": 297816, \"Gender\": \"M\", \"Contact_Number\": 7259222832, \"Login_Logout\": \"Login\", \"Shift_Date\": \"11/2/2017\", \"Shift_Time\": \"12:15\", \"pickup_time\": \"10:50\", \"pickup_area\": \"\", \"Pickup_point\": \"Gokulam Apartment Doddakallasandra Kanakapura Road\", \"serial_no\": 3, \"Escort\": \"N\", \"lat\": \"12.8888732\", \"lon\": \"77.5515873\"}, {\"ID\": 509214, \"Gender\": \"F\", \"Contact_Number\": 9008844040, \"Login_Logout\": \"Login\", \"Shift_Date\": \"11/2/2017\", \"Shift_Time\": \"12:15\", \"pickup_time\": \"10:55\", \"pickup_area\": \"\", \"Pickup_point\": \"Kananakunte Cross\", \"serial_no\": 4, \"Escort\": \"N\", \"lat\": \"12.8825652\", \"lon\": \"77.56536539999999\"}, {\"ID\": 530531, \"Gender\": \"F\", \"Contact_Number\": 9663550272, \"Login_Logout\": \"Login\", \"Shift_Date\": \"11/2/2017\", \"Shift_Time\": \"12:15\", \"pickup_time\": \"11:00\", \"pickup_area\": \"\", \"Pickup_point\": \"Knakapura Road Near Heritage Fresh\", \"serial_no\": 5, \"Escort\": \"N\", \"lat\": \"12.92019\", \"lon\": \"77.570916\"}, {\"ID\": 297121, \"Gender\": \"M\", \"Contact_Number\": 9945604160, \"Login_Logout\": \"Login\", \"Shift_Date\": \"11/2/2017\", \"Shift_Time\": \"12:15\", \"pickup_time\": \"11:10\", \"pickup_area\": \"\", \"Pickup_point\": \"Yelachenahalli KV Lakefront Near Om Shakti Temple\", \"serial_no\": 6, \"Escort\": \"N\", \"lon\": \"77.565214\", \"lat\": \"12.900798\"}, {\"ID\": 338593, \"Gender\": \"M\", \"Contact_Number\": 9535098068, \"Login_Logout\": \"Login\", \"Shift_Date\": \"11/2/2017\", \"Shift_Time\": \"12:15\", \"pickup_time\": \"11:10\", \"pickup_area\": \"\", \"Pickup_point\": \"Jaraganahalli Govindappa Layout 3rd Cross Near GKM College\", \"serial_no\": 7, \"Escort\": \"N\", \"lon\": \"77.574557\", \"lat\": \"12.897288\"}], [{\"ID\": 453613, \"Gender\": \"M\", \"Contact_Number\": 8147706795, \"Login_Logout\": \"Login\", \"Shift_Date\": \"11/2/2017\", \"Shift_Time\": \"12:15\", \"pickup_time\": \"10:45\", \"pickup_area\": \"\", \"Pickup_point\": \"Subramanyapura Police Station\", \"serial_no\": 1, \"Escort\": \"N\", \"lat\": \"12.9012224\", \"lon\": \"77.54433809999999\"}, {\"ID\": 372983, \"Gender\": \"M\", \"Contact_Number\": 8500840591, \"Login_Logout\": \"Login\", \"Shift_Date\": \"11/2/2017\", \"Shift_Time\": \"12:15\", \"pickup_time\": \"10:50\", \"pickup_area\": \"\", \"Pickup_point\": \"Kumarswamy Layout Police station\", \"serial_no\": 2, \"Escort\": \"N\", \"lat\": \"12.9051954\", \"lon\": \"77.5628536\"}, {\"ID\": 475265, \"Gender\": \"M\", \"Contact_Number\": 8050270528, \"Login_Logout\": \"Login\", \"Shift_Date\": \"11/2/2017\", \"Shift_Time\": \"12:15\", \"pickup_time\": \"11:30\", \"pickup_area\": \"\", \"Pickup_point\": \"BG Road Behind Shoppers Stop Mantri Elegance\", \"serial_no\": 3, \"Escort\": \"N\", \"lat\": \"12.9126796\", \"lon\": \"77.6016781\"}], [{\"ID\": 468826, \"Gender\": \"F\", \"Contact_Number\": 9902414282, \"Login_Logout\": \"Login\", \"Shift_Date\": \"11/2/2017\", \"Shift_Time\": \"12:15\", \"pickup_time\": \"10:45\", \"pickup_area\": \"\", \"Pickup_point\": \"JP Nagar 8th Phase Kothnur Dinne Main Road Near BK Circle\", \"serial_no\": 1, \"Escort\": \"N\", \"lat\": \"12.872337\", \"lon\": \"77.5818738\"}, {\"ID\": 506871, \"Gender\": \"F\", \"Contact_Number\": 8249525284, \"Login_Logout\": \"Login\", \"Shift_Date\": \"11/2/2017\", \"Shift_Time\": \"12:15\", \"pickup_time\": \"10:45\", \"pickup_area\": \"\", \"Pickup_point\": \"JP NAGAR 7th PHASE CR LAYOUT NEAR BRIGADE MILLENIUM\", \"serial_no\": 2, \"Escort\": \"N\", \"lat\": \"12.8929276\", \"lon\": \"77.5825059\"}, {\"ID\": 329157, \"Gender\": \"M\", \"Contact_Number\": 9741554017, \"Login_Logout\": \"Login\", \"Shift_Date\": \"11/2/2017\", \"Shift_Time\": \"12:15\", \"pickup_time\": \"11:00\", \"pickup_area\": \"\", \"Pickup_point\": \"JP Nagar 6th Phase Inchara hotel\", \"serial_no\": 3, \"Escort\": \"N\", \"lat\": \"12.9027074\", \"lon\": \"77.5838129\"}, {\"ID\": 432822, \"Gender\": \"F\", \"Contact_Number\": 9945317837, \"Login_Logout\": \"Login\", \"Shift_Date\": \"11/2/2017\", \"Shift_Time\": \"12:15\", \"pickup_time\": \"11:00\", \"pickup_area\": \"\", \"Pickup_point\": \"JP Nagar 5th Phase Near Nandini Hotel\", \"serial_no\": 4, \"Escort\": \"N\", \"lat\": \"12.9032059\", \"lon\": \"77.5860585\"}], [{\"ID\": 365732, \"Gender\": \"F\", \"Contact_Number\": 9538260742, \"Login_Logout\": \"Login\", \"Shift_Date\": \"11/2/2017\", \"Shift_Time\": \"12:15\", \"pickup_time\": \"10:45\", \"pickup_area\": \"\", \"Pickup_point\": \"Hosakerahalli 43 B Bus Stop 1st Cross\", \"serial_no\": 1, \"Escort\": \"N\", \"lat\": \"13.0044449\", \"lon\": \"77.5489953\"}, {\"ID\": 339214, \"Gender\": \"M\", \"Contact_Number\": 7406194466, \"Login_Logout\": \"Login\", \"Shift_Date\": \"11/2/2017\", \"Shift_Time\": \"12:15\", \"pickup_time\": \"11:00\", \"pickup_area\": \"\", \"Pickup_point\": \"BSK 3rd Stage Kathriguppe Balaji Nagar\", \"serial_no\": 2, \"Escort\": \"N\", \"lat\": \"12.9306785\", \"lon\": \"77.55853859999999\"}, {\"ID\": 524981, \"Gender\": \"M\", \"Contact_Number\": 9900094978, \"Login_Logout\": \"Login\", \"Shift_Date\": \"11/2/2017\", \"Shift_Time\": \"12:15\", \"pickup_time\": \"11:00\", \"pickup_area\": \"\", \"Pickup_point\": \"BSK 3rd Stage Kamakya Thea\\\\u00e2\\\\u20ac\\\\u2039tre 100ft Ring Road\", \"serial_no\": 3, \"Escort\": \"N\", \"lat\": \"12.9233054\", \"lon\": \"77.55334479999999\"}, {\"ID\": 456930, \"Gender\": \"M\", \"Contact_Number\": 9886624171, \"Login_Logout\": \"Login\", \"Shift_Date\": \"11/2/2017\", \"Shift_Time\": \"12:15\", \"pickup_time\": \"11:00\", \"pickup_area\": \"\", \"Pickup_point\": \"BSK 3RD STAGE NEAR KAMAKYA THEATRE\", \"serial_no\": 4, \"Escort\": \"N\", \"lat\": \"12.9233054\", \"lon\": \"77.55334479999999\"}, {\"ID\": 459029, \"Gender\": \"M\", \"Contact_Number\": 9790970736, \"Login_Logout\": \"Login\", \"Shift_Date\": \"11/2/2017\", \"Shift_Time\": \"12:15\", \"pickup_time\": \"11:00\", \"pickup_area\": \"\", \"Pickup_point\": \"BSK 3rd Stage Near Appollo public school\", \"serial_no\": 5, \"Escort\": \"N\", \"lat\": \"12.9231115\", \"lon\": \"77.5576428\"}, {\"ID\": 324998, \"Gender\": \"M\", \"Contact_Number\": 9900525253, \"Login_Logout\": \"Login\", \"Shift_Date\": \"11/2/2017\", \"Shift_Time\": \"12:15\", \"pickup_time\": \"11:40\", \"pickup_area\": \"\", \"Pickup_point\": \"Jayanagar 4th T block SHOBHA APARTMENT\", \"serial_no\": 6, \"Escort\": \"N\", \"lat\": \"12.9198876\", \"lon\": \"77.5879973\"}, {\"ID\": 513975, \"Gender\": \"F\", \"Contact_Number\": 9071269836, \"Login_Logout\": \"Login\", \"Shift_Date\": \"11/2/2017\", \"Shift_Time\": \"12:15\", \"pickup_time\": \"11:45\", \"pickup_area\": \"\", \"Pickup_point\": \"Jayanagar 9th block Ragi Gudda Arch 26th Main 38th B Cross\", \"serial_no\": 7, \"Escort\": \"N\", \"lon\": \"77.594117\", \"lat\": \"12.918458\"}], [{\"ID\": 475434, \"Gender\": \"M\", \"Contact_Number\": 9964716740, \"Login_Logout\": \"Login\", \"Shift_Date\": \"11/2/2017\", \"Shift_Time\": \"12:15\", \"pickup_time\": \"11:05\", \"pickup_area\": \"\", \"Pickup_point\": \"Katriguppe KEB road 4th main Behind Ganapathi temple\", \"serial_no\": 1, \"Escort\": \"N\", \"lon\": \"77.558843\", \"lat\": \"12.93006\"}, {\"ID\": 460390, \"Gender\": \"M\", \"Contact_Number\": 8792668088, \"Login_Logout\": \"Login\", \"Shift_Date\": \"11/2/2017\", \"Shift_Time\": \"12:15\", \"pickup_time\": \"11:05\", \"pickup_area\": \"\", \"Pickup_point\": \"Katriguppe KEB road 4th main Behind Ganapathi temple\", \"serial_no\": 2, \"Escort\": \"N\", \"lon\": \"77.558854\", \"lat\": \"12.930123\"}, {\"ID\": 460814, \"Gender\": \"F\", \"Contact_Number\": 9611490266, \"Login_Logout\": \"Login\", \"Shift_Date\": \"11/2/2017\", \"Shift_Time\": \"12:15\", \"pickup_time\": \"11:15\", \"pickup_area\": \"\", \"Pickup_point\": \"Near Vidyapeetha Circle\", \"serial_no\": 3, \"Escort\": \"N\", \"lat\": \"12.9334382\", \"lon\": \"77.56086719999999\"}, {\"ID\": 258360, \"Gender\": \"F\", \"Contact_Number\": 9663644778, \"Login_Logout\": \"Login\", \"Shift_Date\": \"11/2/2017\", \"Shift_Time\": \"12:15\", \"pickup_time\": \"11:40\", \"pickup_area\": \"\", \"Pickup_point\": \"Jayanagara 9th Block 26th Main Near Ragigudda\", \"serial_no\": 4, \"Escort\": \"N\", \"lat\": \"12.9172579\", \"lon\": \"77.59342269999999\"}, {\"ID\": 536883, \"Gender\": \"F\", \"Contact_Number\": 7978307828, \"Login_Logout\": \"Login\", \"Shift_Date\": \"11/2/2017\", \"Shift_Time\": \"12:15\", \"pickup_time\": \"11:45\", \"pickup_area\": \"\", \"Pickup_point\": \"BTM Mico Layout 8th Main Reliance Fresh\", \"serial_no\": 5, \"Escort\": \"N\", \"lat\": \"12.9164471\", \"lon\": \"77.6045748\"}], [{\"ID\": 437971, \"Gender\": \"M\", \"Contact_Number\": 9844549534, \"Login_Logout\": \"Login\", \"Shift_Date\": \"11/2/2017\", \"Shift_Time\": \"12:15\", \"pickup_time\": \"10:45\", \"pickup_area\": \"\", \"Pickup_point\": \"Thyagaraja Nagar 5th block Vidyapeeta Circle\", \"serial_no\": 1, \"Escort\": \"N\", \"lat\": \"12.9237427\", \"lon\": \"77.5501196\"}, {\"ID\": 484509, \"Gender\": \"F\", \"Contact_Number\": 9591082345, \"Login_Logout\": \"Login\", \"Shift_Date\": \"11/2/2017\", \"Shift_Time\": \"12:15\", \"pickup_time\": \"10:50\", \"pickup_area\": \"\", \"Pickup_point\": \"KR Road Shastri Nagar 5th Cross Near Rajakumara Statue\", \"serial_no\": 2, \"Escort\": \"N\", \"lon\": \"77.574423\", \"lat\": \"12.959474\"}, {\"ID\": 368114, \"Gender\": \"F\", \"Contact_Number\": 8892342319, \"Login_Logout\": \"Login\", \"Shift_Date\": \"11/2/2017\", \"Shift_Time\": \"12:15\", \"pickup_time\": \"11:00\", \"pickup_area\": \"\", \"Pickup_point\": \"Jayanagar 4th T block Detail Car Wash\", \"serial_no\": 3, \"Escort\": \"N\", \"lat\": \"12.9261736\", \"lon\": \"77.5888496\"}, {\"ID\": 328527, \"Gender\": \"M\", \"Contact_Number\": 9686243313, \"Login_Logout\": \"Login\", \"Shift_Date\": \"11/2/2017\", \"Shift_Time\": \"12:15\", \"pickup_time\": \"11:10\", \"pickup_area\": \"\", \"Pickup_point\": \"Jayanagar 3rd Block Thilaknagar RBI Colony\", \"serial_no\": 4, \"Escort\": \"N\", \"lat\": \"12.929743\", \"lon\": \"77.5941783\"}], [{\"ID\": 435071, \"Gender\": \"M\", \"Contact_Number\": 9502933678, \"Login_Logout\": \"Login\", \"Shift_Date\": \"11/2/2017\", \"Shift_Time\": \"12:15\", \"pickup_time\": \"11:00\", \"pickup_area\": \"\", \"Pickup_point\": \"Jayanagar 3rd Block Near Syndicate Bank\", \"serial_no\": 1, \"Escort\": \"N\", \"lat\": \"12.9332503\", \"lon\": \"77.5839116\"}, {\"ID\": 62413, \"Gender\": \"F\", \"Contact_Number\": 9742278117, \"Login_Logout\": \"Login\", \"Shift_Date\": \"11/2/2017\", \"Shift_Time\": \"12:15\", \"pickup_time\": \"11:20\", \"pickup_area\": \"\", \"Pickup_point\": \"BTM Jayadeva Near Reliance Fresh\", \"serial_no\": 2, \"Escort\": \"N\", \"lat\": \"12.9164471\", \"lon\": \"77.6045748\"}, {\"ID\": 520021, \"Gender\": \"M\", \"Contact_Number\": 8971261850, \"Login_Logout\": \"Login\", \"Shift_Date\": \"11/2/2017\", \"Shift_Time\": \"12:15\", \"pickup_time\": \"11:20\", \"pickup_area\": \"\", \"Pickup_point\": \"BTM Jayadeva Opp Reliance Fresh\", \"serial_no\": 3, \"Escort\": \"N\", \"lon\": \"77.604909\", \"lat\": \"12.916734\"}, {\"ID\": 454022, \"Gender\": \"F\", \"Contact_Number\": 7829387084, \"Login_Logout\": \"Login\", \"Shift_Date\": \"11/2/2017\", \"Shift_Time\": \"12:15\", \"pickup_time\": \"11:20\", \"pickup_area\": \"\", \"Pickup_point\": \"BTM Jayadeva Opp Reliance Fresh\", \"serial_no\": 4, \"Escort\": \"N\", \"lon\": \"77.604909\", \"lat\": \"12.916734\"}], [{\"ID\": 472761, \"Gender\": \"M\", \"Contact_Number\": \"98453 40706\", \"Login_Logout\": \"Login\", \"Shift_Date\": \"11/2/2017\", \"Shift_Time\": \"12:15\", \"pickup_time\": \"10:45\", \"pickup_area\": \"\", \"Pickup_point\": \"CV Raman Nagar Byrasandra Anjaneya Temple\", \"serial_no\": 1, \"Escort\": \"N\", \"lat\": \"12.9823324\", \"lon\": \"77.667199\"}, {\"ID\": 495819, \"Gender\": \"M\", \"Contact_Number\": 9686733637, \"Login_Logout\": \"Login\", \"Shift_Date\": \"11/2/2017\", \"Shift_Time\": \"12:15\", \"pickup_time\": \"10:45\", \"pickup_area\": \"\", \"Pickup_point\": \"CV Raman Nagar Bus stand Near Bhuvaneshwari Temple\", \"serial_no\": 2, \"Escort\": \"N\", \"lon\": \"77.665546\", \"lat\": \"12.984676\"}, {\"ID\": 313855, \"Gender\": \"F\", \"Contact_Number\": 9538629590, \"Login_Logout\": \"Login\", \"Shift_Date\": \"11/2/2017\", \"Shift_Time\": \"12:15\", \"pickup_time\": \"10:45\", \"pickup_area\": \"\", \"Pickup_point\": \"CV RAMAN NAGAR KAGGADASAPURA MAIN ROAD 1ST CROSSS\", \"serial_no\": 3, \"Escort\": \"N\", \"lat\": \"12.9888591\", \"lon\": \"77.6697634\"}, {\"ID\": 512638, \"Gender\": \"F\", \"Contact_Number\": 9611347870, \"Login_Logout\": \"Login\", \"Shift_Date\": \"11/2/2017\", \"Shift_Time\": \"12:15\", \"pickup_time\": \"10:50\", \"pickup_area\": \"\", \"Pickup_point\": \"Jeevan Bhima nagar main bus stand (main LIC office)\", \"serial_no\": 4, \"Escort\": \"N\", \"lon\": \"77.649949\", \"lat\": \"12.968579\"}, {\"ID\": 313061, \"Gender\": \"M\", \"Contact_Number\": 9845470634, \"Login_Logout\": \"Login\", \"Shift_Date\": \"11/2/2017\", \"Shift_Time\": \"12:15\", \"pickup_time\": \"10:50\", \"pickup_area\": \"\", \"Pickup_point\": \"Jeevanbhimanagar Main Road Kodihalli\", \"serial_no\": 5, \"Escort\": \"N\", \"lat\": \"12.9686071\", \"lon\": \"77.6489077\"}, {\"ID\": 504685, \"Gender\": \"M\", \"Contact_Number\": 9741215727, \"Login_Logout\": \"Login\", \"Shift_Date\": \"11/2/2017\", \"Shift_Time\": \"12:15\", \"pickup_time\": \"11:00\", \"pickup_area\": \"\", \"Pickup_point\": \"HAL OLD Airport road Behind Hal Post office\", \"serial_no\": 6, \"Escort\": \"N\", \"lat\": \"12.9585186\", \"lon\": \"77.6678672\"}, {\"ID\": 340534, \"Gender\": \"M\", \"Contact_Number\": 9449886369, \"Login_Logout\": \"Login\", \"Shift_Date\": \"11/2/2017\", \"Shift_Time\": \"12:15\", \"pickup_time\": \"11:00\", \"pickup_area\": \"\", \"Pickup_point\": \"HAL 2nd Stage Kodihalli Near Manipal Hospital\", \"serial_no\": 7, \"Escort\": \"N\", \"lat\": \"12.961278\", \"lon\": \"77.645476\"}], [{\"ID\": 502046, \"Gender\": \"M\", \"Contact_Number\": 9743516165, \"Login_Logout\": \"Login\", \"Shift_Date\": \"11/2/2017\", \"Shift_Time\": \"12:15\", \"pickup_time\": \"10:45\", \"pickup_area\": \"\", \"Pickup_point\": \"GM Palya Kaveri Layout\", \"serial_no\": 1, \"Escort\": \"N\", \"lat\": \"12.9319793\", \"lon\": \"77.6113673\"}, {\"ID\": 287586, \"Gender\": \"M\", \"Contact_Number\": 8105900311, \"Login_Logout\": \"Login\", \"Shift_Date\": \"11/2/2017\", \"Shift_Time\": \"12:15\", \"pickup_time\": \"10:50\", \"pickup_area\": \"\", \"Pickup_point\": \"Ramesh Nagar Veerabhadra Nagar 2nd stage 3rd Cross\", \"serial_no\": 2, \"Escort\": \"N\", \"lon\": \"77.536324\", \"lat\": \"12.938723\"}, {\"ID\": 510457, \"Gender\": \"M\", \"Contact_Number\": 9538438205, \"Login_Logout\": \"Login\", \"Shift_Date\": \"11/2/2017\", \"Shift_Time\": \"12:15\", \"pickup_time\": \"10:50\", \"pickup_area\": \"\", \"Pickup_point\": \"Vignan Nagar 4th cross Bite Junction\", \"serial_no\": 3, \"Escort\": \"N\", \"lon\": \"77.680218\", \"lat\": \"12.97349\"}, {\"ID\": 362258, \"Gender\": \"M\", \"Contact_Number\": 8056051697, \"Login_Logout\": \"Login\", \"Shift_Date\": \"11/2/2017\", \"Shift_Time\": \"12:15\", \"pickup_time\": \"11:00\", \"pickup_area\": \"\", \"Pickup_point\": \"LB Shastri Nagar Main Road 2nd Cross Road APSA School\", \"serial_no\": 4, \"Escort\": \"N\", \"lon\": \"77.672702\", \"lat\": \"12.967299\"}, {\"ID\": 468544, \"Gender\": \"M\", \"Contact_Number\": 8686716060, \"Login_Logout\": \"Login\", \"Shift_Date\": \"11/2/2017\", \"Shift_Time\": \"12:15\", \"pickup_time\": \"11:05\", \"pickup_area\": \"\", \"Pickup_point\": \"MURGHESHPALYA TOTAL MALL 2ND MAIN\", \"serial_no\": 5, \"Escort\": \"N\", \"lat\": \"12.9951589\", \"lon\": \"77.57910660000002\"}, {\"ID\": 451772, \"Gender\": \"M\", \"Contact_Number\": 8123521550, \"Login_Logout\": \"Login\", \"Shift_Date\": \"11/2/2017\", \"Shift_Time\": \"12:15\", \"pickup_time\": \"11:05\", \"pickup_area\": \"\", \"Pickup_point\": \"Murugeshpalya Old Airport Road Near Rajeshwari Theatre\", \"serial_no\": 6, \"Escort\": \"N\", \"lat\": \"12.9589599\", \"lon\": \"77.6596016\"}, {\"ID\": 431152, \"Gender\": \"M\", \"Contact_Number\": 9618935546, \"Login_Logout\": \"Login\", \"Shift_Date\": \"11/2/2017\", \"Shift_Time\": \"12:15\", \"pickup_time\": \"11:10\", \"pickup_area\": \"\", \"Pickup_point\": \"Old Airport road Kodihalli The leela Palace\", \"serial_no\": 7, \"Escort\": \"N\", \"lat\": \"12.9607504\", \"lon\": \"77.6483593\"}, {\"ID\": 517550, \"Gender\": \"M\", \"Contact_Number\": 8884586767, \"Login_Logout\": \"Login\", \"Shift_Date\": \"11/2/2017\", \"Shift_Time\": \"12:15\", \"pickup_time\": \"11:10\", \"pickup_area\": \"\", \"Pickup_point\": \"Old airport road Murugeshpalya Kemport Mall\", \"serial_no\": 8, \"Escort\": \"N\", \"lat\": \"12.9587516\", \"lon\": \"77.6568341\"}], [{\"ID\": 440513, \"Gender\": \"F\", \"Contact_Number\": 8892216944, \"Login_Logout\": \"Login\", \"Shift_Date\": \"11/2/2017\", \"Shift_Time\": \"12:15\", \"pickup_time\": \"11:00\", \"pickup_area\": \"\", \"Pickup_point\": \"EJIPURA MUNEESHWARA LAYOUT 26TH CROSS\", \"serial_no\": 1, \"Escort\": \"N\", \"lat\": \"12.9052634\", \"lon\": \"77.6477091\"}, {\"ID\": 342119, \"Gender\": \"M\", \"Contact_Number\": 7259815259, \"Login_Logout\": \"Login\", \"Shift_Date\": \"11/2/2017\", \"Shift_Time\": \"12:15\", \"pickup_time\": \"11:10\", \"pickup_area\": \"\", \"Pickup_point\": \"Jakkasandra Bus stop\", \"serial_no\": 2, \"Escort\": \"N\", \"lat\": \"12.9247417\", \"lon\": \"77.63810629999999\"}, {\"ID\": 426053, \"Gender\": \"M\", \"Contact_Number\": 9686889712, \"Login_Logout\": \"Login\", \"Shift_Date\": \"11/2/2017\", \"Shift_Time\": \"12:15\", \"pickup_time\": \"11:15\", \"pickup_area\": \"\", \"Pickup_point\": \"Koramangla 1st block Wipro Park Signal\", \"serial_no\": 3, \"Escort\": \"N\", \"lat\": \"12.9294917\", \"lon\": \"77.6333823\"}, {\"ID\": 113830, \"Gender\": \"M\", \"Contact_Number\": 9886266855, \"Login_Logout\": \"Login\", \"Shift_Date\": \"11/2/2017\", \"Shift_Time\": \"12:15\", \"pickup_time\": \"11:20\", \"pickup_area\": \"\", \"Pickup_point\": \"Koramangala 1st block Venkatapura Bus Stop\", \"serial_no\": 4, \"Escort\": \"N\", \"lat\": \"12.9248619\", \"lon\": \"77.634067\"}], [{\"ID\": 474341, \"Gender\": \"F\", \"Contact_Number\": 8897640474, \"Login_Logout\": \"Login\", \"Shift_Date\": \"11/2/2017\", \"Shift_Time\": \"12:15\", \"pickup_time\": \"11:00\", \"pickup_area\": \"\", \"Pickup_point\": \"BG Road Kalena Agrahara\", \"serial_no\": 1, \"Escort\": \"N\", \"lat\": \"12.8659512\", \"lon\": \"77.59181\"}, {\"ID\": 337452, \"Gender\": \"M\", \"Contact_Number\": 9019894589, \"Login_Logout\": \"Login\", \"Shift_Date\": \"11/2/2017\", \"Shift_Time\": \"12:15\", \"pickup_time\": \"11:05\", \"pickup_area\": \"\", \"Pickup_point\": \"BG Road Hulimavu Kodandarama Temple\", \"serial_no\": 2, \"Escort\": \"N\", \"lat\": \"12.9116209\", \"lon\": \"77.6027987\"}, {\"ID\": 297053, \"Gender\": \"M\", \"Contact_Number\": 9739483399, \"Login_Logout\": \"Login\", \"Shift_Date\": \"11/2/2017\", \"Shift_Time\": \"12:15\", \"pickup_time\": \"11:05\", \"pickup_area\": \"\", \"Pickup_point\": \"BG Road Hulimavu Near Police station\", \"serial_no\": 3, \"Escort\": \"N\", \"lat\": \"12.8766436\", \"lon\": \"77.60008669999999\"}, {\"ID\": 334403, \"Gender\": \"M\", \"Contact_Number\": 7675029090, \"Login_Logout\": \"Login\", \"Shift_Date\": \"11/2/2017\", \"Shift_Time\": \"12:15\", \"pickup_time\": \"11:10\", \"pickup_area\": \"\", \"Pickup_point\": \"BG Road Arekere BTS layout Diana School\", \"serial_no\": 4, \"Escort\": \"N\", \"lat\": \"12.888914\", \"lon\": \"77.60498\"}], [{\"ID\": 432450, \"Gender\": \"F\", \"Contact_Number\": 9900791654, \"Login_Logout\": \"Login\", \"Shift_Date\": \"11/2/2017\", \"Shift_Time\": \"12:15\", \"pickup_time\": \"11:15\", \"pickup_area\": \"\", \"Pickup_point\": \"BG Road Bilekahalli Vijaya Bank Layout Near EK Retails\", \"serial_no\": 1, \"Escort\": \"N\", \"lat\": \"12.8926741\", \"lon\": \"77.6104933\"}, {\"ID\": 536561, \"Gender\": \"M\", \"Contact_Number\": 8527191117, \"Login_Logout\": \"Login\", \"Shift_Date\": \"11/2/2017\", \"Shift_Time\": \"12:15\", \"pickup_time\": \"11:20\", \"pickup_area\": \"\", \"Pickup_point\": \"Kodichikkanahalli Manjunatha layout BBMP park Next to Nightangle school\", \"serial_no\": 2, \"Escort\": \"N\", \"lon\": \"77.613433\", \"lat\": \"12.893546\"}, {\"ID\": 365778, \"Gender\": \"F\", \"Contact_Number\": 9880905927, \"Login_Logout\": \"Login\", \"Shift_Date\": \"11/2/2017\", \"Shift_Time\": \"12:15\", \"pickup_time\": \"11:25\", \"pickup_area\": \"\", \"Pickup_point\": \"Devarachikkanahalli Main Road Virat Nagar Kaveri Nagara Vandana Pearls\", \"serial_no\": 3, \"Escort\": \"N\", \"lat\": \"12.8997245\", \"lon\": \"77.6226083\"}, {\"ID\": 330730, \"Gender\": \"F\", \"Contact_Number\": 9066345510, \"Login_Logout\": \"Login\", \"Shift_Date\": \"11/2/2017\", \"Shift_Time\": \"12:15\", \"pickup_time\": \"11:30\", \"pickup_area\": \"\", \"Pickup_point\": \"Bommanhalli Viratnager 8th A Cross\", \"serial_no\": 4, \"Escort\": \"N\", \"lat\": \"12.9031476\", \"lon\": \"77.64204310000001\"}], [{\"ID\": 348295, \"Gender\": \"F\", \"Contact_Number\": 7899513517, \"Login_Logout\": \"Login\", \"Shift_Date\": \"11/2/2017\", \"Shift_Time\": \"12:15\", \"pickup_time\": \"11:15\", \"pickup_area\": \"\", \"Pickup_point\": \"BTM 2nd stage lake Road Caf\\\\u00c3\\\\u00a9 coffee day\", \"serial_no\": 1, \"Escort\": \"N\", \"lon\": \"77.606458\", \"lat\": \"12.905606\"}, {\"ID\": 426043, \"Gender\": \"F\", \"Contact_Number\": 7760809549, \"Login_Logout\": \"Login\", \"Shift_Date\": \"11/2/2017\", \"Shift_Time\": \"12:15\", \"pickup_time\": \"11:15\", \"pickup_area\": \"\", \"Pickup_point\": \"BTM 2nd stage, lake road, land mark- adhi parasakthi temple\", \"serial_no\": 2, \"Escort\": \"N\", \"lat\": \"12.906678\", \"lon\": \"77.613019\"}, {\"ID\": 341353, \"Gender\": \"F\", \"Contact_Number\": 9620125168, \"Login_Logout\": \"Login\", \"Shift_Date\": \"11/2/2017\", \"Shift_Time\": \"12:15\", \"pickup_time\": \"11:20\", \"pickup_area\": \"\", \"Pickup_point\": \"BTM 2nd Stage 20th Main 3rd Cross\", \"serial_no\": 3, \"Escort\": \"N\", \"lat\": \"12.9178683\", \"lon\": \"77.61275049999999\"}, {\"ID\": 298719, \"Gender\": \"F\", \"Contact_Number\": 7204377511, \"Login_Logout\": \"Login\", \"Shift_Date\": \"11/2/2017\", \"Shift_Time\": \"12:15\", \"pickup_time\": \"11:20\", \"pickup_area\": \"\", \"Pickup_point\": \"BTM 2nd stage 7th Cross\", \"serial_no\": 4, \"Escort\": \"N\", \"lat\": \"12.9093109\", \"lon\": \"77.6120904\"}, {\"ID\": 338094, \"Gender\": \"F\", \"Contact_Number\": 8197581958, \"Login_Logout\": \"Login\", \"Shift_Date\": \"11/2/2017\", \"Shift_Time\": \"12:15\", \"pickup_time\": \"11:25\", \"pickup_area\": \"\", \"Pickup_point\": \"BTM Stage 2nd Stage 8th Cross Main Road\", \"serial_no\": 5, \"Escort\": \"N\", \"lat\": \"12.9128701\", \"lon\": \"77.6099151\"}, {\"ID\": 372595, \"Gender\": \"F\", \"Contact_Number\": 7795479790, \"Login_Logout\": \"Login\", \"Shift_Date\": \"11/2/2017\", \"Shift_Time\": \"12:15\", \"pickup_time\": \"11:25\", \"pickup_area\": \"\", \"Pickup_point\": \"BTM 2nd stage Madiwala lake\", \"serial_no\": 6, \"Escort\": \"N\", \"lat\": \"12.9126926\", \"lon\": \"77.6186109\"}, {\"ID\": 504678, \"Gender\": \"F\", \"Contact_Number\": 7338340305, \"Login_Logout\": \"Login\", \"Shift_Date\": \"11/2/2017\", \"Shift_Time\": \"12:15\", \"pickup_time\": \"11:25\", \"pickup_area\": \"\", \"Pickup_point\": \"BTM SECOND STAGE\", \"serial_no\": 7, \"Escort\": \"N\", \"lat\": \"12.9082396\", \"lon\": \"77.6074088\"}], [{\"ID\": 482462, \"Gender\": \"M\", \"Contact_Number\": 9845719513, \"Login_Logout\": \"Login\", \"Shift_Date\": \"11/2/2017\", \"Shift_Time\": \"12:15\", \"pickup_time\": \"11:15\", \"pickup_area\": \"\", \"Pickup_point\": \"BTM 2nd Stage 29th Main Near Axiss Dental\", \"serial_no\": 1, \"Escort\": \"N\", \"lat\": \"12.9128942\", \"lon\": \"77.6147275\"}, {\"ID\": 471092, \"Gender\": \"M\", \"Contact_Number\": 7798955129, \"Login_Logout\": \"Login\", \"Shift_Date\": \"11/2/2017\", \"Shift_Time\": \"12:15\", \"pickup_time\": \"11:15\", \"pickup_area\": \"\", \"Pickup_point\": \"BTM Layout Near Swadishta Aahar Restaurant\", \"serial_no\": 2, \"Escort\": \"N\", \"lat\": \"12.913898\", \"lon\": \"77.61016\"}, {\"ID\": 521152, \"Gender\": \"F\", \"Contact_Number\": 8337081919, \"Login_Logout\": \"Login\", \"Shift_Date\": \"11/2/2017\", \"Shift_Time\": \"12:15\", \"pickup_time\": \"11:20\", \"pickup_area\": \"\", \"Pickup_point\": \"BTM 2nd Stage Kuvempu Nagar 3rd Cross\", \"serial_no\": 3, \"Escort\": \"N\", \"lat\": \"12.9139515\", \"lon\": \"77.6139379\"}, {\"ID\": 471028, \"Gender\": \"F\", \"Contact_Number\": 8105433077, \"Login_Logout\": \"Login\", \"Shift_Date\": \"11/2/2017\", \"Shift_Time\": \"12:15\", \"pickup_time\": \"11:25\", \"pickup_area\": \"\", \"Pickup_point\": \"BTM 2nd Stage 25th Main Road 2nd Cross\", \"serial_no\": 4, \"Escort\": \"N\", \"lat\": \"12.9139138\", \"lon\": \"77.6136855\"}, {\"ID\": 504698, \"Gender\": \"M\", \"Contact_Number\": 9448820216, \"Login_Logout\": \"Login\", \"Shift_Date\": \"11/2/2017\", \"Shift_Time\": \"12:15\", \"pickup_time\": \"11:25\", \"pickup_area\": \"\", \"Pickup_point\": \"btm 1st stage\", \"serial_no\": 5, \"Escort\": \"N\", \"lat\": \"12.9199409\", \"lon\": \"77.61065119999999\"}, {\"ID\": 527442, \"Gender\": \"F\", \"Contact_Number\": 8050266073, \"Login_Logout\": \"Login\", \"Shift_Date\": \"11/2/2017\", \"Shift_Time\": \"12:15\", \"pickup_time\": \"11:30\", \"pickup_area\": \"\", \"Pickup_point\": \"BTM 1st stage Mico Layout bus stop\", \"serial_no\": 6, \"Escort\": \"N\", \"lat\": \"12.914136\", \"lon\": \"77.600111\"}, {\"ID\": 364747, \"Gender\": \"F\", \"Contact_Number\": 8280118050, \"Login_Logout\": \"Login\", \"Shift_Date\": \"11/2/2017\", \"Shift_Time\": \"12:15\", \"pickup_time\": \"11:35\", \"pickup_area\": \"\", \"Pickup_point\": \"BTM Layout Udipi Garden Signal 2nd Lane\", \"serial_no\": 7, \"Escort\": \"N\", \"lat\": \"12.9161279\", \"lon\": \"77.6102476\"}], [{\"ID\": \"\\\\u00c2 478811\", \"Gender\": \"M\", \"Contact_Number\": 8699990236, \"Login_Logout\": \"Login\", \"Shift_Date\": \"11/2/2017\", \"Shift_Time\": \"12:15\", \"pickup_time\": \"11:20\", \"pickup_area\": \"\", \"Pickup_point\": \"BTM Water Tank Bus Stop\", \"serial_no\": 1, \"Escort\": \"N\", \"lat\": \"12.916691\", \"lon\": \"77.6067606\"}, {\"ID\": 343528, \"Gender\": \"F\", \"Contact_Number\": 9886669574, \"Login_Logout\": \"Login\", \"Shift_Date\": \"11/2/2017\", \"Shift_Time\": \"12:15\", \"pickup_time\": \"11:20\", \"pickup_area\": \"\", \"Pickup_point\": \"BTM Water tank Bus Stop\", \"serial_no\": 2, \"Escort\": \"N\", \"lat\": \"12.916691\", \"lon\": \"77.6067606\"}, {\"ID\": 333759, \"Gender\": \"M\", \"Contact_Number\": 9035713490, \"Login_Logout\": \"Login\", \"Shift_Date\": \"11/2/2017\", \"Shift_Time\": \"12:15\", \"pickup_time\": \"11:30\", \"pickup_area\": \"\", \"Pickup_point\": \"BTM AXA building Bus stop\", \"serial_no\": 3, \"Escort\": \"N\", \"lat\": \"12.916057\", \"lon\": \"77.615603\"}, {\"ID\": 445355, \"Gender\": \"F\", \"Contact_Number\": 7338323809, \"Login_Logout\": \"Login\", \"Shift_Date\": \"11/2/2017\", \"Shift_Time\": \"12:15\", \"pickup_time\": \"11:30\", \"pickup_area\": \"\", \"Pickup_point\": \"BTM AXA building Bus stop\", \"serial_no\": 4, \"Escort\": \"N\", \"lat\": \"12.916057\", \"lon\": \"77.615603\"}, {\"ID\": 358245, \"Gender\": \"M\", \"Contact_Number\": 8826527498, \"Login_Logout\": \"Login\", \"Shift_Date\": \"11/2/2017\", \"Shift_Time\": \"12:15\", \"pickup_time\": \"11:30\", \"pickup_area\": \"\", \"Pickup_point\": \"BTM AXA building Bus stop\", \"serial_no\": 5, \"Escort\": \"N\", \"lat\": \"12.916057\", \"lon\": \"77.615603\"}, {\"ID\": \"PS0T11336\", \"Gender\": \"M\", \"Contact_Number\": 9036466037, \"Login_Logout\": \"Login\", \"Shift_Date\": \"11/2/2017\", \"Shift_Time\": \"12:15\", \"pickup_time\": \"11:30\", \"pickup_area\": \"\", \"Pickup_point\": \"BTM Layout AXA Building\", \"serial_no\": 6, \"Escort\": \"N\", \"lat\": \"12.916568\", \"lon\": \"77.617868\"}, {\"ID\": 498480, \"Gender\": \"F\", \"Contact_Number\": 8884618976, \"Login_Logout\": \"Login\", \"Shift_Date\": \"11/2/2017\", \"Shift_Time\": \"12:15\", \"pickup_time\": \"11:30\", \"pickup_area\": \"\", \"Pickup_point\": \"BTM Layout AXA BUILDING Junction\", \"serial_no\": 7, \"Escort\": \"N\", \"lat\": \"12.916298\", \"lon\": \"77.615351\"}], [{\"ID\": 296672, \"Gender\": \"F\", \"Contact_Number\": 8861691512, \"Login_Logout\": \"Login\", \"Shift_Date\": \"11/2/2017\", \"Shift_Time\": \"12:15\", \"pickup_time\": \"11:20\", \"pickup_area\": \"\", \"Pickup_point\": \"SG Palya Srinivasa Theater\", \"serial_no\": 1, \"Escort\": \"N\", \"lat\": \"12.9317987\", \"lon\": \"77.6074098\"}, {\"ID\": 313110, \"Gender\": \"M\", \"Contact_Number\": 9866744943, \"Login_Logout\": \"Login\", \"Shift_Date\": \"11/2/2017\", \"Shift_Time\": \"12:15\", \"pickup_time\": \"11:25\", \"pickup_area\": \"\", \"Pickup_point\": \"Tavarekere Venkateswara Layout\", \"serial_no\": 2, \"Escort\": \"N\", \"lat\": \"12.931842\", \"lon\": \"77.60850270000002\"}, {\"ID\": 375021, \"Gender\": \"M\", \"Contact_Number\": 8123602642, \"Login_Logout\": \"Login\", \"Shift_Date\": \"11/2/2017\", \"Shift_Time\": \"12:15\", \"pickup_time\": \"11:25\", \"pickup_area\": \"\", \"Pickup_point\": \"Tavarejkere Jai Bheem Nagar\", \"serial_no\": 3, \"Escort\": \"N\", \"lat\": \"12.9207008\", \"lon\": \"77.6069321\"}, {\"ID\": 482830, \"Gender\": \"M\", \"Contact_Number\": 9886054882, \"Login_Logout\": \"Login\", \"Shift_Date\": \"11/2/2017\", \"Shift_Time\": \"12:15\", \"pickup_time\": \"11:25\", \"pickup_area\": \"\", \"Pickup_point\": \"Tavarekere Chocolate Factory Road 3rd Cross Near Swaraj Hyper\", \"serial_no\": 4, \"Escort\": \"N\", \"lat\": \"12.92316\", \"lon\": \"77.612843\"}, {\"ID\": 117534, \"Gender\": \"M\", \"Contact_Number\": 8056694272, \"Login_Logout\": \"Login\", \"Shift_Date\": \"11/2/2017\", \"Shift_Time\": \"12:15\", \"pickup_time\": \"11:30\", \"pickup_area\": \"\", \"Pickup_point\": \"Maruthi Nagar Main Road, Choclate Factory Road Intersection (Near Pai Mobiles)\", \"serial_no\": 5, \"Escort\": \"N\", \"lat\": \"12.92283\", \"lon\": \"77.614381\"}, {\"ID\": 464087, \"Gender\": \"F\", \"Contact_Number\": 9902221003, \"Login_Logout\": \"Login\", \"Shift_Date\": \"11/2/2017\", \"Shift_Time\": \"12:15\", \"pickup_time\": \"11:30\", \"pickup_area\": \"\", \"Pickup_point\": \"Tavarekere Jaibheema Nagar Near Gangothri Circle\", \"serial_no\": 6, \"Escort\": \"N\", \"lat\": \"12.9196155\", \"lon\": \"77.61288250000001\"}, {\"ID\": 125951, \"Gender\": \"F\", \"Contact_Number\": 9742485411, \"Login_Logout\": \"Login\", \"Shift_Date\": \"11/2/2017\", \"Shift_Time\": \"12:15\", \"pickup_time\": \"11:30\", \"pickup_area\": \"\", \"Pickup_point\": \"Tavarekere Jaibheema Nagar 4th Main\", \"serial_no\": 7, \"Escort\": \"N\", \"lat\": \"12.9270564\", \"lon\": \"77.6079819\"}, {\"ID\": 487739, \"Gender\": \"F\", \"Contact_Number\": 7899434206, \"Login_Logout\": \"Login\", \"Shift_Date\": \"11/2/2017\", \"Shift_Time\": \"12:15\", \"pickup_time\": \"11:30\", \"pickup_area\": \"\", \"Pickup_point\": \"BTM Stage 1 Jaibheema Nagar Bus Stop\", \"serial_no\": 8, \"Escort\": \"N\", \"lat\": \"12.9272703\", \"lon\": \"77.6163543\"}, {\"ID\": 497890, \"Gender\": \"M\", \"Contact_Number\": 8897108505, \"Login_Logout\": \"Login\", \"Shift_Date\": \"11/2/2017\", \"Shift_Time\": \"12:15\", \"pickup_time\": \"11:30\", \"pickup_area\": \"\", \"Pickup_point\": \"BTM 1st stage Jaibheema nagar Bus Stop\", \"serial_no\": 9, \"Escort\": \"N\", \"lat\": \"12.9177542\", \"lon\": \"77.6239216\"}], [{\"ID\": 324390, \"Gender\": \"F\", \"Contact_Number\": 9500436346, \"Login_Logout\": \"Login\", \"Shift_Date\": \"11/2/2017\", \"Shift_Time\": \"12:15\", \"pickup_time\": \"11:25\", \"pickup_area\": \"\", \"Pickup_point\": \"Maruthinagar 2nd Main 4th Cross\", \"serial_no\": 1, \"Escort\": \"N\", \"lat\": \"12.9405677\", \"lon\": \"77.5681956\"}, {\"ID\": 338221, \"Gender\": \"F\", \"Contact_Number\": 8897919137, \"Login_Logout\": \"Login\", \"Shift_Date\": \"11/2/2017\", \"Shift_Time\": \"12:15\", \"pickup_time\": \"11:28\", \"pickup_area\": \"\", \"Pickup_point\": \"Madiwala Maruthinagar Main Road 8th Cross\", \"serial_no\": 2, \"Escort\": \"N\", \"lat\": \"12.9247936\", \"lon\": \"77.6150239\"}, {\"ID\": 335490, \"Gender\": \"F\", \"Contact_Number\": 8884863393, \"Login_Logout\": \"Login\", \"Shift_Date\": \"11/2/2017\", \"Shift_Time\": \"12:15\", \"pickup_time\": \"11:32\", \"pickup_area\": \"\", \"Pickup_point\": \"Maruthinagar AG church\", \"serial_no\": 3, \"Escort\": \"N\", \"lat\": \"13.1161515\", \"lon\": \"77.60912499999999\"}, {\"ID\": 470601, \"Gender\": \"M\", \"Contact_Number\": 8095672560, \"Login_Logout\": \"Login\", \"Shift_Date\": \"11/2/2017\", \"Shift_Time\": \"12:15\", \"pickup_time\": \"11:35\", \"pickup_area\": \"\", \"Pickup_point\": \"Madiwala Brhind Ayyapa Temple\", \"serial_no\": 4, \"Escort\": \"N\", \"lat\": \"12.9241959\", \"lon\": \"77.6181229\"}, {\"ID\": 353366, \"Gender\": \"F\", \"Contact_Number\": 8904703585, \"Login_Logout\": \"Login\", \"Shift_Date\": \"11/2/2017\", \"Shift_Time\": \"12:15\", \"pickup_time\": \"11:40\", \"pickup_area\": \"\", \"Pickup_point\": \"Madiwala Near Police Station\", \"serial_no\": 5, \"Escort\": \"N\", \"lat\": \"12.9210485\", \"lon\": \"77.6207336\"}], [{\"ID\": 334817, \"Gender\": \"F\", \"Contact_Number\": 8095346012, \"Login_Logout\": \"Login\", \"Shift_Date\": \"11/2/2017\", \"Shift_Time\": \"12:15\", \"pickup_time\": \"11:00\", \"pickup_area\": \"\", \"Pickup_point\": \"Bellandur Yemlur Road Near Ganapathi temple\", \"serial_no\": 1, \"Escort\": \"N\", \"lat\": \"12.9451022\", \"lon\": \"77.6802862\"}, {\"ID\": 355019, \"Gender\": \"F\", \"Contact_Number\": 8762421004, \"Login_Logout\": \"Login\", \"Shift_Date\": \"11/2/2017\", \"Shift_Time\": \"12:15\", \"pickup_time\": \"11:05\", \"pickup_area\": \"\", \"Pickup_point\": \"Bellandur , Central Mall\", \"serial_no\": 2, \"Escort\": \"N\", \"lat\": \"12.9263026\", \"lon\": \"77.6752784\"}, {\"ID\": 330941, \"Gender\": \"F\", \"Contact_Number\": 9916821977, \"Login_Logout\": \"Login\", \"Shift_Date\": \"11/2/2017\", \"Shift_Time\": \"12:15\", \"pickup_time\": \"11:12\", \"pickup_area\": \"\", \"Pickup_point\": \"Bellandur Sarjapur Signal Shobha Garnet\", \"serial_no\": 3, \"Escort\": \"N\", \"lat\": \"12.9213943\", \"lon\": \"77.66495669999999\"}, {\"ID\": 476754, \"Gender\": \"M\", \"Contact_Number\": 9096052413, \"Login_Logout\": \"Login\", \"Shift_Date\": \"11/2/2017\", \"Shift_Time\": \"12:15\", \"pickup_time\": \"11:15\", \"pickup_area\": \"\", \"Pickup_point\": \"Ibblur Park Suncity Corporation\", \"serial_no\": 4, \"Escort\": \"N\", \"lon\": \"77.665413\", \"lat\": \"12.925442\"}], [{\"ID\": 512924, \"Gender\": \"M\", \"Contact_Number\": 9686234631, \"Login_Logout\": \"Login\", \"Shift_Date\": \"11/2/2017\", \"Shift_Time\": \"12:15\", \"pickup_time\": \"11:30\", \"pickup_area\": \"\", \"Pickup_point\": \"HSR LAYOUT 1ST SECTOR NEAR TIRUMALA THEATRE\", \"serial_no\": 1, \"Escort\": \"N\", \"lat\": \"12.919912\", \"lon\": \"77.64968560000001\"}, {\"ID\": 364193, \"Gender\": \"M\", \"Contact_Number\": 7032764887, \"Login_Logout\": \"Login\", \"Shift_Date\": \"11/2/2017\", \"Shift_Time\": \"12:15\", \"pickup_time\": \"11:30\", \"pickup_area\": \"\", \"Pickup_point\": \"HSR layout 24th Main Near Thirumala Theatre\", \"serial_no\": 2, \"Escort\": \"N\", \"lat\": \"12.919912\", \"lon\": \"77.64968560000001\"}, {\"ID\": 434874, \"Gender\": \"F\", \"Contact_Number\": 7829726037, \"Login_Logout\": \"Login\", \"Shift_Date\": \"11/2/2017\", \"Shift_Time\": \"12:15\", \"pickup_time\": \"11:35\", \"pickup_area\": \"\", \"Pickup_point\": \"HSR Layout Police Station\", \"serial_no\": 3, \"Escort\": \"N\", \"lat\": \"12.9201596\", \"lon\": \"77.6512411\"}, {\"ID\": 334901, \"Gender\": \"F\", \"Contact_Number\": 9940078669, \"Login_Logout\": \"Login\", \"Shift_Date\": \"11/2/2017\", \"Shift_Time\": \"12:15\", \"pickup_time\": \"11:35\", \"pickup_area\": \"\", \"Pickup_point\": \"HSR Layout 3rd Sector Near HSR Club\", \"serial_no\": 4, \"Escort\": \"N\", \"lat\": \"12.9093466\", \"lon\": \"77.6432164\"}, {\"ID\": 493502, \"Gender\": \"M\", \"Contact_Number\": 8981210071, \"Login_Logout\": \"Login\", \"Shift_Date\": \"11/2/2017\", \"Shift_Time\": \"12:15\", \"pickup_time\": \"11:40\", \"pickup_area\": \"\", \"Pickup_point\": \"HSR Layout Near HSR Club\", \"serial_no\": 5, \"Escort\": \"N\", \"lat\": \"12.9093466\", \"lon\": \"77.6432164\"}, {\"ID\": 349542, \"Gender\": \"F\", \"Contact_Number\": 8888850765, \"Login_Logout\": \"Login\", \"Shift_Date\": \"11/2/2017\", \"Shift_Time\": \"12:15\", \"pickup_time\": \"11:40\", \"pickup_area\": \"\", \"Pickup_point\": \"HSR Layout 2nd Sector 19th Main\", \"serial_no\": 6, \"Escort\": \"N\", \"lat\": \"12.9074988\", \"lon\": \"77.64444660000001\"}, {\"ID\": 504693, \"Gender\": \"M\", \"Contact_Number\": 9620541826, \"Login_Logout\": \"Login\", \"Shift_Date\": \"11/2/2017\", \"Shift_Time\": \"12:15\", \"pickup_time\": \"11:45\", \"pickup_area\": \"\", \"Pickup_point\": \"HSR Layout 7th Sector 20th Cross\", \"serial_no\": 7, \"Escort\": \"N\", \"lat\": \"12.9103956\", \"lon\": \"77.6335084\"}, {\"ID\": 333212, \"Gender\": \"M\", \"Contact_Number\": 7744072494, \"Login_Logout\": \"Login\", \"Shift_Date\": \"11/2/2017\", \"Shift_Time\": \"12:15\", \"pickup_time\": \"11:50\", \"pickup_area\": \"\", \"Pickup_point\": \"Mangamanapalya Governement High school\", \"serial_no\": 8, \"Escort\": \"N\", \"lat\": \"12.9185419\", \"lon\": \"77.5960238\"}], [{\"ID\": 332435, \"Gender\": \"M\", \"Contact_Number\": 9003115488, \"Login_Logout\": \"Login\", \"Shift_Date\": \"11/2/2017\", \"Shift_Time\": \"12:15\", \"pickup_time\": \"10:45\", \"pickup_area\": \"\", \"Pickup_point\": \"Hosur Jawahar Nagar Near TVS Nagar\", \"serial_no\": 1, \"Escort\": \"N\", \"lat\": \"12.7243048\", \"lon\": \"77.8102684\"}, {\"ID\": 512035, \"Gender\": \"M\", \"Contact_Number\": 9952636616, \"Login_Logout\": \"Login\", \"Shift_Date\": \"11/2/2017\", \"Shift_Time\": \"12:15\", \"pickup_time\": \"10:50\", \"pickup_area\": \"\", \"Pickup_point\": \"HOSUR THANIGAI NAGAR PHASE 2\", \"serial_no\": 2, \"Escort\": \"N\", \"lat\": \"12.7514099\", \"lon\": \"77.82725789999999\"}, {\"ID\": 435037, \"Gender\": \"F\", \"Contact_Number\": 9629429109, \"Login_Logout\": \"Login\", \"Shift_Date\": \"11/2/2017\", \"Shift_Time\": \"12:15\", \"pickup_time\": \"10:50\", \"pickup_area\": \"\", \"Pickup_point\": \"Hosur Bus Stop Near Pallavi Super Market\", \"serial_no\": 3, \"Escort\": \"N\", \"lat\": \"12.75735\", \"lon\": \"77.794387\"}, {\"ID\": 342824, \"Gender\": \"M\", \"Contact_Number\": 9886123482, \"Login_Logout\": \"Login\", \"Shift_Date\": \"11/2/2017\", \"Shift_Time\": \"12:15\", \"pickup_time\": \"11:00\", \"pickup_area\": \"\", \"Pickup_point\": \"Hosur Ganesha Nagar Opp to Thanegai Nagar P-2\", \"serial_no\": 4, \"Escort\": \"N\", \"lon\": \"77.828441\", \"lat\": \"12.751331\"}, {\"ID\": 258663, \"Gender\": \"M\", \"Contact_Number\": 9789287477, \"Login_Logout\": \"Login\", \"Shift_Date\": \"11/2/2017\", \"Shift_Time\": \"12:15\", \"pickup_time\": \"11:02\", \"pickup_area\": \"\", \"Pickup_point\": \"Hosur Annamalai Nagar\", \"serial_no\": 5, \"Escort\": \"N\", \"lat\": \"12.7462642\", \"lon\": \"77.820329\"}, {\"ID\": 266970, \"Gender\": \"M\", \"Contact_Number\": 9442139822, \"Login_Logout\": \"Login\", \"Shift_Date\": \"11/2/2017\", \"Shift_Time\": \"12:15\", \"pickup_time\": \"11:05\", \"pickup_area\": \"\", \"Pickup_point\": \"Hosur Bus stop\", \"serial_no\": 6, \"Escort\": \"N\", \"lat\": \"12.735067\", \"lon\": \"77.82740989999999\"}], [{\"ID\": 505208, \"Gender\": \"F\", \"Contact_Number\": 9535536973, \"Login_Logout\": \"Login\", \"Shift_Date\": \"11/2/2017\", \"Shift_Time\": \"12:15\", \"pickup_time\": \"11:30\", \"pickup_area\": \"\", \"Pickup_point\": \"Attibele Toll Gate Upkar Oakland Appartment\", \"serial_no\": 1, \"Escort\": \"N\", \"lat\": \"12.7813035\", \"lon\": \"77.7622283\"}, {\"ID\": 533916, \"Gender\": \"F\", \"Contact_Number\": 9686602288, \"Login_Logout\": \"Login\", \"Shift_Date\": \"11/2/2017\", \"Shift_Time\": \"12:15\", \"pickup_time\": \"11:45\", \"pickup_area\": \"\", \"Pickup_point\": \"Hebbagodi Opp Biocon\", \"serial_no\": 2, \"Escort\": \"N\", \"lat\": \"12.8293424\", \"lon\": \"77.6819316\"}], [{\"ID\": 440511, \"Gender\": \"M\", \"Contact_Number\": 9663504516, \"Login_Logout\": \"Login\", \"Shift_Date\": \"11/2/2017\", \"Shift_Time\": \"12:15\", \"pickup_time\": \"11:00\", \"pickup_area\": \"\", \"Pickup_point\": \"H Siddaiah Road 8th Cross Nyaya Degula Family Court\", \"serial_no\": 1, \"Escort\": \"N\", \"lat\": \"12.9544156\", \"lon\": \"77.5904096\"}, {\"ID\": 492656, \"Gender\": \"M\", \"Contact_Number\": 7204383266, \"Login_Logout\": \"Login\", \"Shift_Date\": \"11/2/2017\", \"Shift_Time\": \"12:15\", \"pickup_time\": \"11:05\", \"pickup_area\": \"\", \"Pickup_point\": \"Wilson Garden Vinayak Nagar 10th Cross\", \"serial_no\": 2, \"Escort\": \"N\", \"lat\": \"12.9489959\", \"lon\": \"77.5978609\"}, {\"ID\": 497633, \"Gender\": \"M\", \"Contact_Number\": 9036336818, \"Login_Logout\": \"Login\", \"Shift_Date\": \"11/2/2017\", \"Shift_Time\": \"12:15\", \"pickup_time\": \"11:05\", \"pickup_area\": \"\", \"Pickup_point\": \"Wilson Garden 9th Main 15th Cross\", \"serial_no\": 3, \"Escort\": \"N\", \"lat\": \"12.946192\", \"lon\": \"77.60110929999999\"}, {\"ID\": 333011, \"Gender\": \"F\", \"Contact_Number\": 9686480300, \"Login_Logout\": \"Login\", \"Shift_Date\": \"11/2/2017\", \"Shift_Time\": \"12:15\", \"pickup_time\": \"11:10\", \"pickup_area\": \"\", \"Pickup_point\": \"Lakkasandra Bus stop\", \"serial_no\": 4, \"Escort\": \"N\", \"lat\": \"12.9438239\", \"lon\": \"77.5970607\"}], [{\"ID\": 501975, \"Gender\": \"M\", \"Contact_Number\": 7259733997, \"Login_Logout\": \"Login\", \"Shift_Date\": \"11/2/2017\", \"Shift_Time\": \"12:15\", \"pickup_time\": \"11:00\", \"pickup_area\": \"\", \"Pickup_point\": \"Varthur Halasahalli Cross Near Vagdevi Vilas School\", \"serial_no\": 1, \"Escort\": \"N\", \"lat\": \"12.9310955\", \"lon\": \"77.75969189999999\"}, {\"ID\": 496305, \"Gender\": \"M\", \"Contact_Number\": 8197299756, \"Login_Logout\": \"Login\", \"Shift_Date\": \"11/2/2017\", \"Shift_Time\": \"12:15\", \"pickup_time\": \"11:05\", \"pickup_area\": \"\", \"Pickup_point\": \"Varthur Near Varthru College\", \"serial_no\": 2, \"Escort\": \"N\", \"lat\": \"12.9350599\", \"lon\": \"77.7456763\"}, {\"ID\": 514035, \"Gender\": \"M\", \"Contact_Number\": 8179349262, \"Login_Logout\": \"Login\", \"Shift_Date\": \"11/2/2017\", \"Shift_Time\": \"12:15\", \"pickup_time\": \"11:15\", \"pickup_area\": \"\", \"Pickup_point\": \"Sarjapura Road Dommasandra PSR Flora\", \"serial_no\": 3, \"Escort\": \"N\", \"lat\": \"12.8778285\", \"lon\": \"77.7628209\"}, {\"ID\": 499869, \"Gender\": \"F\", \"Contact_Number\": 9535779985, \"Login_Logout\": \"Login\", \"Shift_Date\": \"11/2/2017\", \"Shift_Time\": \"12:15\", \"pickup_time\": \"11:20\", \"pickup_area\": \"\", \"Pickup_point\": \"Sarjapura Road Kaikondrahalli Bus Stop\", \"serial_no\": 4, \"Escort\": \"N\", \"lat\": \"12.913891\", \"lon\": \"77.6772659\"}], [{\"ID\": 293117, \"Gender\": \"F\", \"Contact_Number\": 8861835489, \"Login_Logout\": \"Login\", \"Shift_Date\": \"11/2/2017\", \"Shift_Time\": \"12:15\", \"pickup_time\": \"11:45\", \"pickup_area\": \"\", \"Pickup_point\": \"E City P-1 Neeladri Nagar Near Barbeque Nation\", \"serial_no\": 1, \"Escort\": \"N\", \"lat\": \"12.841668\", \"lon\": \"77.64645\"}, {\"ID\": 453597, \"Gender\": \"F\", \"Contact_Number\": 8553085603, \"Login_Logout\": \"Login\", \"Shift_Date\": \"11/2/2017\", \"Shift_Time\": \"12:15\", \"pickup_time\": \"11:50\", \"pickup_area\": \"\", \"Pickup_point\": \"E City Phase 1 Neotown Smondo 3\", \"serial_no\": 2, \"Escort\": \"N\", \"lat\": \"12.82174\", \"lon\": \"77.6597701\"}], [{\"ID\": 476254, \"Gender\": \"F\", \"Contact_Number\": 8197177022, \"Login_Logout\": \"Login\", \"Shift_Date\": \"11/2/2017\", \"Shift_Time\": \"12:15\", \"pickup_time\": \"11:45\", \"pickup_area\": \"\", \"Pickup_point\": \"Garvebhavipalya, near Matha school\", \"serial_no\": 1, \"Escort\": \"N\", \"lat\": \"12.8914842\", \"lon\": \"77.6341501\"}, {\"ID\": 485787, \"Gender\": \"F\", \"Contact_Number\": 9880199233, \"Login_Logout\": \"Login\", \"Shift_Date\": \"11/2/2017\", \"Shift_Time\": \"12:15\", \"pickup_time\": \"11:50\", \"pickup_area\": \"\", \"Pickup_point\": \"Chikka Begur Gate Near Kudlu gate signal\", \"serial_no\": 2, \"Escort\": \"N\", \"lat\": \"12.8878338\", \"lon\": \"77.6403825\"}, {\"ID\": 455813, \"Gender\": \"F\", \"Contact_Number\": 9538855680, \"Login_Logout\": \"Login\", \"Shift_Date\": \"11/2/2017\", \"Shift_Time\": \"12:15\", \"pickup_time\": \"12:05\", \"pickup_area\": \"\", \"Pickup_point\": \"Hosa Road Lavakusha Nagar VRR Nest\", \"serial_no\": 3, \"Escort\": \"N\", \"lat\": \"12.8641691\", \"lon\": \"77.6623994\"}, {\"ID\": 360759, \"Gender\": \"F\", \"Contact_Number\": 7829485777, \"Login_Logout\": \"Login\", \"Shift_Date\": \"11/2/2017\", \"Shift_Time\": \"12:15\", \"pickup_time\": \"11:30\", \"pickup_area\": \"\", \"Pickup_point\": \"Hosa Road Basapura Shushuruthi Nagar 1st main road\", \"serial_no\": 4, \"Escort\": \"N\", \"lat\": \"12.8643294\", \"lon\": \"77.6477838\"}], [{\"ID\": 353781, \"Gender\": \"F\", \"Contact_Number\": 8943389525, \"Login_Logout\": \"Login\", \"Shift_Date\": \"11/2/2017\", \"Shift_Time\": \"12:15\", \"pickup_time\": \"11:15\", \"pickup_area\": \"\", \"Pickup_point\": \"Hongasandra Near St Francis School\", \"serial_no\": 1, \"Escort\": \"N\", \"lat\": \"12.8889803\", \"lon\": \"77.6247989\"}, {\"ID\": 434486, \"Gender\": \"F\", \"Contact_Number\": 8197137370, \"Login_Logout\": \"Login\", \"Shift_Date\": \"11/2/2017\", \"Shift_Time\": \"12:15\", \"pickup_time\": \"11:11\", \"pickup_area\": \"\", \"Pickup_point\": \"Singasandra Vijaya Springwoods Apartment\", \"serial_no\": 2, \"Escort\": \"N\", \"lat\": \"12.8770505\", \"lon\": \"77.6384894\"}, {\"ID\": 338475, \"Gender\": \"F\", \"Contact_Number\": 9177937229, \"Login_Logout\": \"Login\", \"Shift_Date\": \"11/2/2017\", \"Shift_Time\": \"12:15\", \"pickup_time\": \"11:15\", \"pickup_area\": \"\", \"Pickup_point\": \"Singasandra Welling Town Paradise Layout\", \"serial_no\": 3, \"Escort\": \"N\", \"lat\": \"12.880429\", \"lon\": \"77.6407258\"}, {\"ID\": 420252, \"Gender\": \"F\", \"Contact_Number\": 9740149519, \"Login_Logout\": \"Login\", \"Shift_Date\": \"11/2/2017\", \"Shift_Time\": \"12:15\", \"pickup_time\": \"11:55\", \"pickup_area\": \"\", \"Pickup_point\": \"Singasandra AECS Layout Near Fumzas Restaurant\", \"serial_no\": 4, \"Escort\": \"N\", \"lat\": \"12.884713\", \"lon\": \"77.642248\"}, {\"ID\": 337060, \"Gender\": \"F\", \"Contact_Number\": 9003981875, \"Login_Logout\": \"Login\", \"Shift_Date\": \"11/2/2017\", \"Shift_Time\": \"12:15\", \"pickup_time\": \"12:00\", \"pickup_area\": \"\", \"Pickup_point\": \"Singasandra Manipal County Road\", \"serial_no\": 5, \"Escort\": \"N\", \"lat\": \"12.8760078\", \"lon\": \"77.6396987\"}], [{\"ID\": 338074, \"Gender\": \"F\", \"Contact_Number\": 8147331917, \"Login_Logout\": \"Login\", \"Shift_Date\": \"11/2/2017\", \"Shift_Time\": \"12:15\", \"pickup_time\": \"11:45\", \"pickup_area\": \"\", \"Pickup_point\": \"Dairy Circle Rajagopala Nagar\", \"serial_no\": 1, \"Escort\": \"N\", \"lat\": \"13.030924\", \"lon\": \"77.576275\"}], [{\"ID\": 466551, \"Gender\": \"M\", \"Contact_Number\": 8892084096, \"Login_Logout\": \"Login\", \"Shift_Date\": \"11/2/2017\", \"Shift_Time\": \"12:15\", \"pickup_time\": \"10:30\", \"pickup_area\": \"\", \"Pickup_point\": \"Mathikere 7th Main 3rd Cross Near CCD\", \"serial_no\": 1, \"Escort\": \"N\", \"lat\": \"13.018138\", \"lon\": \"77.647419\"}, {\"ID\": 333724, \"Gender\": \"F\", \"Contact_Number\": 8553441791, \"Login_Logout\": \"Login\", \"Shift_Date\": \"11/2/2017\", \"Shift_Time\": \"12:15\", \"pickup_time\": \"10:32\", \"pickup_area\": \"\", \"Pickup_point\": \"Mathikere Ayyappa Bakery\", \"serial_no\": 2, \"Escort\": \"N\", \"lat\": \"13.0341646\", \"lon\": \"77.5575197\"}, {\"ID\": 484346, \"Gender\": \"M\", \"Contact_Number\": 9916553633, \"Login_Logout\": \"Login\", \"Shift_Date\": \"11/2/2017\", \"Shift_Time\": \"12:15\", \"pickup_time\": \"10:40\", \"pickup_area\": \"\", \"Pickup_point\": \"Mathikere Muthyala Nagar JP Park Back Gate\", \"serial_no\": 3, \"Escort\": \"N\", \"lat\": \"13.0355954\", \"lon\": \"77.5489119\"}, {\"ID\": 325364, \"Gender\": \"F\", \"Contact_Number\": 9916017486, \"Login_Logout\": \"Login\", \"Shift_Date\": \"11/2/2017\", \"Shift_Time\": \"12:15\", \"pickup_time\": \"10:42\", \"pickup_area\": \"\", \"Pickup_point\": \"Muthyalanagar JP Park 1st Main Surabhi Nilaya\", \"serial_no\": 4, \"Escort\": \"N\", \"lat\": \"13.032596\", \"lon\": \"77.552208\"}], [{\"ID\": 287822, \"Gender\": \"M\", \"Contact_Number\": 9980311991, \"Login_Logout\": \"Login\", \"Shift_Date\": \"11/2/2017\", \"Shift_Time\": \"12:15\", \"pickup_time\": \"10:30\", \"pickup_area\": \"\", \"Pickup_point\": \"RT Nagar Sultan Palaya Bus Stop Bhuvaneshwari Nagar\", \"serial_no\": 1, \"Escort\": \"N\", \"lat\": \"13.026627\", \"lon\": \"77.60396899999999\"}, {\"ID\": 483996, \"Gender\": \"M\", \"Contact_Number\": 9791600483, \"Login_Logout\": \"Login\", \"Shift_Date\": \"11/2/2017\", \"Shift_Time\": \"12:15\", \"pickup_time\": \"10:45\", \"pickup_area\": \"\", \"Pickup_point\": \"Shivaji Nagar Bus Stop 4th \\'E\\' Street Broadway Road Cross\", \"serial_no\": 2, \"Escort\": \"N\", \"lat\": \"12.987601\", \"lon\": \"77.603053\"}, {\"ID\": 480247, \"Gender\": \"F\", \"Contact_Number\": 9663314200, \"Login_Logout\": \"Login\", \"Shift_Date\": \"11/2/2017\", \"Shift_Time\": \"12:15\", \"pickup_time\": \"11:10\", \"pickup_area\": \"\", \"Pickup_point\": \"Adugodi Main Road Near Star Bazaar\", \"serial_no\": 3, \"Escort\": \"N\", \"lat\": \"12.9367451\", \"lon\": \"77.6104246\"}], [{\"ID\": 514425, \"Gender\": \"M\", \"Contact_Number\": 9036841826, \"Login_Logout\": \"Login\", \"Shift_Date\": \"11/2/2017\", \"Shift_Time\": \"12:15\", \"pickup_time\": \"10:45\", \"pickup_area\": \"\", \"Pickup_point\": \"Pillanna Garden 3rd Stage P&T Colony Bus Stop\", \"serial_no\": 1, \"Escort\": \"N\", \"lat\": \"13.0104525\", \"lon\": \"77.61496319999999\"}, {\"ID\": 349760, \"Gender\": \"M\", \"Contact_Number\": 9916961818, \"Login_Logout\": \"Login\", \"Shift_Date\": \"11/2/2017\", \"Shift_Time\": \"12:15\", \"pickup_time\": \"10:50\", \"pickup_area\": \"\", \"Pickup_point\": \"Tanney Road Venkateshpuram Bus Stop\", \"serial_no\": 2, \"Escort\": \"N\", \"lat\": \"13.0250142\", \"lon\": \"77.6202424\"}, {\"ID\": 487284, \"Gender\": \"M\", \"Contact_Number\": 9620211549, \"Login_Logout\": \"Login\", \"Shift_Date\": \"11/2/2017\", \"Shift_Time\": \"12:15\", \"pickup_time\": \"11:00\", \"pickup_area\": \"\", \"Pickup_point\": \"Maruthi Sevanagar Bus Stop Near Mukunda Theater\", \"serial_no\": 3, \"Escort\": \"N\", \"lat\": \"13.001711\", \"lon\": \"77.63099299999999\"}], [{\"ID\": 495630, \"Gender\": \"F\", \"Contact_Number\": 9986100633, \"Login_Logout\": \"Login\", \"Shift_Date\": \"11/2/2017\", \"Shift_Time\": \"12:15\", \"pickup_time\": \"11:45\", \"pickup_area\": \"\", \"Pickup_point\": \"BTM 2nd Stage Swadishth Ahar\", \"serial_no\": 1, \"Escort\": \"N\", \"lat\": \"12.913898\", \"lon\": \"77.61016\"}, {\"ID\": 328603, \"Gender\": \"F\", \"Contact_Number\": 9535202595, \"Login_Logout\": \"Login\", \"Shift_Date\": \"11/2/2017\", \"Shift_Time\": \"12:15\", \"pickup_time\": \"11:45\", \"pickup_area\": \"\", \"Pickup_point\": \"BTM Layout Swadishta Aahar\", \"serial_no\": 2, \"Escort\": \"N\", \"lat\": \"12.913898\", \"lon\": \"77.61016\"}, {\"ID\": 449909, \"Gender\": \"F\", \"Contact_Number\": 9009844951, \"Login_Logout\": \"Login\", \"Shift_Date\": \"11/2/2017\", \"Shift_Time\": \"12:15\", \"pickup_time\": \"11:45\", \"pickup_area\": \"\", \"Pickup_point\": \"BTM Layout Swadishta Aahar\", \"serial_no\": 3, \"Escort\": \"N\", \"lat\": \"12.913898\", \"lon\": \"77.61016\"}, {\"ID\": 493767, \"Gender\": \"M\", \"Contact_Number\": 9738623698, \"Login_Logout\": \"Login\", \"Shift_Date\": \"11/2/2017\", \"Shift_Time\": \"12:15\", \"pickup_time\": \"11:45\", \"pickup_area\": \"\", \"Pickup_point\": \"Roopena Agrahara Bus Stop\", \"serial_no\": 4, \"Escort\": \"N\", \"lat\": \"12.9118988\", \"lon\": \"77.6261048\"}, {\"ID\": 491554, \"Gender\": \"M\", \"Contact_Number\": 8989283955, \"Login_Logout\": \"Login\", \"Shift_Date\": \"11/2/2017\", \"Shift_Time\": \"12:15\", \"pickup_time\": \"12:00\", \"pickup_area\": \"\", \"Pickup_point\": \"Rupena Agarhara Bus Stop\", \"serial_no\": 5, \"Escort\": \"N\", \"lat\": \"12.9118988\", \"lon\": \"77.6261048\"}]]'"
      ]
     },
     "execution_count": 65,
     "metadata": {},
     "output_type": "execute_result"
    }
   ],
   "source": [
    "json.dumps(their_pools)"
   ]
  },
  {
   "cell_type": "code",
   "execution_count": null,
   "metadata": {},
   "outputs": [],
   "source": []
  },
  {
   "cell_type": "code",
   "execution_count": null,
   "metadata": {},
   "outputs": [],
   "source": []
  },
  {
   "cell_type": "code",
   "execution_count": 66,
   "metadata": {},
   "outputs": [
    {
     "data": {
      "text/plain": [
       "'{\"cab_count\": {\"INDICA\": 34, \"SUMO\": 14, \"TRAVELLER\": 18}, \"cab_wise_distance\": {\"INDICA\": 872.29868, \"SUMO\": 455.906, \"TRAVELLER\": 643.1962000000001}, \"cab_wise_avg_distance\": {\"INDICA\": 25.65584352941176, \"SUMO\": 32.56471428571429, \"TRAVELLER\": 35.73312222222223}, \"cab_type_price\": {\"INDICA\": 13084.4802, \"SUMO\": 6838.59, \"TRAVELLER\": 12863.924000000003}, \"total_price\": 32786.9942, \"cab_wise_avg_droutes\": {\"INDICA\": 1.3754080727344047, \"SUMO\": 1.7617034285420645, \"TRAVELLER\": 2.0550577412250264}, \"occupancy\": {\"INDICA\": 0.7941176470588235, \"SUMO\": 0.8928571428571429, \"TRAVELLER\": 0.6435185185185185}, \"people_by_cab\": {\"INDICA\": 108, \"SUMO\": 75, \"TRAVELLER\": 139}}'"
      ]
     },
     "execution_count": 66,
     "metadata": {},
     "output_type": "execute_result"
    }
   ],
   "source": [
    "json.dumps(their_stats)"
   ]
  },
  {
   "cell_type": "code",
   "execution_count": 67,
   "metadata": {},
   "outputs": [
    {
     "data": {
      "text/plain": [
       "'{\"cab_count\": {\"INDICA\": 4, \"SUMO\": 6, \"TRAVELLER\": 28}, \"cab_wise_distance\": {\"INDICA\": 42.129, \"SUMO\": 136.302, \"TRAVELLER\": 840.1518400000001}, \"cab_wise_avg_distance\": {\"INDICA\": 10.53225, \"SUMO\": 22.717, \"TRAVELLER\": 30.00542285714286}, \"cab_type_price\": {\"INDICA\": 631.935, \"SUMO\": 2044.53, \"TRAVELLER\": 16803.0368}, \"total_price\": 19479.501800000002, \"occupancy\": {\"INDICA\": 0.3125, \"SUMO\": 0.9166666666666666, \"TRAVELLER\": 0.8452380952380952}, \"people_by_cab\": {\"INDICA\": 5, \"SUMO\": 33, \"TRAVELLER\": 284}}'"
      ]
     },
     "execution_count": 67,
     "metadata": {},
     "output_type": "execute_result"
    }
   ],
   "source": [
    "json.dumps(our_stats)"
   ]
  },
  {
   "cell_type": "code",
   "execution_count": null,
   "metadata": {},
   "outputs": [],
   "source": []
  },
  {
   "cell_type": "code",
   "execution_count": null,
   "metadata": {},
   "outputs": [],
   "source": []
  },
  {
   "cell_type": "code",
   "execution_count": null,
   "metadata": {},
   "outputs": [],
   "source": []
  }
 ],
 "metadata": {
  "kernelspec": {
   "display_name": "Python 3",
   "language": "python",
   "name": "python3"
  },
  "language_info": {
   "codemirror_mode": {
    "name": "ipython",
    "version": 3
   },
   "file_extension": ".py",
   "mimetype": "text/x-python",
   "name": "python",
   "nbconvert_exporter": "python",
   "pygments_lexer": "ipython3",
   "version": "3.6.4"
  }
 },
 "nbformat": 4,
 "nbformat_minor": 2
}
