{
 "cells": [
  {
   "cell_type": "code",
   "execution_count": 1,
   "metadata": {},
   "outputs": [],
   "source": [
    "from matplotlib import pyplot as plt\n",
    "%matplotlib inline\n",
    "import json"
   ]
  },
  {
   "cell_type": "code",
   "execution_count": 21,
   "metadata": {},
   "outputs": [],
   "source": [
    "with open('2ndnovember_shift_1215.json') as f:\n",
    "    employees = json.loads(f.read())\n",
    "\n",
    "with open('dist_matrix.json') as f:\n",
    "    distance_matrix = json.loads(f.read())\n",
    "\n",
    "    cab_types = ['INDICA', 'SUMO', 'TRAVELLER']\n",
    "price = [15, 15, 20]\n",
    "with open('home_to_office.json') as f:\n",
    "    home_to_office_dist = json.loads(f.read())\n",
    "employee_count = len(employees)"
   ]
  },
  {
   "cell_type": "code",
   "execution_count": 9,
   "metadata": {},
   "outputs": [],
   "source": [
    "def get_seat(cab):\n",
    "    if cab is 'INDICA':\n",
    "        return 4\n",
    "    elif cab is 'SUMO':\n",
    "        return 6\n",
    "    else:\n",
    "        return 12"
   ]
  },
  {
   "cell_type": "code",
   "execution_count": 10,
   "metadata": {},
   "outputs": [],
   "source": [
    "def get_cab(n):\n",
    "    if n <=4:\n",
    "        return 'INDICA'\n",
    "    elif n <=6:\n",
    "        return 'SUMO'\n",
    "    else:\n",
    "        return 'TRAVELLER'"
   ]
  },
  {
   "cell_type": "code",
   "execution_count": 11,
   "metadata": {},
   "outputs": [],
   "source": [
    "def cab_occupancy(poools):\n",
    "    # pool_count_with_types\n",
    "    empcnt = 0 \n",
    "    pool_cnts = {}\n",
    "    for pool in poools:\n",
    "        if len(pool) not in pool_cnts:\n",
    "            pool_cnts[len(pool)] = 0\n",
    "        pool_cnts[len(pool)] += 1\n",
    "    ret = [0, 0, 0]\n",
    "    for k,val in pool_cnts.items():\n",
    "        print(\"{}           => {}\".format(str(k), str(val)))\n",
    "        if k <=4:\n",
    "            ret[0] += k * val\n",
    "        elif k<=6:\n",
    "            ret[1] += k*val\n",
    "        else:\n",
    "            ret[2] += k*val\n",
    "    return ret"
   ]
  },
  {
   "cell_type": "code",
   "execution_count": 23,
   "metadata": {},
   "outputs": [],
   "source": [
    "def cab_occupancy(poools):\n",
    "    # pool_count_with_types\n",
    "    empcnt = 0 \n",
    "    pool_cnts = {}\n",
    "    for pool in poools:\n",
    "        if len(pool) not in pool_cnts:\n",
    "            pool_cnts[len(pool)] = 0\n",
    "        pool_cnts[len(pool)] += 1\n",
    "    ret = [0, 0, 0]\n",
    "    for k,val in pool_cnts.items():\n",
    "        print(\"{}           => {}\".format(str(k), str(val)))\n",
    "        if k <=4:\n",
    "            ret[0] += k * val\n",
    "        elif k<=6:\n",
    "            ret[1] += k*val\n",
    "        else:\n",
    "            ret[2] += k*val\n",
    "    return ret\n",
    "def droute_dist(pool, employee_dists, employee_droute, employee_cabs):\n",
    "    rev = pool[::-1]\n",
    "    cur = rev[0]\n",
    "    idd = employees.index(cur)\n",
    "    total_dist = home_to_office_dist[idd]\n",
    "    employee_dists[idd] = total_dist\n",
    "    employee_droute[idd] = 1\n",
    "    droutes = [1]\n",
    "    cab = get_cab(len(pool))\n",
    "    employee_cabs[idd] = cab\n",
    "    for pick in rev[1:]:\n",
    "        idx = employees.index(cur)\n",
    "        p = employees.index(pick)\n",
    "        dis = distance_matrix[p][idx]\n",
    "        total_dist += dis\n",
    "        x = home_to_office_dist[p]\n",
    "        droute = (total_dist * 1.0) / x  \n",
    "        cur = pick\n",
    "        employee_dists[p] = total_dist\n",
    "        employee_droute[p] = droute\n",
    "        employee_cabs[p] = cab\n",
    "        droutes.append(droute)\n",
    "    return max(droutes), total_dist"
   ]
  },
  {
   "cell_type": "code",
   "execution_count": 19,
   "metadata": {},
   "outputs": [],
   "source": [
    "with open('results.json') as f:\n",
    "    our_result = json.loads(f.read())\n",
    "our_pools = [list(map(lambda i: employees[i], pool)) for pool in our_result]"
   ]
  },
  {
   "cell_type": "code",
   "execution_count": 24,
   "metadata": {},
   "outputs": [],
   "source": [
    "## our pool Count\n",
    "our_count = len(our_pools)\n",
    "our_cabs = list(map(lambda pool: get_cab(len(pool)), our_pools))\n",
    "our_cab_count = [our_cabs.count('INDICA'), our_cabs.count('SUMO'), our_cabs.count('TRAVELLER')]\n",
    "\n",
    "our_cab_wise_droutes = [[], [], []]\n",
    "our_cab_wise_dists = [0, 0, 0]\n",
    "our_employee_wise_droute = [0]*employee_count\n",
    "our_employee_wise_dists = [0]*employee_count\n",
    "our_employee_wise_cabs = ['']*employee_count\n",
    "for pool in our_pools:\n",
    "    droute, total_dist = droute_dist(pool, our_employee_wise_dists, our_employee_wise_droute, our_employee_wise_cabs)\n",
    "    if len(pool) <= 4:\n",
    "        i = 0\n",
    "    elif len(pool) <= 6:\n",
    "        i = 1\n",
    "    else:\n",
    "        i = 2\n",
    "    our_cab_wise_droutes[i].append(droute)\n",
    "    our_cab_wise_dists[i] += total_dist"
   ]
  },
  {
   "cell_type": "code",
   "execution_count": 25,
   "metadata": {},
   "outputs": [],
   "source": [
    "their_pools = []\n",
    "prev = employees[0]\n",
    "cur = [prev]\n",
    "for emp in employees[1:]:\n",
    "    if prev['serial_no'] >= emp['serial_no']:\n",
    "        their_pools.append(cur)\n",
    "        prev = emp \n",
    "        cur = [emp]\n",
    "    else:\n",
    "        cur.append(emp)\n",
    "\n",
    "if cur:\n",
    "    their_pools.append(cur)"
   ]
  },
  {
   "cell_type": "code",
   "execution_count": 26,
   "metadata": {},
   "outputs": [],
   "source": [
    "their_count = len(their_pools)\n",
    "their_cabs = list(map(lambda pool: get_cab(len(pool)), their_pools))\n",
    "their_cab_count = [their_cabs.count('INDICA'), their_cabs.count('SUMO'), their_cabs.count('TRAVELLER')]\n",
    "\n",
    "\n",
    "their_cab_wise_droutes = [[], [], []]\n",
    "their_cab_wise_dists = [0, 0, 0]\n",
    "their_employee_wise_droute = [0]*employee_count\n",
    "their_employee_wise_dists = [0]*employee_count\n",
    "their_employee_wise_cabs = ['']*employee_count\n",
    "for pool in their_pools:\n",
    "    droute, total_dist = droute_dist(pool, their_employee_wise_dists, their_employee_wise_droute, their_employee_wise_cabs)\n",
    "    if len(pool) <= 4:\n",
    "        i = 0\n",
    "    elif len(pool) <= 6:\n",
    "        i = 1\n",
    "    else:\n",
    "        i = 2\n",
    "    their_cab_wise_droutes[i].append(droute)\n",
    "    their_cab_wise_dists[i] += total_dist"
   ]
  },
  {
   "cell_type": "code",
   "execution_count": 27,
   "metadata": {},
   "outputs": [],
   "source": [
    "their_stats = {}\n",
    "our_stats = {}"
   ]
  },
  {
   "cell_type": "code",
   "execution_count": 28,
   "metadata": {},
   "outputs": [
    {
     "name": "stdout",
     "output_type": "stream",
     "text": [
      "INDICA :34\n",
      "SUMO :14\n",
      "TRAVELLER :18\n"
     ]
    }
   ],
   "source": [
    "their_stats['cab_count'] = {}\n",
    "for tp, cnt in zip(cab_types, their_cab_count):\n",
    "    their_stats['cab_count'][tp] = cnt\n",
    "    print('{} :{}'.format(tp, cnt))"
   ]
  },
  {
   "cell_type": "code",
   "execution_count": 29,
   "metadata": {},
   "outputs": [
    {
     "name": "stdout",
     "output_type": "stream",
     "text": [
      "INDICA :4\n",
      "SUMO :6\n",
      "TRAVELLER :28\n"
     ]
    }
   ],
   "source": [
    "our_stats['cab_count'] = {}\n",
    "for tp, cnt in zip(cab_types, our_cab_count):\n",
    "    our_stats['cab_count'][tp] = cnt\n",
    "    print('{} :{}'.format(tp, cnt))"
   ]
  },
  {
   "cell_type": "code",
   "execution_count": 30,
   "metadata": {},
   "outputs": [
    {
     "name": "stdout",
     "output_type": "stream",
     "text": [
      "~~~~~~~~~~~~~~~~~~TOTAL DISTANCE COVERED BY DIFFERENT CAB TYPES~~~~~~~~~~~~~~~~~\n",
      "INDICA :872.29868\n",
      "SUMO :455.906\n",
      "TRAVELLER :643.1962000000001\n"
     ]
    }
   ],
   "source": [
    "print(\"~~~~~~~~~~~~~~~~~~TOTAL DISTANCE COVERED BY DIFFERENT CAB TYPES~~~~~~~~~~~~~~~~~\")\n",
    "their_stats['cab_wise_distance'] = {}\n",
    "for tp, dist in zip(cab_types, their_cab_wise_dists):\n",
    "    print('{} :{}'.format(tp, dist/1000.0))\n",
    "    their_stats['cab_wise_distance'][tp] = dist/1000.0"
   ]
  },
  {
   "cell_type": "code",
   "execution_count": 31,
   "metadata": {},
   "outputs": [
    {
     "name": "stdout",
     "output_type": "stream",
     "text": [
      "~~~~~~~~~~~~~~~~~~TOTAL DISTANCE COVERED BY DIFFERENT CAB TYPES~~~~~~~~~~~~~~~~~\n",
      "INDICA :42.129\n",
      "SUMO :136.302\n",
      "TRAVELLER :840.1518400000001\n"
     ]
    }
   ],
   "source": [
    "print(\"~~~~~~~~~~~~~~~~~~TOTAL DISTANCE COVERED BY DIFFERENT CAB TYPES~~~~~~~~~~~~~~~~~\")\n",
    "our_stats['cab_wise_distance'] = {}\n",
    "for tp, dist in zip(cab_types, our_cab_wise_dists):\n",
    "    print('{} :{}'.format(tp, dist/1000.0))\n",
    "    our_stats['cab_wise_distance'][tp] = dist/1000.0"
   ]
  },
  {
   "cell_type": "code",
   "execution_count": 32,
   "metadata": {},
   "outputs": [
    {
     "name": "stdout",
     "output_type": "stream",
     "text": [
      "~~~~~~~~~~~~~~~~~~AVERAGE DISTANCE COVERED BY A SINGLE CAB OF DIFFERENT TYPES~~~~~~~~~~~~~~~~~\n",
      "INDICA :25.65584352941176\n",
      "SUMO :32.56471428571429\n",
      "TRAVELLER :35.73312222222223\n"
     ]
    }
   ],
   "source": [
    "their_stats['cab_wise_avg_distance'] = {}\n",
    "for i in range(3):\n",
    "    print('{} :{}'.format(cab_types[i], their_cab_wise_dists[i]/(1000.0*their_cab_count[i])))  \n",
    "    their_stats['cab_wise_avg_distance'][cab_types[i]] = their_cab_wise_dists[i]/(1000.0*their_cab_count[i])"
   ]
  },
  {
   "cell_type": "code",
   "execution_count": 33,
   "metadata": {},
   "outputs": [
    {
     "name": "stdout",
     "output_type": "stream",
     "text": [
      "~~~~~~~~~~~~~~~~~~AVERAGE DISTANCE COVERED BY A SINGLE CAB OF DIFFERENT TYPES~~~~~~~~~~~~~~~~~\n",
      "INDICA :10.53225\n",
      "SUMO :22.717\n",
      "TRAVELLER :30.00542285714286\n"
     ]
    }
   ],
   "source": [
    "print(\"~~~~~~~~~~~~~~~~~~AVERAGE DISTANCE COVERED BY A SINGLE CAB OF DIFFERENT TYPES~~~~~~~~~~~~~~~~~\")\n",
    "our_stats['cab_wise_avg_distance'] = {}\n",
    "for i in range(3):\n",
    "    print('{} :{}'.format(cab_types[i], our_cab_wise_dists[i]/(1000.0*our_cab_count[i])))  \n",
    "    our_stats['cab_wise_avg_distance'][cab_types[i]] = our_cab_wise_dists[i]/(1000.0*our_cab_count[i])"
   ]
  },
  {
   "cell_type": "code",
   "execution_count": 34,
   "metadata": {},
   "outputs": [
    {
     "name": "stdout",
     "output_type": "stream",
     "text": [
      "~~~~~~~~~~~~~~~~~~TOTAL Price Paid For DIFFERENT CAB TYPES~~~~~~~~~~~~~~~~~\n",
      "INDICA :13084.4802\n",
      "SUMO :6838.59\n",
      "TRAVELLER :12863.924000000003\n",
      "Their Total Price: :32786.9942\n"
     ]
    }
   ],
   "source": [
    "print(\"~~~~~~~~~~~~~~~~~~TOTAL Price Paid For DIFFERENT CAB TYPES:THEIRS~~~~~~~~~~~~~~~~~\")\n",
    "their_stats['cab_type_price'] = {}\n",
    "their_total_price = 0\n",
    "for i in range(3):\n",
    "    prc = price[i]*(their_cab_wise_dists[i]/1000.0)\n",
    "    print('{} :{}'.format(cab_types[i],  prc))\n",
    "    their_stats['cab_type_price'][cab_types[i]] = prc\n",
    "    their_total_price += prc\n",
    "their_stats['total_price'] = their_total_price\n",
    "print('Their Total Price: :{}'.format(their_total_price))"
   ]
  },
  {
   "cell_type": "code",
   "execution_count": 35,
   "metadata": {},
   "outputs": [
    {
     "name": "stdout",
     "output_type": "stream",
     "text": [
      "~~~~~~~~~~~~~~~~~~TOTAL Price Paid For DIFFERENT CAB TYPES:OURS~~~~~~~~~~~~~~~~~\n",
      "INDICA :631.935\n",
      "SUMO :2044.53\n",
      "TRAVELLER :16803.0368\n",
      "Our Total Price: :19479.501800000002\n"
     ]
    }
   ],
   "source": [
    "print(\"~~~~~~~~~~~~~~~~~~TOTAL Price Paid For DIFFERENT CAB TYPES:OURS~~~~~~~~~~~~~~~~~\")\n",
    "our_total_price = 0\n",
    "our_stats['cab_type_price'] = {}\n",
    "for i in range(3):\n",
    "    prc = price[i]*(our_cab_wise_dists[i]/1000.0)\n",
    "    our_stats['cab_type_price'][cab_types[i]] = prc\n",
    "    print('{} :{}'.format(cab_types[i],  prc))\n",
    "    our_total_price += prc\n",
    "our_stats['total_price'] = our_total_price\n",
    "print('Our Total Price: :{}'.format(our_total_price))"
   ]
  },
  {
   "cell_type": "code",
   "execution_count": 36,
   "metadata": {},
   "outputs": [
    {
     "name": "stdout",
     "output_type": "stream",
     "text": [
      "Price Efficiency: 0.6831536317833342\n"
     ]
    }
   ],
   "source": [
    "price_efficiency = their_total_price / our_total_price - 1\n",
    "print(\"Price Efficiency: {}\".format(price_efficiency))"
   ]
  },
  {
   "cell_type": "code",
   "execution_count": 37,
   "metadata": {},
   "outputs": [
    {
     "name": "stdout",
     "output_type": "stream",
     "text": [
      "~~~~~~~~~~~~~~~~~~Cab wise average droutes:Theirs ~~~~~~~~~~~~~~~~~\n",
      "INDICA:     1.3754080727344047\n",
      "SUMO:     1.7617034285420645\n",
      "TRAVELLER:     2.0550577412250264\n"
     ]
    }
   ],
   "source": [
    "print(\"~~~~~~~~~~~~~~~~~~Cab wise average droutes:Theirs ~~~~~~~~~~~~~~~~~\")\n",
    "their_stats['cab_wise_avg_droutes'] = {}\n",
    "for typ, droutes in zip(cab_types, their_cab_wise_droutes):\n",
    "    print(\"{}:     {}\".format(typ, sum(droutes)/len(droutes)))\n",
    "    their_stats['cab_wise_avg_droutes'][typ] = sum(droutes)/len(droutes)"
   ]
  },
  {
   "cell_type": "code",
   "execution_count": 39,
   "metadata": {},
   "outputs": [
    {
     "name": "stdout",
     "output_type": "stream",
     "text": [
      "~~~~~~~~~~~~~~~~~~Cab wise average droutes: ~~~~~~~~~~~~~~~~~\n",
      "INDICA:     1.0062503668055638\n",
      "SUMO:     1.1390297035202581\n",
      "TRAVELLER:     1.2348321025309297\n"
     ]
    }
   ],
   "source": [
    "print(\"~~~~~~~~~~~~~~~~~~Cab wise average droutes: ~~~~~~~~~~~~~~~~~\")\n",
    "our_stats['cab_wise_avg_droutes'] = {}\n",
    "for typ, droutes in zip(cab_types, our_cab_wise_droutes):\n",
    "    print(\"{}:     {}\".format(typ, sum(droutes)/len(droutes)))\n",
    "    our_stats['cab_wise_avg_droutes'][typ] = sum(droutes)/len(droutes)"
   ]
  },
  {
   "cell_type": "code",
   "execution_count": 40,
   "metadata": {},
   "outputs": [
    {
     "name": "stdout",
     "output_type": "stream",
     "text": [
      "Cab Type: INDICA\n"
     ]
    },
    {
     "data": {
      "text/plain": [
       "<Container object of 34 artists>"
      ]
     },
     "execution_count": 40,
     "metadata": {},
     "output_type": "execute_result"
    },
    {
     "data": {
      "image/png": "[encoded data removed]",
      "text/plain": [
       "<matplotlib.figure.Figure at 0x22f56a4ccc0>"
      ]
     },
     "metadata": {},
     "output_type": "display_data"
    }
   ],
   "source": [
    "print(\"Cab Type: INDICA\")\n",
    "plt.bar(range(len(their_cab_wise_droutes[0])), their_cab_wise_droutes[0])"
   ]
  },
  {
   "cell_type": "code",
   "execution_count": 41,
   "metadata": {},
   "outputs": [
    {
     "name": "stdout",
     "output_type": "stream",
     "text": [
      "Cab Type: SUMO\n"
     ]
    },
    {
     "data": {
      "text/plain": [
       "<Container object of 14 artists>"
      ]
     },
     "execution_count": 41,
     "metadata": {},
     "output_type": "execute_result"
    },
    {
     "data": {
      "image/png": "[encoded data removed]",
      "text/plain": [
       "<matplotlib.figure.Figure at 0x22f56a4c390>"
      ]
     },
     "metadata": {},
     "output_type": "display_data"
    }
   ],
   "source": [
    "print(\"Cab Type: SUMO\")\n",
    "plt.bar(range(len(their_cab_wise_droutes[1])), their_cab_wise_droutes[1])"
   ]
  },
  {
   "cell_type": "code",
   "execution_count": 43,
   "metadata": {},
   "outputs": [
    {
     "name": "stdout",
     "output_type": "stream",
     "text": [
      "Their pool size:     people count\n",
      "2           => 5\n",
      "4           => 17\n",
      "7           => 9\n",
      "3           => 9\n",
      "5           => 9\n",
      "6           => 5\n",
      "8           => 6\n",
      "9           => 2\n",
      "1           => 3\n",
      "10           => 1\n"
     ]
    }
   ],
   "source": [
    "print(\"Their pool size:     people count\")\n",
    "their_occupancy = cab_occupancy(their_pools)"
   ]
  },
  {
   "cell_type": "code",
   "execution_count": 46,
   "metadata": {},
   "outputs": [
    {
     "name": "stdout",
     "output_type": "stream",
     "text": [
      "Their Occupancy\n",
      "CAB TYPE: INDICA       => 0.7941176470588235\n",
      "CAB TYPE: SUMO       => 0.8928571428571429\n",
      "CAB TYPE: TRAVELLER       => 0.6435185185185185\n"
     ]
    }
   ],
   "source": [
    "print(\"Their Occupancy\")\n",
    "their_stats['occupancy'] = {}\n",
    "their_stats['people_by_cab'] = {}\n",
    "for i in range(3):\n",
    "    their_stats['people_by_cab'][cab_types[i]] = their_occupancy[i]\n",
    "    their_stats['occupancy'][cab_types[i]] = their_occupancy[i] / (get_seat(cab_types[i])*their_cab_count[i])\n",
    "    print(\"CAB TYPE: {}       => {}\".format(cab_types[i], their_occupancy[i] / (get_seat(cab_types[i])*their_cab_count[i])))"
   ]
  },
  {
   "cell_type": "code",
   "execution_count": 49,
   "metadata": {},
   "outputs": [
    {
     "name": "stdout",
     "output_type": "stream",
     "text": [
      "Employee Wise droute:Ours-Red, Theirs-Blue\n"
     ]
    },
    {
     "data": {
      "text/plain": [
       "<Container object of 322 artists>"
      ]
     },
     "execution_count": 49,
     "metadata": {},
     "output_type": "execute_result"
    },
    {
     "data": {
      "image/png": "[encoded data removed]",
      "text/plain": [
       "<matplotlib.figure.Figure at 0x22f56c50d30>"
      ]
     },
     "metadata": {},
     "output_type": "display_data"
    }
   ],
   "source": [
    "print(\"Employee Wise droute:Ours-Red, Theirs-Blue\")\n",
    "plt.bar(range(len(their_employee_wise_droute)), their_employee_wise_droute)\n",
    "plt.bar(range(len(our_employee_wise_droute)), our_employee_wise_droute, color='red')"
   ]
  },
  {
   "cell_type": "code",
   "execution_count": 50,
   "metadata": {},
   "outputs": [],
   "source": [
    "good = 0\n",
    "for i in range(len(employees)):\n",
    "    if their_employee_wise_droute[i] >= our_employee_wise_droute[i]:\n",
    "        good +=1"
   ]
  },
  {
   "cell_type": "code",
   "execution_count": 53,
   "metadata": {},
   "outputs": [
    {
     "name": "stdout",
     "output_type": "stream",
     "text": [
      "Employee Wise Distance: Ours:Red, Theirs: Blue\n"
     ]
    },
    {
     "data": {
      "text/plain": [
       "<Container object of 322 artists>"
      ]
     },
     "execution_count": 53,
     "metadata": {},
     "output_type": "execute_result"
    },
    {
     "data": {
      "image/png": "[encoded data removed]",
      "text/plain": [
       "<matplotlib.figure.Figure at 0x22f596b52b0>"
      ]
     },
     "metadata": {},
     "output_type": "display_data"
    }
   ],
   "source": [
    "print(\"Employee Wise Distance: Ours:Red, Theirs: Blue\")\n",
    "plt.bar(range(len(their_employee_wise_dists)), their_employee_wise_dists)\n",
    "plt.bar(range(len(our_employee_wise_dists)), our_employee_wise_dists, color='red')"
   ]
  },
  {
   "cell_type": "code",
   "execution_count": 54,
   "metadata": {},
   "outputs": [
    {
     "data": {
      "text/plain": [
       "'{\"cab_count\": {\"INDICA\": 4, \"SUMO\": 6, \"TRAVELLER\": 28}, \"cab_wise_distance\": {\"INDICA\": 42.129, \"SUMO\": 136.302, \"TRAVELLER\": 840.1518400000001}, \"cab_wise_avg_distance\": {\"INDICA\": 10.53225, \"SUMO\": 22.717, \"TRAVELLER\": 30.00542285714286}, \"cab_type_price\": {\"INDICA\": 631.935, \"SUMO\": 2044.53, \"TRAVELLER\": 16803.0368}, \"total_price\": 19479.501800000002, \"cab_wise_avg_droutes\": {\"INDICA\": 1.0062503668055638, \"SUMO\": 1.1390297035202581, \"TRAVELLER\": 1.2348321025309297}}'"
      ]
     },
     "execution_count": 54,
     "metadata": {},
     "output_type": "execute_result"
    }
   ],
   "source": [
    "json.dumps(their_stats)\n",
    "json.dumps(our_stats)"
   ]
  },
  {
   "cell_type": "code",
   "execution_count": null,
   "metadata": {},
   "outputs": [],
   "source": []
  }
 ],
 "metadata": {
  "kernelspec": {
   "display_name": "Python 3",
   "language": "python",
   "name": "python3"
  },
  "language_info": {
   "codemirror_mode": {
    "name": "ipython",
    "version": 3
   },
   "file_extension": ".py",
   "mimetype": "text/x-python",
   "name": "python",
   "nbconvert_exporter": "python",
   "pygments_lexer": "ipython3",
   "version": "3.6.4"
  }
 },
 "nbformat": 4,
 "nbformat_minor": 2
}
